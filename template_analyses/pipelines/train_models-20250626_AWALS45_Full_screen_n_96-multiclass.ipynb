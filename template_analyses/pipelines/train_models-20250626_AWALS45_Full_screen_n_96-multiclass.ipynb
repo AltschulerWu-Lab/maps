{
 "cells": [
  {
   "cell_type": "code",
   "execution_count": 1,
   "id": "09145b76",
   "metadata": {
    "execution": {
     "iopub.execute_input": "2025-10-08T23:17:05.998933Z",
     "iopub.status.busy": "2025-10-08T23:17:05.998442Z",
     "iopub.status.idle": "2025-10-08T23:17:06.009994Z",
     "shell.execute_reply": "2025-10-08T23:17:06.009049Z"
    },
    "papermill": {
     "duration": 0.017263,
     "end_time": "2025-10-08T23:17:06.011394",
     "exception": false,
     "start_time": "2025-10-08T23:17:05.994131",
     "status": "completed"
    },
    "tags": [
     "parameters"
    ]
   },
   "outputs": [],
   "source": [
    "# ---- Parameters ----\n",
    "SCREEN = \"20250216_AWALS37_Full_screen_n96\"\n",
    "ANALYSIS = \"multiclass\""
   ]
  },
  {
   "cell_type": "code",
   "execution_count": 2,
   "id": "3dff74a0",
   "metadata": {
    "execution": {
     "iopub.execute_input": "2025-10-08T23:17:06.017385Z",
     "iopub.status.busy": "2025-10-08T23:17:06.017134Z",
     "iopub.status.idle": "2025-10-08T23:17:06.020932Z",
     "shell.execute_reply": "2025-10-08T23:17:06.019917Z"
    },
    "papermill": {
     "duration": 0.008253,
     "end_time": "2025-10-08T23:17:06.022246",
     "exception": false,
     "start_time": "2025-10-08T23:17:06.013993",
     "status": "completed"
    },
    "tags": [
     "injected-parameters"
    ]
   },
   "outputs": [],
   "source": [
    "# Parameters\n",
    "SCREEN = \"20250626_AWALS45_Full_screen_n_96\"\n",
    "ANALYSIS = \"multiclass\"\n"
   ]
  },
  {
   "cell_type": "code",
   "execution_count": 3,
   "id": "f2aa07b7",
   "metadata": {
    "execution": {
     "iopub.execute_input": "2025-10-08T23:17:06.026156Z",
     "iopub.status.busy": "2025-10-08T23:17:06.025918Z",
     "iopub.status.idle": "2025-10-08T23:17:06.883950Z",
     "shell.execute_reply": "2025-10-08T23:17:06.883043Z"
    },
    "papermill": {
     "duration": 0.862194,
     "end_time": "2025-10-08T23:17:06.885962",
     "exception": false,
     "start_time": "2025-10-08T23:17:06.023768",
     "status": "completed"
    },
    "tags": []
   },
   "outputs": [],
   "source": [
    "from maps.screens import ImageScreenMultiAntibody\n",
    "import json\n",
    "from pathlib import Path\n",
    "\n",
    "\n",
    "# --- Initialize parameters ---\n",
    "pdir = Path(\"/home/kkumbier/als/scripts/pipelines/params\")\n",
    "with open(pdir / f\"{ANALYSIS}.json\", \"r\") as f:\n",
    "    params = json.load(f)\n",
    "\n",
    "params[\"screen\"] = SCREEN"
   ]
  },
  {
   "cell_type": "code",
   "execution_count": 4,
   "id": "9922e4f1",
   "metadata": {
    "execution": {
     "iopub.execute_input": "2025-10-08T23:17:06.893417Z",
     "iopub.status.busy": "2025-10-08T23:17:06.892951Z",
     "iopub.status.idle": "2025-10-08T23:19:12.538998Z",
     "shell.execute_reply": "2025-10-08T23:19:12.537900Z"
    },
    "papermill": {
     "duration": 125.65216,
     "end_time": "2025-10-08T23:19:12.541723",
     "exception": false,
     "start_time": "2025-10-08T23:17:06.889563",
     "status": "completed"
    },
    "tags": []
   },
   "outputs": [
    {
     "name": "stdout",
     "output_type": "stream",
     "text": [
      "Processing data...\n"
     ]
    },
    {
     "name": "stdout",
     "output_type": "stream",
     "text": [
      "Preprocessing complete\n",
      "Marker set: FUS/EEA1\n",
      "Data: (80217, 319)\n",
      "Marker set: COX IV/Galectin3/atubulin\n",
      "Data: (97171, 319)\n"
     ]
    }
   ],
   "source": [
    "# Load and process screens for train / test\n",
    "screen = ImageScreenMultiAntibody(params)\n",
    "screen.load(antibody=params[\"antibodies\"])\n",
    "\n",
    "print(\"Processing data...\")\n",
    "screen.preprocess()\n",
    "assert screen.data is not None, \"Loading failed\"\n",
    "\n",
    "for ab in params[\"antibodies\"]:\n",
    "    print(f\"Marker set: {ab}\")\n",
    "    print(f\"Data: {screen.data[ab].shape}\")"
   ]
  },
  {
   "cell_type": "code",
   "execution_count": 5,
   "id": "ec4e4972",
   "metadata": {
    "execution": {
     "iopub.execute_input": "2025-10-08T23:19:12.547372Z",
     "iopub.status.busy": "2025-10-08T23:19:12.546914Z",
     "iopub.status.idle": "2025-10-09T00:09:59.341004Z",
     "shell.execute_reply": "2025-10-09T00:09:59.338843Z"
    },
    "papermill": {
     "duration": 3046.799576,
     "end_time": "2025-10-09T00:09:59.343632",
     "exception": false,
     "start_time": "2025-10-08T23:19:12.544056",
     "status": "completed"
    },
    "tags": []
   },
   "outputs": [
    {
     "name": "stdout",
     "output_type": "stream",
     "text": [
      "Starting cell-level training...\n"
     ]
    },
    {
     "name": "stdout",
     "output_type": "stream",
     "text": [
      "Cell Epoch 1/100, Overall Loss: 1.5269, Active: 2/2\n",
      "  COX IV/Galectin3/atubulin - Loss: 1.4942, Acc: 0.2630 \n",
      "  FUS/EEA1 - Loss: 1.5595, Acc: 0.2313 \n"
     ]
    },
    {
     "name": "stdout",
     "output_type": "stream",
     "text": [
      "Cell Epoch 2/100, Overall Loss: 1.4335, Active: 2/2\n",
      "  COX IV/Galectin3/atubulin - Loss: 1.4166, Acc: 0.3029 \n",
      "  FUS/EEA1 - Loss: 1.4503, Acc: 0.2883 \n"
     ]
    },
    {
     "name": "stdout",
     "output_type": "stream",
     "text": [
      "Cell Epoch 3/100, Overall Loss: 1.4072, Active: 2/2\n",
      "  COX IV/Galectin3/atubulin - Loss: 1.3878, Acc: 0.3272 \n",
      "  FUS/EEA1 - Loss: 1.4267, Acc: 0.2983 \n"
     ]
    },
    {
     "name": "stdout",
     "output_type": "stream",
     "text": [
      "Cell Epoch 4/100, Overall Loss: 1.3868, Active: 2/2\n",
      "  COX IV/Galectin3/atubulin - Loss: 1.3595, Acc: 0.3541 \n",
      "  FUS/EEA1 - Loss: 1.4141, Acc: 0.3219 \n"
     ]
    },
    {
     "name": "stdout",
     "output_type": "stream",
     "text": [
      "Cell Epoch 5/100, Overall Loss: 1.3509, Active: 2/2\n",
      "  COX IV/Galectin3/atubulin - Loss: 1.3353, Acc: 0.3719 \n",
      "  FUS/EEA1 - Loss: 1.3666, Acc: 0.3535 \n"
     ]
    },
    {
     "name": "stdout",
     "output_type": "stream",
     "text": [
      "Cell Epoch 6/100, Overall Loss: 1.3667, Active: 2/2\n",
      "  COX IV/Galectin3/atubulin - Loss: 1.3322, Acc: 0.3745 \n",
      "  FUS/EEA1 - Loss: 1.4011, Acc: 0.3289 \n"
     ]
    },
    {
     "name": "stdout",
     "output_type": "stream",
     "text": [
      "Cell Epoch 7/100, Overall Loss: 1.3491, Active: 2/2\n",
      "  COX IV/Galectin3/atubulin - Loss: 1.3425, Acc: 0.3669 \n",
      "  FUS/EEA1 - Loss: 1.3558, Acc: 0.3483 \n"
     ]
    },
    {
     "name": "stdout",
     "output_type": "stream",
     "text": [
      "Cell Epoch 8/100, Overall Loss: 1.3370, Active: 2/2\n",
      "  COX IV/Galectin3/atubulin - Loss: 1.3334, Acc: 0.3679 \n",
      "  FUS/EEA1 - Loss: 1.3406, Acc: 0.3563 \n"
     ]
    },
    {
     "name": "stdout",
     "output_type": "stream",
     "text": [
      "Cell Epoch 9/100, Overall Loss: 1.3425, Active: 2/2\n",
      "  COX IV/Galectin3/atubulin - Loss: 1.3198, Acc: 0.3800 \n",
      "  FUS/EEA1 - Loss: 1.3652, Acc: 0.3403 \n"
     ]
    },
    {
     "name": "stdout",
     "output_type": "stream",
     "text": [
      "Cell Epoch 10/100, Overall Loss: 1.3372, Active: 2/2\n",
      "  COX IV/Galectin3/atubulin - Loss: 1.3117, Acc: 0.3899 \n",
      "  FUS/EEA1 - Loss: 1.3627, Acc: 0.3396 \n"
     ]
    },
    {
     "name": "stdout",
     "output_type": "stream",
     "text": [
      "Cell Epoch 11/100, Overall Loss: 1.3355, Active: 2/2\n",
      "  COX IV/Galectin3/atubulin - Loss: 1.3060, Acc: 0.3946 \n",
      "  FUS/EEA1 - Loss: 1.3650, Acc: 0.3430 \n"
     ]
    },
    {
     "name": "stdout",
     "output_type": "stream",
     "text": [
      "Cell Epoch 12/100, Overall Loss: 1.3331, Active: 2/2\n",
      "  COX IV/Galectin3/atubulin - Loss: 1.3156, Acc: 0.3818 \n",
      "  FUS/EEA1 - Loss: 1.3505, Acc: 0.3542 \n"
     ]
    },
    {
     "name": "stdout",
     "output_type": "stream",
     "text": [
      "Cell Epoch 13/100, Overall Loss: 1.3109, Active: 2/2\n",
      "  COX IV/Galectin3/atubulin - Loss: 1.3138, Acc: 0.3873 \n",
      "  FUS/EEA1 - Loss: 1.3080, Acc: 0.3842 \n"
     ]
    },
    {
     "name": "stdout",
     "output_type": "stream",
     "text": [
      "Cell Epoch 14/100, Overall Loss: 1.2924, Active: 2/2\n",
      "  COX IV/Galectin3/atubulin - Loss: 1.2909, Acc: 0.4012 \n",
      "  FUS/EEA1 - Loss: 1.2940, Acc: 0.3924 \n"
     ]
    },
    {
     "name": "stdout",
     "output_type": "stream",
     "text": [
      "Cell Epoch 15/100, Overall Loss: 1.3154, Active: 2/2\n",
      "  COX IV/Galectin3/atubulin - Loss: 1.3040, Acc: 0.3966 \n",
      "  FUS/EEA1 - Loss: 1.3268, Acc: 0.3748 \n"
     ]
    },
    {
     "name": "stdout",
     "output_type": "stream",
     "text": [
      "Cell Epoch 16/100, Overall Loss: 1.3143, Active: 2/2\n",
      "  COX IV/Galectin3/atubulin - Loss: 1.2752, Acc: 0.4164 \n",
      "  FUS/EEA1 - Loss: 1.3535, Acc: 0.3470 \n"
     ]
    },
    {
     "name": "stdout",
     "output_type": "stream",
     "text": [
      "Cell Epoch 17/100, Overall Loss: 1.3050, Active: 2/2\n",
      "  COX IV/Galectin3/atubulin - Loss: 1.2914, Acc: 0.4091 \n",
      "  FUS/EEA1 - Loss: 1.3187, Acc: 0.3773 \n"
     ]
    },
    {
     "name": "stdout",
     "output_type": "stream",
     "text": [
      "Cell Epoch 18/100, Overall Loss: 1.2934, Active: 2/2\n",
      "  COX IV/Galectin3/atubulin - Loss: 1.2801, Acc: 0.4123 \n",
      "  FUS/EEA1 - Loss: 1.3068, Acc: 0.3803 \n"
     ]
    },
    {
     "name": "stdout",
     "output_type": "stream",
     "text": [
      "  Freezing FUS/EEA1 encoder at epoch 19\n",
      "Cell Epoch 19/100, Overall Loss: 1.3038, Active: 1/2\n",
      "  COX IV/Galectin3/atubulin - Loss: 1.2726, Acc: 0.4206 \n",
      "  FUS/EEA1 - Loss: 1.3349, Acc: 0.3618 [FROZEN]\n"
     ]
    },
    {
     "name": "stderr",
     "output_type": "stream",
     "text": [
      "/awlab/projects/2024_ALS/software/miniforge3/envs/maps/lib/python3.11/site-packages/torch/optim/lr_scheduler.py:182: UserWarning: Detected call of `lr_scheduler.step()` before `optimizer.step()`. In PyTorch 1.1.0 and later, you should call them in the opposite order: `optimizer.step()` before `lr_scheduler.step()`.  Failure to do this will result in PyTorch skipping the first value of the learning rate schedule. See more details at https://pytorch.org/docs/stable/optim.html#how-to-adjust-learning-rate\n",
      "  warnings.warn(\n"
     ]
    },
    {
     "name": "stdout",
     "output_type": "stream",
     "text": [
      "Cell Epoch 20/100, Overall Loss: 1.2792, Active: 1/2\n",
      "  COX IV/Galectin3/atubulin - Loss: 1.2792, Acc: 0.4076 \n",
      "  FUS/EEA1 - Loss: 0.0000, Acc: 0.0000 [FROZEN]\n"
     ]
    },
    {
     "name": "stdout",
     "output_type": "stream",
     "text": [
      "Cell Epoch 21/100, Overall Loss: 1.2580, Active: 1/2\n",
      "  COX IV/Galectin3/atubulin - Loss: 1.2580, Acc: 0.4310 \n",
      "  FUS/EEA1 - Loss: 0.0000, Acc: 0.0000 [FROZEN]\n"
     ]
    },
    {
     "name": "stdout",
     "output_type": "stream",
     "text": [
      "Cell Epoch 22/100, Overall Loss: 1.3144, Active: 1/2\n",
      "  COX IV/Galectin3/atubulin - Loss: 1.3144, Acc: 0.3777 \n",
      "  FUS/EEA1 - Loss: 0.0000, Acc: 0.0000 [FROZEN]\n"
     ]
    },
    {
     "name": "stdout",
     "output_type": "stream",
     "text": [
      "Cell Epoch 23/100, Overall Loss: 1.2833, Active: 1/2\n",
      "  COX IV/Galectin3/atubulin - Loss: 1.2833, Acc: 0.4122 \n",
      "  FUS/EEA1 - Loss: 0.0000, Acc: 0.0000 [FROZEN]\n"
     ]
    },
    {
     "name": "stdout",
     "output_type": "stream",
     "text": [
      "Cell Epoch 24/100, Overall Loss: 1.2558, Active: 1/2\n",
      "  COX IV/Galectin3/atubulin - Loss: 1.2558, Acc: 0.4371 \n",
      "  FUS/EEA1 - Loss: 0.0000, Acc: 0.0000 [FROZEN]\n"
     ]
    },
    {
     "name": "stdout",
     "output_type": "stream",
     "text": [
      "Cell Epoch 25/100, Overall Loss: 1.2767, Active: 1/2\n",
      "  COX IV/Galectin3/atubulin - Loss: 1.2767, Acc: 0.4224 \n",
      "  FUS/EEA1 - Loss: 0.0000, Acc: 0.0000 [FROZEN]\n"
     ]
    },
    {
     "name": "stdout",
     "output_type": "stream",
     "text": [
      "Cell Epoch 26/100, Overall Loss: 1.2588, Active: 1/2\n",
      "  COX IV/Galectin3/atubulin - Loss: 1.2588, Acc: 0.4300 \n",
      "  FUS/EEA1 - Loss: 0.0000, Acc: 0.0000 [FROZEN]\n"
     ]
    },
    {
     "name": "stdout",
     "output_type": "stream",
     "text": [
      "Cell Epoch 27/100, Overall Loss: 1.2680, Active: 1/2\n",
      "  COX IV/Galectin3/atubulin - Loss: 1.2680, Acc: 0.4234 \n",
      "  FUS/EEA1 - Loss: 0.0000, Acc: 0.0000 [FROZEN]\n"
     ]
    },
    {
     "name": "stdout",
     "output_type": "stream",
     "text": [
      "Cell Epoch 28/100, Overall Loss: 1.2157, Active: 1/2\n",
      "  COX IV/Galectin3/atubulin - Loss: 1.2157, Acc: 0.4715 \n",
      "  FUS/EEA1 - Loss: 0.0000, Acc: 0.0000 [FROZEN]\n"
     ]
    },
    {
     "name": "stdout",
     "output_type": "stream",
     "text": [
      "Cell Epoch 29/100, Overall Loss: 1.2374, Active: 1/2\n",
      "  COX IV/Galectin3/atubulin - Loss: 1.2374, Acc: 0.4502 \n",
      "  FUS/EEA1 - Loss: 0.0000, Acc: 0.0000 [FROZEN]\n"
     ]
    },
    {
     "name": "stdout",
     "output_type": "stream",
     "text": [
      "Cell Epoch 30/100, Overall Loss: 1.2576, Active: 1/2\n",
      "  COX IV/Galectin3/atubulin - Loss: 1.2576, Acc: 0.4210 \n",
      "  FUS/EEA1 - Loss: 0.0000, Acc: 0.0000 [FROZEN]\n"
     ]
    },
    {
     "name": "stdout",
     "output_type": "stream",
     "text": [
      "Cell Epoch 31/100, Overall Loss: 1.2441, Active: 1/2\n",
      "  COX IV/Galectin3/atubulin - Loss: 1.2441, Acc: 0.4396 \n",
      "  FUS/EEA1 - Loss: 0.0000, Acc: 0.0000 [FROZEN]\n"
     ]
    },
    {
     "name": "stdout",
     "output_type": "stream",
     "text": [
      "Cell Epoch 32/100, Overall Loss: 1.2590, Active: 1/2\n",
      "  COX IV/Galectin3/atubulin - Loss: 1.2590, Acc: 0.4309 \n",
      "  FUS/EEA1 - Loss: 0.0000, Acc: 0.0000 [FROZEN]\n"
     ]
    },
    {
     "name": "stdout",
     "output_type": "stream",
     "text": [
      "  Freezing COX IV/Galectin3/atubulin encoder at epoch 33\n",
      "Cell Epoch 33/100, Overall Loss: 1.2331, Active: 0/2\n",
      "  COX IV/Galectin3/atubulin - Loss: 1.2331, Acc: 0.4528 [FROZEN]\n",
      "  FUS/EEA1 - Loss: 0.0000, Acc: 0.0000 [FROZEN]\n",
      "All antibodies frozen - stopping cell training at epoch 33\n",
      "Starting line-level training...\n",
      "Unfreezing all antibody encoders for line training...\n"
     ]
    },
    {
     "name": "stdout",
     "output_type": "stream",
     "text": [
      "Line Epoch 1/100, Loss: 1.5980\n"
     ]
    },
    {
     "name": "stdout",
     "output_type": "stream",
     "text": [
      "Line Epoch 2/100, Loss: 1.6831\n"
     ]
    },
    {
     "name": "stdout",
     "output_type": "stream",
     "text": [
      "Line Epoch 3/100, Loss: 1.4984\n"
     ]
    },
    {
     "name": "stdout",
     "output_type": "stream",
     "text": [
      "Line Epoch 4/100, Loss: 1.3870\n"
     ]
    },
    {
     "name": "stdout",
     "output_type": "stream",
     "text": [
      "Line Epoch 5/100, Loss: 1.3469\n"
     ]
    },
    {
     "name": "stdout",
     "output_type": "stream",
     "text": [
      "Line Epoch 6/100, Loss: 1.3454\n"
     ]
    },
    {
     "name": "stdout",
     "output_type": "stream",
     "text": [
      "Line Epoch 7/100, Loss: 1.2318\n"
     ]
    },
    {
     "name": "stdout",
     "output_type": "stream",
     "text": [
      "Line Epoch 8/100, Loss: 1.2805\n"
     ]
    },
    {
     "name": "stdout",
     "output_type": "stream",
     "text": [
      "Line Epoch 9/100, Loss: 1.1562\n"
     ]
    },
    {
     "name": "stdout",
     "output_type": "stream",
     "text": [
      "Line Epoch 10/100, Loss: 1.1741\n"
     ]
    },
    {
     "name": "stdout",
     "output_type": "stream",
     "text": [
      "Line Epoch 11/100, Loss: 1.0913\n"
     ]
    },
    {
     "name": "stdout",
     "output_type": "stream",
     "text": [
      "Line Epoch 12/100, Loss: 1.1057\n"
     ]
    },
    {
     "name": "stdout",
     "output_type": "stream",
     "text": [
      "Line Epoch 13/100, Loss: 1.0475\n"
     ]
    },
    {
     "name": "stdout",
     "output_type": "stream",
     "text": [
      "Line Epoch 14/100, Loss: 1.1013\n"
     ]
    },
    {
     "name": "stdout",
     "output_type": "stream",
     "text": [
      "Line Epoch 15/100, Loss: 1.2222\n"
     ]
    },
    {
     "name": "stdout",
     "output_type": "stream",
     "text": [
      "Line Epoch 16/100, Loss: 1.0292\n"
     ]
    },
    {
     "name": "stdout",
     "output_type": "stream",
     "text": [
      "Line Epoch 17/100, Loss: 1.0404\n"
     ]
    },
    {
     "name": "stdout",
     "output_type": "stream",
     "text": [
      "Line Epoch 18/100, Loss: 0.9988\n"
     ]
    },
    {
     "name": "stdout",
     "output_type": "stream",
     "text": [
      "Line Epoch 19/100, Loss: 0.9440\n"
     ]
    },
    {
     "name": "stdout",
     "output_type": "stream",
     "text": [
      "Line Epoch 20/100, Loss: 0.9328\n"
     ]
    },
    {
     "name": "stdout",
     "output_type": "stream",
     "text": [
      "Line Epoch 21/100, Loss: 0.9281\n"
     ]
    },
    {
     "name": "stdout",
     "output_type": "stream",
     "text": [
      "Line Epoch 22/100, Loss: 1.0422\n"
     ]
    },
    {
     "name": "stdout",
     "output_type": "stream",
     "text": [
      "Line Epoch 23/100, Loss: 1.0434\n"
     ]
    },
    {
     "name": "stdout",
     "output_type": "stream",
     "text": [
      "Line Epoch 24/100, Loss: 0.9645\n"
     ]
    },
    {
     "name": "stdout",
     "output_type": "stream",
     "text": [
      "Line Epoch 25/100, Loss: 0.9591\n"
     ]
    },
    {
     "name": "stdout",
     "output_type": "stream",
     "text": [
      "Line Epoch 26/100, Loss: 0.9324\n",
      "Early stopping line training at epoch 26\n",
      "Training completed!\n"
     ]
    },
    {
     "name": "stdout",
     "output_type": "stream",
     "text": [
      "Starting cell-level training...\n"
     ]
    },
    {
     "name": "stdout",
     "output_type": "stream",
     "text": [
      "Cell Epoch 1/100, Overall Loss: 1.4984, Active: 2/2\n",
      "  COX IV/Galectin3/atubulin - Loss: 1.4623, Acc: 0.2725 \n",
      "  FUS/EEA1 - Loss: 1.5345, Acc: 0.2480 \n"
     ]
    },
    {
     "name": "stdout",
     "output_type": "stream",
     "text": [
      "Cell Epoch 2/100, Overall Loss: 1.4447, Active: 2/2\n",
      "  COX IV/Galectin3/atubulin - Loss: 1.4326, Acc: 0.2914 \n",
      "  FUS/EEA1 - Loss: 1.4568, Acc: 0.2831 \n"
     ]
    },
    {
     "name": "stdout",
     "output_type": "stream",
     "text": [
      "Cell Epoch 3/100, Overall Loss: 1.3934, Active: 2/2\n",
      "  COX IV/Galectin3/atubulin - Loss: 1.3798, Acc: 0.3183 \n",
      "  FUS/EEA1 - Loss: 1.4069, Acc: 0.3106 \n"
     ]
    },
    {
     "name": "stdout",
     "output_type": "stream",
     "text": [
      "Cell Epoch 4/100, Overall Loss: 1.3622, Active: 2/2\n",
      "  COX IV/Galectin3/atubulin - Loss: 1.3589, Acc: 0.3272 \n",
      "  FUS/EEA1 - Loss: 1.3655, Acc: 0.3523 \n"
     ]
    },
    {
     "name": "stdout",
     "output_type": "stream",
     "text": [
      "Cell Epoch 5/100, Overall Loss: 1.3861, Active: 2/2\n",
      "  COX IV/Galectin3/atubulin - Loss: 1.3717, Acc: 0.3242 \n",
      "  FUS/EEA1 - Loss: 1.4005, Acc: 0.3154 \n"
     ]
    },
    {
     "name": "stdout",
     "output_type": "stream",
     "text": [
      "Cell Epoch 6/100, Overall Loss: 1.3266, Active: 2/2\n",
      "  COX IV/Galectin3/atubulin - Loss: 1.3292, Acc: 0.3562 \n",
      "  FUS/EEA1 - Loss: 1.3239, Acc: 0.3667 \n"
     ]
    },
    {
     "name": "stdout",
     "output_type": "stream",
     "text": [
      "Cell Epoch 7/100, Overall Loss: 1.3409, Active: 2/2\n",
      "  COX IV/Galectin3/atubulin - Loss: 1.3276, Acc: 0.3548 \n",
      "  FUS/EEA1 - Loss: 1.3542, Acc: 0.3459 \n"
     ]
    },
    {
     "name": "stdout",
     "output_type": "stream",
     "text": [
      "Cell Epoch 8/100, Overall Loss: 1.3265, Active: 2/2\n",
      "  COX IV/Galectin3/atubulin - Loss: 1.3268, Acc: 0.3592 \n",
      "  FUS/EEA1 - Loss: 1.3261, Acc: 0.3710 \n"
     ]
    },
    {
     "name": "stdout",
     "output_type": "stream",
     "text": [
      "Cell Epoch 9/100, Overall Loss: 1.3351, Active: 2/2\n",
      "  COX IV/Galectin3/atubulin - Loss: 1.3403, Acc: 0.3503 \n",
      "  FUS/EEA1 - Loss: 1.3300, Acc: 0.3632 \n"
     ]
    },
    {
     "name": "stdout",
     "output_type": "stream",
     "text": [
      "Cell Epoch 10/100, Overall Loss: 1.3085, Active: 2/2\n",
      "  COX IV/Galectin3/atubulin - Loss: 1.3161, Acc: 0.3642 \n",
      "  FUS/EEA1 - Loss: 1.3009, Acc: 0.3926 \n"
     ]
    },
    {
     "name": "stdout",
     "output_type": "stream",
     "text": [
      "Cell Epoch 11/100, Overall Loss: 1.3139, Active: 2/2\n",
      "  COX IV/Galectin3/atubulin - Loss: 1.3010, Acc: 0.3729 \n",
      "  FUS/EEA1 - Loss: 1.3267, Acc: 0.3749 \n"
     ]
    },
    {
     "name": "stdout",
     "output_type": "stream",
     "text": [
      "Cell Epoch 12/100, Overall Loss: 1.3269, Active: 2/2\n",
      "  COX IV/Galectin3/atubulin - Loss: 1.3183, Acc: 0.3677 \n",
      "  FUS/EEA1 - Loss: 1.3355, Acc: 0.3710 \n"
     ]
    },
    {
     "name": "stdout",
     "output_type": "stream",
     "text": [
      "Cell Epoch 13/100, Overall Loss: 1.3165, Active: 2/2\n",
      "  COX IV/Galectin3/atubulin - Loss: 1.3307, Acc: 0.3597 \n",
      "  FUS/EEA1 - Loss: 1.3023, Acc: 0.3883 \n"
     ]
    },
    {
     "name": "stdout",
     "output_type": "stream",
     "text": [
      "Cell Epoch 14/100, Overall Loss: 1.2947, Active: 2/2\n",
      "  COX IV/Galectin3/atubulin - Loss: 1.2953, Acc: 0.3861 \n",
      "  FUS/EEA1 - Loss: 1.2941, Acc: 0.3901 \n"
     ]
    },
    {
     "name": "stdout",
     "output_type": "stream",
     "text": [
      "Cell Epoch 15/100, Overall Loss: 1.3229, Active: 2/2\n",
      "  COX IV/Galectin3/atubulin - Loss: 1.3307, Acc: 0.3556 \n",
      "  FUS/EEA1 - Loss: 1.3150, Acc: 0.3894 \n"
     ]
    },
    {
     "name": "stdout",
     "output_type": "stream",
     "text": [
      "Cell Epoch 16/100, Overall Loss: 1.3177, Active: 2/2\n",
      "  COX IV/Galectin3/atubulin - Loss: 1.3214, Acc: 0.3661 \n",
      "  FUS/EEA1 - Loss: 1.3140, Acc: 0.3826 \n"
     ]
    },
    {
     "name": "stdout",
     "output_type": "stream",
     "text": [
      "Cell Epoch 17/100, Overall Loss: 1.2950, Active: 2/2\n",
      "  COX IV/Galectin3/atubulin - Loss: 1.2885, Acc: 0.3891 \n",
      "  FUS/EEA1 - Loss: 1.3015, Acc: 0.3952 \n"
     ]
    },
    {
     "name": "stdout",
     "output_type": "stream",
     "text": [
      "Cell Epoch 18/100, Overall Loss: 1.2801, Active: 2/2\n",
      "  COX IV/Galectin3/atubulin - Loss: 1.2945, Acc: 0.3773 \n",
      "  FUS/EEA1 - Loss: 1.2657, Acc: 0.4183 \n"
     ]
    },
    {
     "name": "stdout",
     "output_type": "stream",
     "text": [
      "Cell Epoch 19/100, Overall Loss: 1.3083, Active: 2/2\n",
      "  COX IV/Galectin3/atubulin - Loss: 1.3076, Acc: 0.3839 \n",
      "  FUS/EEA1 - Loss: 1.3089, Acc: 0.3928 \n"
     ]
    },
    {
     "name": "stdout",
     "output_type": "stream",
     "text": [
      "Cell Epoch 20/100, Overall Loss: 1.3077, Active: 2/2\n",
      "  COX IV/Galectin3/atubulin - Loss: 1.3036, Acc: 0.3771 \n",
      "  FUS/EEA1 - Loss: 1.3118, Acc: 0.3902 \n"
     ]
    },
    {
     "name": "stdout",
     "output_type": "stream",
     "text": [
      "Cell Epoch 21/100, Overall Loss: 1.3092, Active: 2/2\n",
      "  COX IV/Galectin3/atubulin - Loss: 1.3250, Acc: 0.3682 \n",
      "  FUS/EEA1 - Loss: 1.2935, Acc: 0.4041 \n"
     ]
    },
    {
     "name": "stdout",
     "output_type": "stream",
     "text": [
      "  Freezing COX IV/Galectin3/atubulin encoder at epoch 22\n",
      "Cell Epoch 22/100, Overall Loss: 1.2876, Active: 1/2\n",
      "  COX IV/Galectin3/atubulin - Loss: 1.3090, Acc: 0.3762 [FROZEN]\n",
      "  FUS/EEA1 - Loss: 1.2662, Acc: 0.4270 \n"
     ]
    },
    {
     "name": "stderr",
     "output_type": "stream",
     "text": [
      "/awlab/projects/2024_ALS/software/miniforge3/envs/maps/lib/python3.11/site-packages/torch/optim/lr_scheduler.py:182: UserWarning: Detected call of `lr_scheduler.step()` before `optimizer.step()`. In PyTorch 1.1.0 and later, you should call them in the opposite order: `optimizer.step()` before `lr_scheduler.step()`.  Failure to do this will result in PyTorch skipping the first value of the learning rate schedule. See more details at https://pytorch.org/docs/stable/optim.html#how-to-adjust-learning-rate\n",
      "  warnings.warn(\n"
     ]
    },
    {
     "name": "stdout",
     "output_type": "stream",
     "text": [
      "  Freezing FUS/EEA1 encoder at epoch 23\n",
      "Cell Epoch 23/100, Overall Loss: 1.2970, Active: 0/2\n",
      "  COX IV/Galectin3/atubulin - Loss: 0.0000, Acc: 0.0000 [FROZEN]\n",
      "  FUS/EEA1 - Loss: 1.2970, Acc: 0.3925 [FROZEN]\n",
      "All antibodies frozen - stopping cell training at epoch 23\n",
      "Starting line-level training...\n",
      "Unfreezing all antibody encoders for line training...\n"
     ]
    },
    {
     "name": "stdout",
     "output_type": "stream",
     "text": [
      "Line Epoch 1/100, Loss: 1.3215\n"
     ]
    },
    {
     "name": "stdout",
     "output_type": "stream",
     "text": [
      "Line Epoch 2/100, Loss: 1.2417\n"
     ]
    },
    {
     "name": "stdout",
     "output_type": "stream",
     "text": [
      "Line Epoch 3/100, Loss: 1.3059\n"
     ]
    },
    {
     "name": "stdout",
     "output_type": "stream",
     "text": [
      "Line Epoch 4/100, Loss: 1.1659\n"
     ]
    },
    {
     "name": "stdout",
     "output_type": "stream",
     "text": [
      "Line Epoch 5/100, Loss: 1.1539\n"
     ]
    },
    {
     "name": "stdout",
     "output_type": "stream",
     "text": [
      "Line Epoch 6/100, Loss: 1.2251\n"
     ]
    },
    {
     "name": "stdout",
     "output_type": "stream",
     "text": [
      "Line Epoch 7/100, Loss: 1.1394\n"
     ]
    },
    {
     "name": "stdout",
     "output_type": "stream",
     "text": [
      "Line Epoch 8/100, Loss: 1.0903\n"
     ]
    },
    {
     "name": "stdout",
     "output_type": "stream",
     "text": [
      "Line Epoch 9/100, Loss: 1.1636\n"
     ]
    },
    {
     "name": "stdout",
     "output_type": "stream",
     "text": [
      "Line Epoch 10/100, Loss: 1.0105\n"
     ]
    },
    {
     "name": "stdout",
     "output_type": "stream",
     "text": [
      "Line Epoch 11/100, Loss: 1.0286\n"
     ]
    },
    {
     "name": "stdout",
     "output_type": "stream",
     "text": [
      "Line Epoch 12/100, Loss: 1.0596\n"
     ]
    },
    {
     "name": "stdout",
     "output_type": "stream",
     "text": [
      "Line Epoch 13/100, Loss: 1.0822\n"
     ]
    },
    {
     "name": "stdout",
     "output_type": "stream",
     "text": [
      "Line Epoch 14/100, Loss: 1.0706\n"
     ]
    },
    {
     "name": "stdout",
     "output_type": "stream",
     "text": [
      "Line Epoch 15/100, Loss: 0.9499\n"
     ]
    },
    {
     "name": "stdout",
     "output_type": "stream",
     "text": [
      "Line Epoch 16/100, Loss: 1.0456\n"
     ]
    },
    {
     "name": "stdout",
     "output_type": "stream",
     "text": [
      "Line Epoch 17/100, Loss: 0.9672\n"
     ]
    },
    {
     "name": "stdout",
     "output_type": "stream",
     "text": [
      "Line Epoch 18/100, Loss: 0.9958\n"
     ]
    },
    {
     "name": "stdout",
     "output_type": "stream",
     "text": [
      "Line Epoch 19/100, Loss: 1.0363\n"
     ]
    },
    {
     "name": "stdout",
     "output_type": "stream",
     "text": [
      "Line Epoch 20/100, Loss: 0.9846\n",
      "Early stopping line training at epoch 20\n",
      "Training completed!\n"
     ]
    }
   ],
   "source": [
    "from maps.analyses import MAP\n",
    "map_analysis = MAP(screen)\n",
    "map_analysis.fit()"
   ]
  },
  {
   "cell_type": "code",
   "execution_count": 6,
   "id": "30a4e9c6",
   "metadata": {
    "execution": {
     "iopub.execute_input": "2025-10-09T00:09:59.367681Z",
     "iopub.status.busy": "2025-10-09T00:09:59.367234Z",
     "iopub.status.idle": "2025-10-09T00:10:00.559271Z",
     "shell.execute_reply": "2025-10-09T00:10:00.558469Z"
    },
    "papermill": {
     "duration": 1.20584,
     "end_time": "2025-10-09T00:10:00.561158",
     "exception": false,
     "start_time": "2025-10-09T00:09:59.355318",
     "status": "completed"
    },
    "tags": []
   },
   "outputs": [],
   "source": [
    "import pickle\n",
    "\n",
    "output_dir = Path(params.get(\"result_dir\")) / params.get(\"screen\")\n",
    "with open(output_dir / f\"{ANALYSIS}.pkl\", \"wb\") as f:\n",
    "    pickle.dump({\"analysis\": map_analysis, \"params\": params}, f)"
   ]
  }
 ],
 "metadata": {
  "kernelspec": {
   "display_name": "maps",
   "language": "python",
   "name": "python3"
  },
  "language_info": {
   "codemirror_mode": {
    "name": "ipython",
    "version": 3
   },
   "file_extension": ".py",
   "mimetype": "text/x-python",
   "name": "python",
   "nbconvert_exporter": "python",
   "pygments_lexer": "ipython3",
   "version": "3.11.13"
  },
  "papermill": {
   "default_parameters": {},
   "duration": 3180.249438,
   "end_time": "2025-10-09T00:10:04.958185",
   "environment_variables": {},
   "exception": null,
   "input_path": "train_models.ipynb",
   "output_path": "train_models-20250626_AWALS45_Full_screen_n_96-multiclass.ipynb",
   "parameters": {
    "ANALYSIS": "multiclass",
    "SCREEN": "20250626_AWALS45_Full_screen_n_96"
   },
   "start_time": "2025-10-08T23:17:04.708747",
   "version": "2.6.0"
  }
 },
 "nbformat": 4,
 "nbformat_minor": 5
}