{
 "cells": [
  {
   "cell_type": "code",
   "execution_count": null,
   "id": "09145b76",
   "metadata": {
    "tags": [
     "parameters"
    ]
   },
   "outputs": [],
   "source": [
    "# ---- Parameters ----\n",
    "SCREEN = \"20250216_AWALS37_Full_screen_n96\"\n",
    "ANALYSIS = \"multiclass\""
   ]
  },
  {
   "cell_type": "code",
   "execution_count": null,
   "id": "f2aa07b7",
   "metadata": {},
   "outputs": [],
   "source": [
    "from maps.screens import ImageScreenMultiAntibody\n",
    "import json\n",
    "from pathlib import Path\n",
    "\n",
    "\n",
    "# --- Initialize parameters ---\n",
    "pdir = Path(\"/home/kkumbier/als/scripts/pipelines/params\")\n",
    "with open(pdir / f\"{ANALYSIS}.json\", \"r\") as f:\n",
    "    params = json.load(f)\n",
    "\n",
    "params[\"screen\"] = SCREEN"
   ]
  },
  {
   "cell_type": "code",
   "execution_count": 4,
   "id": "9922e4f1",
   "metadata": {},
   "outputs": [
    {
     "name": "stdout",
     "output_type": "stream",
     "text": [
      "Processing data...\n",
      "Preprocessing complete\n",
      "Marker set: FUS/EEA1\n",
      "Data: (116717, 315)\n",
      "Marker set: HSP70/SOD1\n",
      "Data: (113301, 311)\n"
     ]
    }
   ],
   "source": [
    "# Load and process screens for train / test\n",
    "screen = ImageScreenMultiAntibody(params)\n",
    "screen.load(antibody=params[\"antibodies\"])\n",
    "\n",
    "print(\"Processing data...\")\n",
    "screen.preprocess()\n",
    "assert screen.data is not None, \"Loading failed\"\n",
    "\n",
    "for ab in params[\"antibodies\"]:\n",
    "    print(f\"Marker set: {ab}\")\n",
    "    print(f\"Data: {screen.data[ab].shape}\")"
   ]
  },
  {
   "cell_type": "code",
   "execution_count": null,
   "id": "ec4e4972",
   "metadata": {},
   "outputs": [],
   "source": [
    "from maps.analyses import MAP\n",
    "map_analysis = MAP(screen)\n",
    "map_analysis.fit()"
   ]
  },
  {
   "cell_type": "code",
   "execution_count": null,
   "id": "30a4e9c6",
   "metadata": {},
   "outputs": [],
   "source": [
    "import pickle\n",
    "\n",
    "output_dir = Path(params.get(\"result_dir\")) / params.get(\"screen\")\n",
    "with open(output_dir / f\"{ANALYSIS}.pkl\", \"wb\") as f:\n",
    "    pickle.dump({\"analysis\": map_analysis, \"params\": params}, f)"
   ]
  }
 ],
 "metadata": {
  "kernelspec": {
   "display_name": "maps",
   "language": "python",
   "name": "python3"
  },
  "language_info": {
   "codemirror_mode": {
    "name": "ipython",
    "version": 3
   },
   "file_extension": ".py",
   "mimetype": "text/x-python",
   "name": "python",
   "nbconvert_exporter": "python",
   "pygments_lexer": "ipython3",
   "version": "3.11.13"
  }
 },
 "nbformat": 4,
 "nbformat_minor": 5
}
