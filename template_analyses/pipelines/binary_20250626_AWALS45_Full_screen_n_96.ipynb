{
 "cells": [
  {
   "cell_type": "code",
   "execution_count": 1,
   "id": "09145b76",
   "metadata": {
    "execution": {
     "iopub.execute_input": "2025-10-08T17:10:54.985763Z",
     "iopub.status.busy": "2025-10-08T17:10:54.985364Z",
     "iopub.status.idle": "2025-10-08T17:10:54.994442Z",
     "shell.execute_reply": "2025-10-08T17:10:54.993643Z"
    },
    "papermill": {
     "duration": 0.015358,
     "end_time": "2025-10-08T17:10:54.996220",
     "exception": false,
     "start_time": "2025-10-08T17:10:54.980862",
     "status": "completed"
    },
    "tags": [
     "parameters"
    ]
   },
   "outputs": [],
   "source": [
    "# ---- Parameters ----\n",
    "SCREEN = \"20250216_AWALS37_Full_screen_n96\""
   ]
  },
  {
   "cell_type": "code",
   "execution_count": 2,
   "id": "22dd18b0",
   "metadata": {
    "execution": {
     "iopub.execute_input": "2025-10-08T17:10:55.003048Z",
     "iopub.status.busy": "2025-10-08T17:10:55.002716Z",
     "iopub.status.idle": "2025-10-08T17:10:55.006449Z",
     "shell.execute_reply": "2025-10-08T17:10:55.005651Z"
    },
    "papermill": {
     "duration": 0.008745,
     "end_time": "2025-10-08T17:10:55.007979",
     "exception": false,
     "start_time": "2025-10-08T17:10:54.999234",
     "status": "completed"
    },
    "tags": [
     "injected-parameters"
    ]
   },
   "outputs": [],
   "source": [
    "# Parameters\n",
    "SCREEN = \"20250626_AWALS45_Full_screen_n_96\"\n"
   ]
  },
  {
   "cell_type": "code",
   "execution_count": 3,
   "id": "f2aa07b7",
   "metadata": {
    "execution": {
     "iopub.execute_input": "2025-10-08T17:10:55.014868Z",
     "iopub.status.busy": "2025-10-08T17:10:55.014522Z",
     "iopub.status.idle": "2025-10-08T17:10:55.842195Z",
     "shell.execute_reply": "2025-10-08T17:10:55.841518Z"
    },
    "papermill": {
     "duration": 0.832775,
     "end_time": "2025-10-08T17:10:55.843903",
     "exception": false,
     "start_time": "2025-10-08T17:10:55.011128",
     "status": "completed"
    },
    "tags": []
   },
   "outputs": [],
   "source": [
    "from maps.screens import ImageScreenMultiAntibody\n",
    "import json\n",
    "from pathlib import Path\n",
    "\n",
    "\n",
    "# --- Initialize parameters ---\n",
    "pdir = Path(\"/home/kkumbier/als/scripts/pipelines/params\")\n",
    "with open(pdir / \"binary.json\", \"r\") as f:\n",
    "    params = json.load(f)\n",
    "\n",
    "params[\"screen\"] = SCREEN"
   ]
  },
  {
   "cell_type": "code",
   "execution_count": 4,
   "id": "9922e4f1",
   "metadata": {
    "execution": {
     "iopub.execute_input": "2025-10-08T17:10:55.853576Z",
     "iopub.status.busy": "2025-10-08T17:10:55.853085Z",
     "iopub.status.idle": "2025-10-08T17:14:01.881055Z",
     "shell.execute_reply": "2025-10-08T17:14:01.880202Z"
    },
    "papermill": {
     "duration": 186.038582,
     "end_time": "2025-10-08T17:14:01.885464",
     "exception": false,
     "start_time": "2025-10-08T17:10:55.846882",
     "status": "completed"
    },
    "tags": []
   },
   "outputs": [
    {
     "name": "stdout",
     "output_type": "stream",
     "text": [
      "Processing data...\n"
     ]
    },
    {
     "name": "stdout",
     "output_type": "stream",
     "text": [
      "Preprocessing complete\n",
      "Marker set: FUS/EEA1\n",
      "Data: (80217, 319)\n",
      "Marker set: COX IV/Galectin3/atubulin\n",
      "Data: (97171, 319)\n"
     ]
    }
   ],
   "source": [
    "# Load and process screens for train / test\n",
    "screen = ImageScreenMultiAntibody(params)\n",
    "screen.load(antibody=params[\"antibodies\"])\n",
    "\n",
    "print(\"Processing data...\")\n",
    "screen.preprocess()\n",
    "assert screen.data is not None, \"Loading failed\"\n",
    "\n",
    "for ab in params[\"antibodies\"]:\n",
    "    print(f\"Marker set: {ab}\")\n",
    "    print(f\"Data: {screen.data[ab].shape}\")"
   ]
  },
  {
   "cell_type": "code",
   "execution_count": 5,
   "id": "ec4e4972",
   "metadata": {
    "execution": {
     "iopub.execute_input": "2025-10-08T17:14:01.894672Z",
     "iopub.status.busy": "2025-10-08T17:14:01.894209Z",
     "iopub.status.idle": "2025-10-08T18:21:24.880804Z",
     "shell.execute_reply": "2025-10-08T18:21:24.879250Z"
    },
    "papermill": {
     "duration": 4042.994027,
     "end_time": "2025-10-08T18:21:24.883249",
     "exception": false,
     "start_time": "2025-10-08T17:14:01.889222",
     "status": "completed"
    },
    "tags": []
   },
   "outputs": [
    {
     "name": "stdout",
     "output_type": "stream",
     "text": [
      "Training C9orf72...\n"
     ]
    },
    {
     "name": "stdout",
     "output_type": "stream",
     "text": [
      "Starting cell-level training...\n"
     ]
    },
    {
     "name": "stdout",
     "output_type": "stream",
     "text": [
      "Cell Epoch 1/100, Overall Loss: 0.7663, Active: 2/2\n",
      "  COX IV/Galectin3/atubulin - Loss: 0.7294, Acc: 0.5305 \n",
      "  FUS/EEA1 - Loss: 0.8032, Acc: 0.4918 \n"
     ]
    },
    {
     "name": "stdout",
     "output_type": "stream",
     "text": [
      "Cell Epoch 2/100, Overall Loss: 0.7547, Active: 2/2\n",
      "  COX IV/Galectin3/atubulin - Loss: 0.7470, Acc: 0.5168 \n",
      "  FUS/EEA1 - Loss: 0.7623, Acc: 0.5208 \n"
     ]
    },
    {
     "name": "stdout",
     "output_type": "stream",
     "text": [
      "Cell Epoch 3/100, Overall Loss: 0.7199, Active: 2/2\n",
      "  COX IV/Galectin3/atubulin - Loss: 0.7157, Acc: 0.5373 \n",
      "  FUS/EEA1 - Loss: 0.7241, Acc: 0.5633 \n"
     ]
    },
    {
     "name": "stdout",
     "output_type": "stream",
     "text": [
      "Cell Epoch 4/100, Overall Loss: 0.7032, Active: 2/2\n",
      "  COX IV/Galectin3/atubulin - Loss: 0.7091, Acc: 0.5523 \n",
      "  FUS/EEA1 - Loss: 0.6973, Acc: 0.5805 \n"
     ]
    },
    {
     "name": "stdout",
     "output_type": "stream",
     "text": [
      "Cell Epoch 5/100, Overall Loss: 0.7083, Active: 2/2\n",
      "  COX IV/Galectin3/atubulin - Loss: 0.6883, Acc: 0.5650 \n",
      "  FUS/EEA1 - Loss: 0.7283, Acc: 0.5548 \n"
     ]
    },
    {
     "name": "stdout",
     "output_type": "stream",
     "text": [
      "Cell Epoch 6/100, Overall Loss: 0.7031, Active: 2/2\n",
      "  COX IV/Galectin3/atubulin - Loss: 0.6978, Acc: 0.5548 \n",
      "  FUS/EEA1 - Loss: 0.7084, Acc: 0.5635 \n"
     ]
    },
    {
     "name": "stdout",
     "output_type": "stream",
     "text": [
      "Cell Epoch 7/100, Overall Loss: 0.7468, Active: 2/2\n",
      "  COX IV/Galectin3/atubulin - Loss: 0.7365, Acc: 0.5125 \n",
      "  FUS/EEA1 - Loss: 0.7572, Acc: 0.5200 \n"
     ]
    },
    {
     "name": "stdout",
     "output_type": "stream",
     "text": [
      "Cell Epoch 8/100, Overall Loss: 0.7093, Active: 2/2\n",
      "  COX IV/Galectin3/atubulin - Loss: 0.6841, Acc: 0.5715 \n",
      "  FUS/EEA1 - Loss: 0.7345, Acc: 0.5340 \n"
     ]
    },
    {
     "name": "stdout",
     "output_type": "stream",
     "text": [
      "  Freezing FUS/EEA1 encoder at epoch 9\n",
      "Cell Epoch 9/100, Overall Loss: 0.6969, Active: 1/2\n",
      "  COX IV/Galectin3/atubulin - Loss: 0.6845, Acc: 0.5745 \n",
      "  FUS/EEA1 - Loss: 0.7093, Acc: 0.5555 [FROZEN]\n"
     ]
    },
    {
     "name": "stderr",
     "output_type": "stream",
     "text": [
      "/awlab/projects/2024_ALS/software/miniforge3/envs/maps/lib/python3.11/site-packages/torch/optim/lr_scheduler.py:182: UserWarning: Detected call of `lr_scheduler.step()` before `optimizer.step()`. In PyTorch 1.1.0 and later, you should call them in the opposite order: `optimizer.step()` before `lr_scheduler.step()`.  Failure to do this will result in PyTorch skipping the first value of the learning rate schedule. See more details at https://pytorch.org/docs/stable/optim.html#how-to-adjust-learning-rate\n",
      "  warnings.warn(\n"
     ]
    },
    {
     "name": "stdout",
     "output_type": "stream",
     "text": [
      "Cell Epoch 10/100, Overall Loss: 0.7301, Active: 1/2\n",
      "  COX IV/Galectin3/atubulin - Loss: 0.7301, Acc: 0.5155 \n",
      "  FUS/EEA1 - Loss: 0.0000, Acc: 0.0000 [FROZEN]\n"
     ]
    },
    {
     "name": "stdout",
     "output_type": "stream",
     "text": [
      "Cell Epoch 11/100, Overall Loss: 0.6718, Active: 1/2\n",
      "  COX IV/Galectin3/atubulin - Loss: 0.6718, Acc: 0.5800 \n",
      "  FUS/EEA1 - Loss: 0.0000, Acc: 0.0000 [FROZEN]\n"
     ]
    },
    {
     "name": "stdout",
     "output_type": "stream",
     "text": [
      "Cell Epoch 12/100, Overall Loss: 0.6726, Active: 1/2\n",
      "  COX IV/Galectin3/atubulin - Loss: 0.6726, Acc: 0.5765 \n",
      "  FUS/EEA1 - Loss: 0.0000, Acc: 0.0000 [FROZEN]\n"
     ]
    },
    {
     "name": "stdout",
     "output_type": "stream",
     "text": [
      "Cell Epoch 13/100, Overall Loss: 0.6652, Active: 1/2\n",
      "  COX IV/Galectin3/atubulin - Loss: 0.6652, Acc: 0.5950 \n",
      "  FUS/EEA1 - Loss: 0.0000, Acc: 0.0000 [FROZEN]\n"
     ]
    },
    {
     "name": "stdout",
     "output_type": "stream",
     "text": [
      "Cell Epoch 14/100, Overall Loss: 0.6524, Active: 1/2\n",
      "  COX IV/Galectin3/atubulin - Loss: 0.6524, Acc: 0.6123 \n",
      "  FUS/EEA1 - Loss: 0.0000, Acc: 0.0000 [FROZEN]\n"
     ]
    },
    {
     "name": "stdout",
     "output_type": "stream",
     "text": [
      "Cell Epoch 15/100, Overall Loss: 0.6990, Active: 1/2\n",
      "  COX IV/Galectin3/atubulin - Loss: 0.6990, Acc: 0.5528 \n",
      "  FUS/EEA1 - Loss: 0.0000, Acc: 0.0000 [FROZEN]\n"
     ]
    },
    {
     "name": "stdout",
     "output_type": "stream",
     "text": [
      "Cell Epoch 16/100, Overall Loss: 0.6754, Active: 1/2\n",
      "  COX IV/Galectin3/atubulin - Loss: 0.6754, Acc: 0.5845 \n",
      "  FUS/EEA1 - Loss: 0.0000, Acc: 0.0000 [FROZEN]\n"
     ]
    },
    {
     "name": "stdout",
     "output_type": "stream",
     "text": [
      "Cell Epoch 17/100, Overall Loss: 0.6430, Active: 1/2\n",
      "  COX IV/Galectin3/atubulin - Loss: 0.6430, Acc: 0.6235 \n",
      "  FUS/EEA1 - Loss: 0.0000, Acc: 0.0000 [FROZEN]\n"
     ]
    },
    {
     "name": "stdout",
     "output_type": "stream",
     "text": [
      "Cell Epoch 18/100, Overall Loss: 0.6496, Active: 1/2\n",
      "  COX IV/Galectin3/atubulin - Loss: 0.6496, Acc: 0.6118 \n",
      "  FUS/EEA1 - Loss: 0.0000, Acc: 0.0000 [FROZEN]\n"
     ]
    },
    {
     "name": "stdout",
     "output_type": "stream",
     "text": [
      "Cell Epoch 19/100, Overall Loss: 0.6500, Active: 1/2\n",
      "  COX IV/Galectin3/atubulin - Loss: 0.6500, Acc: 0.6135 \n",
      "  FUS/EEA1 - Loss: 0.0000, Acc: 0.0000 [FROZEN]\n"
     ]
    },
    {
     "name": "stdout",
     "output_type": "stream",
     "text": [
      "Cell Epoch 20/100, Overall Loss: 0.6463, Active: 1/2\n",
      "  COX IV/Galectin3/atubulin - Loss: 0.6463, Acc: 0.6203 \n",
      "  FUS/EEA1 - Loss: 0.0000, Acc: 0.0000 [FROZEN]\n"
     ]
    },
    {
     "name": "stdout",
     "output_type": "stream",
     "text": [
      "Cell Epoch 21/100, Overall Loss: 0.7043, Active: 1/2\n",
      "  COX IV/Galectin3/atubulin - Loss: 0.7043, Acc: 0.5413 \n",
      "  FUS/EEA1 - Loss: 0.0000, Acc: 0.0000 [FROZEN]\n"
     ]
    },
    {
     "name": "stdout",
     "output_type": "stream",
     "text": [
      "  Freezing COX IV/Galectin3/atubulin encoder at epoch 22\n",
      "Cell Epoch 22/100, Overall Loss: 0.6542, Active: 0/2\n",
      "  COX IV/Galectin3/atubulin - Loss: 0.6542, Acc: 0.6133 [FROZEN]\n",
      "  FUS/EEA1 - Loss: 0.0000, Acc: 0.0000 [FROZEN]\n",
      "All antibodies frozen - stopping cell training at epoch 22\n",
      "Starting line-level training...\n",
      "Unfreezing all antibody encoders for line training...\n"
     ]
    },
    {
     "name": "stdout",
     "output_type": "stream",
     "text": [
      "Line Epoch 1/100, Loss: 0.6404\n"
     ]
    },
    {
     "name": "stdout",
     "output_type": "stream",
     "text": [
      "Line Epoch 2/100, Loss: 0.6465\n"
     ]
    },
    {
     "name": "stdout",
     "output_type": "stream",
     "text": [
      "Line Epoch 3/100, Loss: 0.7079\n"
     ]
    },
    {
     "name": "stdout",
     "output_type": "stream",
     "text": [
      "Line Epoch 4/100, Loss: 0.6162\n"
     ]
    },
    {
     "name": "stdout",
     "output_type": "stream",
     "text": [
      "Line Epoch 5/100, Loss: 0.5723\n"
     ]
    },
    {
     "name": "stdout",
     "output_type": "stream",
     "text": [
      "Line Epoch 6/100, Loss: 0.7508\n"
     ]
    },
    {
     "name": "stdout",
     "output_type": "stream",
     "text": [
      "Line Epoch 7/100, Loss: 0.5366\n"
     ]
    },
    {
     "name": "stdout",
     "output_type": "stream",
     "text": [
      "Line Epoch 8/100, Loss: 0.5051\n"
     ]
    },
    {
     "name": "stdout",
     "output_type": "stream",
     "text": [
      "Line Epoch 9/100, Loss: 0.5510\n"
     ]
    },
    {
     "name": "stdout",
     "output_type": "stream",
     "text": [
      "Line Epoch 10/100, Loss: 0.6153\n"
     ]
    },
    {
     "name": "stdout",
     "output_type": "stream",
     "text": [
      "Line Epoch 11/100, Loss: 0.5734\n"
     ]
    },
    {
     "name": "stdout",
     "output_type": "stream",
     "text": [
      "Line Epoch 12/100, Loss: 0.5084\n"
     ]
    },
    {
     "name": "stdout",
     "output_type": "stream",
     "text": [
      "Line Epoch 13/100, Loss: 0.6264\n",
      "Early stopping line training at epoch 13\n",
      "Training completed!\n"
     ]
    },
    {
     "name": "stdout",
     "output_type": "stream",
     "text": [
      "Starting cell-level training...\n"
     ]
    },
    {
     "name": "stdout",
     "output_type": "stream",
     "text": [
      "Cell Epoch 1/100, Overall Loss: 0.7292, Active: 2/2\n",
      "  COX IV/Galectin3/atubulin - Loss: 0.7037, Acc: 0.5738 \n",
      "  FUS/EEA1 - Loss: 0.7546, Acc: 0.5150 \n"
     ]
    },
    {
     "name": "stdout",
     "output_type": "stream",
     "text": [
      "Cell Epoch 2/100, Overall Loss: 0.6621, Active: 2/2\n",
      "  COX IV/Galectin3/atubulin - Loss: 0.6377, Acc: 0.6385 \n",
      "  FUS/EEA1 - Loss: 0.6865, Acc: 0.5930 \n"
     ]
    },
    {
     "name": "stdout",
     "output_type": "stream",
     "text": [
      "Cell Epoch 3/100, Overall Loss: 0.6472, Active: 2/2\n",
      "  COX IV/Galectin3/atubulin - Loss: 0.6194, Acc: 0.6718 \n",
      "  FUS/EEA1 - Loss: 0.6750, Acc: 0.5973 \n"
     ]
    },
    {
     "name": "stdout",
     "output_type": "stream",
     "text": [
      "Cell Epoch 4/100, Overall Loss: 0.6175, Active: 2/2\n",
      "  COX IV/Galectin3/atubulin - Loss: 0.6128, Acc: 0.6748 \n",
      "  FUS/EEA1 - Loss: 0.6221, Acc: 0.6673 \n"
     ]
    },
    {
     "name": "stdout",
     "output_type": "stream",
     "text": [
      "Cell Epoch 5/100, Overall Loss: 0.5777, Active: 2/2\n",
      "  COX IV/Galectin3/atubulin - Loss: 0.5353, Acc: 0.7375 \n",
      "  FUS/EEA1 - Loss: 0.6201, Acc: 0.6735 \n"
     ]
    },
    {
     "name": "stdout",
     "output_type": "stream",
     "text": [
      "Cell Epoch 6/100, Overall Loss: 0.6130, Active: 2/2\n",
      "  COX IV/Galectin3/atubulin - Loss: 0.6129, Acc: 0.6890 \n",
      "  FUS/EEA1 - Loss: 0.6131, Acc: 0.6755 \n"
     ]
    },
    {
     "name": "stdout",
     "output_type": "stream",
     "text": [
      "Cell Epoch 7/100, Overall Loss: 0.6216, Active: 2/2\n",
      "  COX IV/Galectin3/atubulin - Loss: 0.6117, Acc: 0.6928 \n",
      "  FUS/EEA1 - Loss: 0.6315, Acc: 0.6585 \n"
     ]
    },
    {
     "name": "stdout",
     "output_type": "stream",
     "text": [
      "Cell Epoch 8/100, Overall Loss: 0.5525, Active: 2/2\n",
      "  COX IV/Galectin3/atubulin - Loss: 0.5359, Acc: 0.7555 \n",
      "  FUS/EEA1 - Loss: 0.5691, Acc: 0.7145 \n"
     ]
    },
    {
     "name": "stdout",
     "output_type": "stream",
     "text": [
      "Cell Epoch 9/100, Overall Loss: 0.6016, Active: 2/2\n",
      "  COX IV/Galectin3/atubulin - Loss: 0.5883, Acc: 0.7133 \n",
      "  FUS/EEA1 - Loss: 0.6148, Acc: 0.6658 \n"
     ]
    },
    {
     "name": "stdout",
     "output_type": "stream",
     "text": [
      "  Freezing COX IV/Galectin3/atubulin encoder at epoch 10\n",
      "Cell Epoch 10/100, Overall Loss: 0.6198, Active: 1/2\n",
      "  COX IV/Galectin3/atubulin - Loss: 0.6006, Acc: 0.6968 [FROZEN]\n",
      "  FUS/EEA1 - Loss: 0.6389, Acc: 0.6600 \n"
     ]
    },
    {
     "name": "stderr",
     "output_type": "stream",
     "text": [
      "/awlab/projects/2024_ALS/software/miniforge3/envs/maps/lib/python3.11/site-packages/torch/optim/lr_scheduler.py:182: UserWarning: Detected call of `lr_scheduler.step()` before `optimizer.step()`. In PyTorch 1.1.0 and later, you should call them in the opposite order: `optimizer.step()` before `lr_scheduler.step()`.  Failure to do this will result in PyTorch skipping the first value of the learning rate schedule. See more details at https://pytorch.org/docs/stable/optim.html#how-to-adjust-learning-rate\n",
      "  warnings.warn(\n"
     ]
    },
    {
     "name": "stdout",
     "output_type": "stream",
     "text": [
      "Cell Epoch 11/100, Overall Loss: 0.6058, Active: 1/2\n",
      "  COX IV/Galectin3/atubulin - Loss: 0.0000, Acc: 0.0000 [FROZEN]\n",
      "  FUS/EEA1 - Loss: 0.6058, Acc: 0.6850 \n"
     ]
    },
    {
     "name": "stdout",
     "output_type": "stream",
     "text": [
      "Cell Epoch 12/100, Overall Loss: 0.5755, Active: 1/2\n",
      "  COX IV/Galectin3/atubulin - Loss: 0.0000, Acc: 0.0000 [FROZEN]\n",
      "  FUS/EEA1 - Loss: 0.5755, Acc: 0.7015 \n"
     ]
    },
    {
     "name": "stdout",
     "output_type": "stream",
     "text": [
      "Cell Epoch 13/100, Overall Loss: 0.5473, Active: 1/2\n",
      "  COX IV/Galectin3/atubulin - Loss: 0.0000, Acc: 0.0000 [FROZEN]\n",
      "  FUS/EEA1 - Loss: 0.5473, Acc: 0.7325 \n"
     ]
    },
    {
     "name": "stdout",
     "output_type": "stream",
     "text": [
      "Cell Epoch 14/100, Overall Loss: 0.6031, Active: 1/2\n",
      "  COX IV/Galectin3/atubulin - Loss: 0.0000, Acc: 0.0000 [FROZEN]\n",
      "  FUS/EEA1 - Loss: 0.6031, Acc: 0.6825 \n"
     ]
    },
    {
     "name": "stdout",
     "output_type": "stream",
     "text": [
      "Cell Epoch 15/100, Overall Loss: 0.5894, Active: 1/2\n",
      "  COX IV/Galectin3/atubulin - Loss: 0.0000, Acc: 0.0000 [FROZEN]\n",
      "  FUS/EEA1 - Loss: 0.5894, Acc: 0.6970 \n"
     ]
    },
    {
     "name": "stdout",
     "output_type": "stream",
     "text": [
      "Cell Epoch 16/100, Overall Loss: 0.5789, Active: 1/2\n",
      "  COX IV/Galectin3/atubulin - Loss: 0.0000, Acc: 0.0000 [FROZEN]\n",
      "  FUS/EEA1 - Loss: 0.5789, Acc: 0.7000 \n"
     ]
    },
    {
     "name": "stdout",
     "output_type": "stream",
     "text": [
      "Cell Epoch 17/100, Overall Loss: 0.5453, Active: 1/2\n",
      "  COX IV/Galectin3/atubulin - Loss: 0.0000, Acc: 0.0000 [FROZEN]\n",
      "  FUS/EEA1 - Loss: 0.5453, Acc: 0.7363 \n"
     ]
    },
    {
     "name": "stdout",
     "output_type": "stream",
     "text": [
      "Cell Epoch 18/100, Overall Loss: 0.6116, Active: 1/2\n",
      "  COX IV/Galectin3/atubulin - Loss: 0.0000, Acc: 0.0000 [FROZEN]\n",
      "  FUS/EEA1 - Loss: 0.6116, Acc: 0.6813 \n"
     ]
    },
    {
     "name": "stdout",
     "output_type": "stream",
     "text": [
      "Cell Epoch 19/100, Overall Loss: 0.5922, Active: 1/2\n",
      "  COX IV/Galectin3/atubulin - Loss: 0.0000, Acc: 0.0000 [FROZEN]\n",
      "  FUS/EEA1 - Loss: 0.5922, Acc: 0.6960 \n"
     ]
    },
    {
     "name": "stdout",
     "output_type": "stream",
     "text": [
      "Cell Epoch 20/100, Overall Loss: 0.5353, Active: 1/2\n",
      "  COX IV/Galectin3/atubulin - Loss: 0.0000, Acc: 0.0000 [FROZEN]\n",
      "  FUS/EEA1 - Loss: 0.5353, Acc: 0.7403 \n"
     ]
    },
    {
     "name": "stdout",
     "output_type": "stream",
     "text": [
      "Cell Epoch 21/100, Overall Loss: 0.5529, Active: 1/2\n",
      "  COX IV/Galectin3/atubulin - Loss: 0.0000, Acc: 0.0000 [FROZEN]\n",
      "  FUS/EEA1 - Loss: 0.5529, Acc: 0.7193 \n"
     ]
    },
    {
     "name": "stdout",
     "output_type": "stream",
     "text": [
      "Cell Epoch 22/100, Overall Loss: 0.5242, Active: 1/2\n",
      "  COX IV/Galectin3/atubulin - Loss: 0.0000, Acc: 0.0000 [FROZEN]\n",
      "  FUS/EEA1 - Loss: 0.5242, Acc: 0.7548 \n"
     ]
    },
    {
     "name": "stdout",
     "output_type": "stream",
     "text": [
      "Cell Epoch 23/100, Overall Loss: 0.5178, Active: 1/2\n",
      "  COX IV/Galectin3/atubulin - Loss: 0.0000, Acc: 0.0000 [FROZEN]\n",
      "  FUS/EEA1 - Loss: 0.5178, Acc: 0.7573 \n"
     ]
    },
    {
     "name": "stdout",
     "output_type": "stream",
     "text": [
      "Cell Epoch 24/100, Overall Loss: 0.5606, Active: 1/2\n",
      "  COX IV/Galectin3/atubulin - Loss: 0.0000, Acc: 0.0000 [FROZEN]\n",
      "  FUS/EEA1 - Loss: 0.5606, Acc: 0.7178 \n"
     ]
    },
    {
     "name": "stdout",
     "output_type": "stream",
     "text": [
      "Cell Epoch 25/100, Overall Loss: 0.5733, Active: 1/2\n",
      "  COX IV/Galectin3/atubulin - Loss: 0.0000, Acc: 0.0000 [FROZEN]\n",
      "  FUS/EEA1 - Loss: 0.5733, Acc: 0.7160 \n"
     ]
    },
    {
     "name": "stdout",
     "output_type": "stream",
     "text": [
      "Cell Epoch 26/100, Overall Loss: 0.5970, Active: 1/2\n",
      "  COX IV/Galectin3/atubulin - Loss: 0.0000, Acc: 0.0000 [FROZEN]\n",
      "  FUS/EEA1 - Loss: 0.5970, Acc: 0.6928 \n"
     ]
    },
    {
     "name": "stdout",
     "output_type": "stream",
     "text": [
      "Cell Epoch 27/100, Overall Loss: 0.4697, Active: 1/2\n",
      "  COX IV/Galectin3/atubulin - Loss: 0.0000, Acc: 0.0000 [FROZEN]\n",
      "  FUS/EEA1 - Loss: 0.4697, Acc: 0.7945 \n"
     ]
    },
    {
     "name": "stdout",
     "output_type": "stream",
     "text": [
      "Cell Epoch 28/100, Overall Loss: 0.5918, Active: 1/2\n",
      "  COX IV/Galectin3/atubulin - Loss: 0.0000, Acc: 0.0000 [FROZEN]\n",
      "  FUS/EEA1 - Loss: 0.5918, Acc: 0.6953 \n"
     ]
    },
    {
     "name": "stdout",
     "output_type": "stream",
     "text": [
      "Cell Epoch 29/100, Overall Loss: 0.5780, Active: 1/2\n",
      "  COX IV/Galectin3/atubulin - Loss: 0.0000, Acc: 0.0000 [FROZEN]\n",
      "  FUS/EEA1 - Loss: 0.5780, Acc: 0.6995 \n"
     ]
    },
    {
     "name": "stdout",
     "output_type": "stream",
     "text": [
      "Cell Epoch 30/100, Overall Loss: 0.5702, Active: 1/2\n",
      "  COX IV/Galectin3/atubulin - Loss: 0.0000, Acc: 0.0000 [FROZEN]\n",
      "  FUS/EEA1 - Loss: 0.5702, Acc: 0.7053 \n"
     ]
    },
    {
     "name": "stdout",
     "output_type": "stream",
     "text": [
      "Cell Epoch 31/100, Overall Loss: 0.6619, Active: 1/2\n",
      "  COX IV/Galectin3/atubulin - Loss: 0.0000, Acc: 0.0000 [FROZEN]\n",
      "  FUS/EEA1 - Loss: 0.6619, Acc: 0.6385 \n"
     ]
    },
    {
     "name": "stdout",
     "output_type": "stream",
     "text": [
      "  Freezing FUS/EEA1 encoder at epoch 32\n",
      "Cell Epoch 32/100, Overall Loss: 0.5989, Active: 0/2\n",
      "  COX IV/Galectin3/atubulin - Loss: 0.0000, Acc: 0.0000 [FROZEN]\n",
      "  FUS/EEA1 - Loss: 0.5989, Acc: 0.6870 [FROZEN]\n",
      "All antibodies frozen - stopping cell training at epoch 32\n",
      "Starting line-level training...\n",
      "Unfreezing all antibody encoders for line training...\n"
     ]
    },
    {
     "name": "stdout",
     "output_type": "stream",
     "text": [
      "Line Epoch 1/100, Loss: 0.6910\n"
     ]
    },
    {
     "name": "stdout",
     "output_type": "stream",
     "text": [
      "Line Epoch 2/100, Loss: 0.6838\n"
     ]
    },
    {
     "name": "stdout",
     "output_type": "stream",
     "text": [
      "Line Epoch 3/100, Loss: 0.6595\n"
     ]
    },
    {
     "name": "stdout",
     "output_type": "stream",
     "text": [
      "Line Epoch 4/100, Loss: 0.5711\n"
     ]
    },
    {
     "name": "stdout",
     "output_type": "stream",
     "text": [
      "Line Epoch 5/100, Loss: 0.4944\n"
     ]
    },
    {
     "name": "stdout",
     "output_type": "stream",
     "text": [
      "Line Epoch 6/100, Loss: 0.4782\n"
     ]
    },
    {
     "name": "stdout",
     "output_type": "stream",
     "text": [
      "Line Epoch 7/100, Loss: 0.4822\n"
     ]
    },
    {
     "name": "stdout",
     "output_type": "stream",
     "text": [
      "Line Epoch 8/100, Loss: 0.5115\n"
     ]
    },
    {
     "name": "stdout",
     "output_type": "stream",
     "text": [
      "Line Epoch 9/100, Loss: 0.4695\n"
     ]
    },
    {
     "name": "stdout",
     "output_type": "stream",
     "text": [
      "Line Epoch 10/100, Loss: 0.5126\n"
     ]
    },
    {
     "name": "stdout",
     "output_type": "stream",
     "text": [
      "Line Epoch 11/100, Loss: 0.3588\n"
     ]
    },
    {
     "name": "stdout",
     "output_type": "stream",
     "text": [
      "Line Epoch 12/100, Loss: 0.4116\n"
     ]
    },
    {
     "name": "stdout",
     "output_type": "stream",
     "text": [
      "Line Epoch 13/100, Loss: 0.4326\n"
     ]
    },
    {
     "name": "stdout",
     "output_type": "stream",
     "text": [
      "Line Epoch 14/100, Loss: 0.4462\n"
     ]
    },
    {
     "name": "stdout",
     "output_type": "stream",
     "text": [
      "Line Epoch 15/100, Loss: 0.5278\n"
     ]
    },
    {
     "name": "stdout",
     "output_type": "stream",
     "text": [
      "Line Epoch 16/100, Loss: 0.4624\n",
      "Early stopping line training at epoch 16\n",
      "Training completed!\n"
     ]
    },
    {
     "name": "stdout",
     "output_type": "stream",
     "text": [
      "Training SOD1...\n"
     ]
    },
    {
     "name": "stdout",
     "output_type": "stream",
     "text": [
      "Starting cell-level training...\n"
     ]
    },
    {
     "name": "stdout",
     "output_type": "stream",
     "text": [
      "Cell Epoch 1/100, Overall Loss: 0.8208, Active: 2/2\n",
      "  COX IV/Galectin3/atubulin - Loss: 0.8281, Acc: 0.4848 \n",
      "  FUS/EEA1 - Loss: 0.8135, Acc: 0.4605 \n"
     ]
    },
    {
     "name": "stdout",
     "output_type": "stream",
     "text": [
      "Cell Epoch 2/100, Overall Loss: 0.7520, Active: 2/2\n",
      "  COX IV/Galectin3/atubulin - Loss: 0.7507, Acc: 0.5393 \n",
      "  FUS/EEA1 - Loss: 0.7532, Acc: 0.5193 \n"
     ]
    },
    {
     "name": "stdout",
     "output_type": "stream",
     "text": [
      "Cell Epoch 3/100, Overall Loss: 0.7434, Active: 2/2\n",
      "  COX IV/Galectin3/atubulin - Loss: 0.7468, Acc: 0.5425 \n",
      "  FUS/EEA1 - Loss: 0.7400, Acc: 0.5325 \n"
     ]
    },
    {
     "name": "stdout",
     "output_type": "stream",
     "text": [
      "Cell Epoch 4/100, Overall Loss: 0.7068, Active: 2/2\n",
      "  COX IV/Galectin3/atubulin - Loss: 0.7047, Acc: 0.5888 \n",
      "  FUS/EEA1 - Loss: 0.7089, Acc: 0.5565 \n"
     ]
    },
    {
     "name": "stdout",
     "output_type": "stream",
     "text": [
      "Cell Epoch 5/100, Overall Loss: 0.7015, Active: 2/2\n",
      "  COX IV/Galectin3/atubulin - Loss: 0.7046, Acc: 0.5910 \n",
      "  FUS/EEA1 - Loss: 0.6984, Acc: 0.5743 \n"
     ]
    },
    {
     "name": "stdout",
     "output_type": "stream",
     "text": [
      "Cell Epoch 6/100, Overall Loss: 0.6964, Active: 2/2\n",
      "  COX IV/Galectin3/atubulin - Loss: 0.6930, Acc: 0.6080 \n",
      "  FUS/EEA1 - Loss: 0.6998, Acc: 0.5900 \n"
     ]
    },
    {
     "name": "stdout",
     "output_type": "stream",
     "text": [
      "Cell Epoch 7/100, Overall Loss: 0.6787, Active: 2/2\n",
      "  COX IV/Galectin3/atubulin - Loss: 0.6739, Acc: 0.6250 \n",
      "  FUS/EEA1 - Loss: 0.6835, Acc: 0.5953 \n"
     ]
    },
    {
     "name": "stdout",
     "output_type": "stream",
     "text": [
      "Cell Epoch 8/100, Overall Loss: 0.6390, Active: 2/2\n",
      "  COX IV/Galectin3/atubulin - Loss: 0.6270, Acc: 0.6710 \n",
      "  FUS/EEA1 - Loss: 0.6511, Acc: 0.6343 \n"
     ]
    },
    {
     "name": "stdout",
     "output_type": "stream",
     "text": [
      "Cell Epoch 9/100, Overall Loss: 0.6526, Active: 2/2\n",
      "  COX IV/Galectin3/atubulin - Loss: 0.6536, Acc: 0.6500 \n",
      "  FUS/EEA1 - Loss: 0.6515, Acc: 0.6283 \n"
     ]
    },
    {
     "name": "stdout",
     "output_type": "stream",
     "text": [
      "Cell Epoch 10/100, Overall Loss: 0.6648, Active: 2/2\n",
      "  COX IV/Galectin3/atubulin - Loss: 0.6525, Acc: 0.6583 \n",
      "  FUS/EEA1 - Loss: 0.6771, Acc: 0.5985 \n"
     ]
    },
    {
     "name": "stdout",
     "output_type": "stream",
     "text": [
      "Cell Epoch 11/100, Overall Loss: 0.6385, Active: 2/2\n",
      "  COX IV/Galectin3/atubulin - Loss: 0.6353, Acc: 0.6558 \n",
      "  FUS/EEA1 - Loss: 0.6416, Acc: 0.6403 \n"
     ]
    },
    {
     "name": "stdout",
     "output_type": "stream",
     "text": [
      "Cell Epoch 12/100, Overall Loss: 0.6415, Active: 2/2\n",
      "  COX IV/Galectin3/atubulin - Loss: 0.6401, Acc: 0.6590 \n",
      "  FUS/EEA1 - Loss: 0.6429, Acc: 0.6483 \n"
     ]
    },
    {
     "name": "stdout",
     "output_type": "stream",
     "text": [
      "Cell Epoch 13/100, Overall Loss: 0.6296, Active: 2/2\n",
      "  COX IV/Galectin3/atubulin - Loss: 0.6199, Acc: 0.6770 \n",
      "  FUS/EEA1 - Loss: 0.6393, Acc: 0.6403 \n"
     ]
    },
    {
     "name": "stdout",
     "output_type": "stream",
     "text": [
      "Cell Epoch 14/100, Overall Loss: 0.6638, Active: 2/2\n",
      "  COX IV/Galectin3/atubulin - Loss: 0.6679, Acc: 0.6240 \n",
      "  FUS/EEA1 - Loss: 0.6596, Acc: 0.6203 \n"
     ]
    },
    {
     "name": "stdout",
     "output_type": "stream",
     "text": [
      "Cell Epoch 15/100, Overall Loss: 0.6485, Active: 2/2\n",
      "  COX IV/Galectin3/atubulin - Loss: 0.6484, Acc: 0.6470 \n",
      "  FUS/EEA1 - Loss: 0.6486, Acc: 0.6320 \n"
     ]
    },
    {
     "name": "stdout",
     "output_type": "stream",
     "text": [
      "Cell Epoch 16/100, Overall Loss: 0.6067, Active: 2/2\n",
      "  COX IV/Galectin3/atubulin - Loss: 0.5906, Acc: 0.7045 \n",
      "  FUS/EEA1 - Loss: 0.6227, Acc: 0.6553 \n"
     ]
    },
    {
     "name": "stdout",
     "output_type": "stream",
     "text": [
      "Cell Epoch 17/100, Overall Loss: 0.6295, Active: 2/2\n",
      "  COX IV/Galectin3/atubulin - Loss: 0.6204, Acc: 0.6715 \n",
      "  FUS/EEA1 - Loss: 0.6386, Acc: 0.6505 \n"
     ]
    },
    {
     "name": "stdout",
     "output_type": "stream",
     "text": [
      "Cell Epoch 18/100, Overall Loss: 0.6518, Active: 2/2\n",
      "  COX IV/Galectin3/atubulin - Loss: 0.6501, Acc: 0.6425 \n",
      "  FUS/EEA1 - Loss: 0.6535, Acc: 0.6205 \n"
     ]
    },
    {
     "name": "stdout",
     "output_type": "stream",
     "text": [
      "Cell Epoch 19/100, Overall Loss: 0.6005, Active: 2/2\n",
      "  COX IV/Galectin3/atubulin - Loss: 0.5887, Acc: 0.6885 \n",
      "  FUS/EEA1 - Loss: 0.6122, Acc: 0.6670 \n"
     ]
    },
    {
     "name": "stdout",
     "output_type": "stream",
     "text": [
      "Cell Epoch 20/100, Overall Loss: 0.6186, Active: 2/2\n",
      "  COX IV/Galectin3/atubulin - Loss: 0.6177, Acc: 0.6680 \n",
      "  FUS/EEA1 - Loss: 0.6195, Acc: 0.6640 \n"
     ]
    },
    {
     "name": "stdout",
     "output_type": "stream",
     "text": [
      "Cell Epoch 21/100, Overall Loss: 0.6322, Active: 2/2\n",
      "  COX IV/Galectin3/atubulin - Loss: 0.6350, Acc: 0.6635 \n",
      "  FUS/EEA1 - Loss: 0.6293, Acc: 0.6420 \n"
     ]
    },
    {
     "name": "stdout",
     "output_type": "stream",
     "text": [
      "Cell Epoch 22/100, Overall Loss: 0.6507, Active: 2/2\n",
      "  COX IV/Galectin3/atubulin - Loss: 0.6476, Acc: 0.6440 \n",
      "  FUS/EEA1 - Loss: 0.6538, Acc: 0.6198 \n"
     ]
    },
    {
     "name": "stdout",
     "output_type": "stream",
     "text": [
      "Cell Epoch 23/100, Overall Loss: 0.6732, Active: 2/2\n",
      "  COX IV/Galectin3/atubulin - Loss: 0.6775, Acc: 0.6300 \n",
      "  FUS/EEA1 - Loss: 0.6689, Acc: 0.6085 \n"
     ]
    },
    {
     "name": "stdout",
     "output_type": "stream",
     "text": [
      "  Freezing COX IV/Galectin3/atubulin encoder at epoch 24\n",
      "  Freezing FUS/EEA1 encoder at epoch 24\n",
      "Cell Epoch 24/100, Overall Loss: 0.6170, Active: 0/2\n",
      "  COX IV/Galectin3/atubulin - Loss: 0.6080, Acc: 0.6725 [FROZEN]\n",
      "  FUS/EEA1 - Loss: 0.6260, Acc: 0.6500 [FROZEN]\n",
      "All antibodies frozen - stopping cell training at epoch 24\n",
      "Starting line-level training...\n",
      "Unfreezing all antibody encoders for line training...\n"
     ]
    },
    {
     "name": "stdout",
     "output_type": "stream",
     "text": [
      "Line Epoch 1/100, Loss: 0.9859\n"
     ]
    },
    {
     "name": "stdout",
     "output_type": "stream",
     "text": [
      "Line Epoch 2/100, Loss: 0.8926\n"
     ]
    },
    {
     "name": "stdout",
     "output_type": "stream",
     "text": [
      "Line Epoch 3/100, Loss: 0.8167\n"
     ]
    },
    {
     "name": "stdout",
     "output_type": "stream",
     "text": [
      "Line Epoch 4/100, Loss: 0.8102\n"
     ]
    },
    {
     "name": "stdout",
     "output_type": "stream",
     "text": [
      "Line Epoch 5/100, Loss: 0.7392\n"
     ]
    },
    {
     "name": "stdout",
     "output_type": "stream",
     "text": [
      "Line Epoch 6/100, Loss: 0.7258\n"
     ]
    },
    {
     "name": "stdout",
     "output_type": "stream",
     "text": [
      "Line Epoch 7/100, Loss: 0.8133\n"
     ]
    },
    {
     "name": "stdout",
     "output_type": "stream",
     "text": [
      "Line Epoch 8/100, Loss: 0.6355\n"
     ]
    },
    {
     "name": "stdout",
     "output_type": "stream",
     "text": [
      "Line Epoch 9/100, Loss: 0.7050\n"
     ]
    },
    {
     "name": "stdout",
     "output_type": "stream",
     "text": [
      "Line Epoch 10/100, Loss: 0.6898\n"
     ]
    },
    {
     "name": "stdout",
     "output_type": "stream",
     "text": [
      "Line Epoch 11/100, Loss: 0.6702\n"
     ]
    },
    {
     "name": "stdout",
     "output_type": "stream",
     "text": [
      "Line Epoch 12/100, Loss: 0.6786\n"
     ]
    },
    {
     "name": "stdout",
     "output_type": "stream",
     "text": [
      "Line Epoch 13/100, Loss: 0.5709\n"
     ]
    },
    {
     "name": "stdout",
     "output_type": "stream",
     "text": [
      "Line Epoch 14/100, Loss: 0.5615\n"
     ]
    },
    {
     "name": "stdout",
     "output_type": "stream",
     "text": [
      "Line Epoch 15/100, Loss: 0.5424\n"
     ]
    },
    {
     "name": "stdout",
     "output_type": "stream",
     "text": [
      "Line Epoch 16/100, Loss: 0.5639\n"
     ]
    },
    {
     "name": "stdout",
     "output_type": "stream",
     "text": [
      "Line Epoch 17/100, Loss: 0.5370\n"
     ]
    },
    {
     "name": "stdout",
     "output_type": "stream",
     "text": [
      "Line Epoch 18/100, Loss: 0.5368\n"
     ]
    },
    {
     "name": "stdout",
     "output_type": "stream",
     "text": [
      "Line Epoch 19/100, Loss: 0.5784\n"
     ]
    },
    {
     "name": "stdout",
     "output_type": "stream",
     "text": [
      "Line Epoch 20/100, Loss: 0.5248\n"
     ]
    },
    {
     "name": "stdout",
     "output_type": "stream",
     "text": [
      "Line Epoch 21/100, Loss: 0.5173\n"
     ]
    },
    {
     "name": "stdout",
     "output_type": "stream",
     "text": [
      "Line Epoch 22/100, Loss: 0.5651\n"
     ]
    },
    {
     "name": "stdout",
     "output_type": "stream",
     "text": [
      "Line Epoch 23/100, Loss: 0.5761\n"
     ]
    },
    {
     "name": "stdout",
     "output_type": "stream",
     "text": [
      "Line Epoch 24/100, Loss: 0.5772\n"
     ]
    },
    {
     "name": "stdout",
     "output_type": "stream",
     "text": [
      "Line Epoch 25/100, Loss: 0.5496\n"
     ]
    },
    {
     "name": "stdout",
     "output_type": "stream",
     "text": [
      "Line Epoch 26/100, Loss: 0.4541\n"
     ]
    },
    {
     "name": "stdout",
     "output_type": "stream",
     "text": [
      "Line Epoch 27/100, Loss: 0.5153\n"
     ]
    },
    {
     "name": "stdout",
     "output_type": "stream",
     "text": [
      "Line Epoch 28/100, Loss: 0.4977\n"
     ]
    },
    {
     "name": "stdout",
     "output_type": "stream",
     "text": [
      "Line Epoch 29/100, Loss: 0.5339\n"
     ]
    },
    {
     "name": "stdout",
     "output_type": "stream",
     "text": [
      "Line Epoch 30/100, Loss: 0.5075\n"
     ]
    },
    {
     "name": "stdout",
     "output_type": "stream",
     "text": [
      "Line Epoch 31/100, Loss: 0.5019\n",
      "Early stopping line training at epoch 31\n",
      "Training completed!\n"
     ]
    },
    {
     "name": "stdout",
     "output_type": "stream",
     "text": [
      "Starting cell-level training...\n"
     ]
    },
    {
     "name": "stdout",
     "output_type": "stream",
     "text": [
      "Cell Epoch 1/100, Overall Loss: 0.7635, Active: 2/2\n",
      "  COX IV/Galectin3/atubulin - Loss: 0.7948, Acc: 0.5125 \n",
      "  FUS/EEA1 - Loss: 0.7322, Acc: 0.5080 \n"
     ]
    },
    {
     "name": "stdout",
     "output_type": "stream",
     "text": [
      "Cell Epoch 2/100, Overall Loss: 0.7045, Active: 2/2\n",
      "  COX IV/Galectin3/atubulin - Loss: 0.7229, Acc: 0.5678 \n",
      "  FUS/EEA1 - Loss: 0.6861, Acc: 0.5670 \n"
     ]
    },
    {
     "name": "stdout",
     "output_type": "stream",
     "text": [
      "Cell Epoch 3/100, Overall Loss: 0.7015, Active: 2/2\n",
      "  COX IV/Galectin3/atubulin - Loss: 0.7153, Acc: 0.5855 \n",
      "  FUS/EEA1 - Loss: 0.6877, Acc: 0.5743 \n"
     ]
    },
    {
     "name": "stdout",
     "output_type": "stream",
     "text": [
      "Cell Epoch 4/100, Overall Loss: 0.6481, Active: 2/2\n",
      "  COX IV/Galectin3/atubulin - Loss: 0.6514, Acc: 0.6350 \n",
      "  FUS/EEA1 - Loss: 0.6448, Acc: 0.6328 \n"
     ]
    },
    {
     "name": "stdout",
     "output_type": "stream",
     "text": [
      "Cell Epoch 5/100, Overall Loss: 0.7041, Active: 2/2\n",
      "  COX IV/Galectin3/atubulin - Loss: 0.7114, Acc: 0.5998 \n",
      "  FUS/EEA1 - Loss: 0.6968, Acc: 0.5775 \n"
     ]
    },
    {
     "name": "stdout",
     "output_type": "stream",
     "text": [
      "Cell Epoch 6/100, Overall Loss: 0.6826, Active: 2/2\n",
      "  COX IV/Galectin3/atubulin - Loss: 0.6797, Acc: 0.6218 \n",
      "  FUS/EEA1 - Loss: 0.6856, Acc: 0.5895 \n"
     ]
    },
    {
     "name": "stdout",
     "output_type": "stream",
     "text": [
      "Cell Epoch 7/100, Overall Loss: 0.6429, Active: 2/2\n",
      "  COX IV/Galectin3/atubulin - Loss: 0.6380, Acc: 0.6520 \n",
      "  FUS/EEA1 - Loss: 0.6479, Acc: 0.6380 \n"
     ]
    },
    {
     "name": "stdout",
     "output_type": "stream",
     "text": [
      "Cell Epoch 8/100, Overall Loss: 0.6650, Active: 2/2\n",
      "  COX IV/Galectin3/atubulin - Loss: 0.6517, Acc: 0.6398 \n",
      "  FUS/EEA1 - Loss: 0.6782, Acc: 0.5925 \n"
     ]
    },
    {
     "name": "stdout",
     "output_type": "stream",
     "text": [
      "  Freezing FUS/EEA1 encoder at epoch 9\n",
      "Cell Epoch 9/100, Overall Loss: 0.6548, Active: 1/2\n",
      "  COX IV/Galectin3/atubulin - Loss: 0.6546, Acc: 0.6363 \n",
      "  FUS/EEA1 - Loss: 0.6549, Acc: 0.6228 [FROZEN]\n"
     ]
    },
    {
     "name": "stderr",
     "output_type": "stream",
     "text": [
      "/awlab/projects/2024_ALS/software/miniforge3/envs/maps/lib/python3.11/site-packages/torch/optim/lr_scheduler.py:182: UserWarning: Detected call of `lr_scheduler.step()` before `optimizer.step()`. In PyTorch 1.1.0 and later, you should call them in the opposite order: `optimizer.step()` before `lr_scheduler.step()`.  Failure to do this will result in PyTorch skipping the first value of the learning rate schedule. See more details at https://pytorch.org/docs/stable/optim.html#how-to-adjust-learning-rate\n",
      "  warnings.warn(\n"
     ]
    },
    {
     "name": "stdout",
     "output_type": "stream",
     "text": [
      "Cell Epoch 10/100, Overall Loss: 0.6726, Active: 1/2\n",
      "  COX IV/Galectin3/atubulin - Loss: 0.6726, Acc: 0.6220 \n",
      "  FUS/EEA1 - Loss: 0.0000, Acc: 0.0000 [FROZEN]\n"
     ]
    },
    {
     "name": "stdout",
     "output_type": "stream",
     "text": [
      "Cell Epoch 11/100, Overall Loss: 0.6960, Active: 1/2\n",
      "  COX IV/Galectin3/atubulin - Loss: 0.6960, Acc: 0.5995 \n",
      "  FUS/EEA1 - Loss: 0.0000, Acc: 0.0000 [FROZEN]\n"
     ]
    },
    {
     "name": "stdout",
     "output_type": "stream",
     "text": [
      "Cell Epoch 12/100, Overall Loss: 0.6365, Active: 1/2\n",
      "  COX IV/Galectin3/atubulin - Loss: 0.6365, Acc: 0.6450 \n",
      "  FUS/EEA1 - Loss: 0.0000, Acc: 0.0000 [FROZEN]\n"
     ]
    },
    {
     "name": "stdout",
     "output_type": "stream",
     "text": [
      "Cell Epoch 13/100, Overall Loss: 0.6640, Active: 1/2\n",
      "  COX IV/Galectin3/atubulin - Loss: 0.6640, Acc: 0.6163 \n",
      "  FUS/EEA1 - Loss: 0.0000, Acc: 0.0000 [FROZEN]\n"
     ]
    },
    {
     "name": "stdout",
     "output_type": "stream",
     "text": [
      "Cell Epoch 14/100, Overall Loss: 0.6509, Active: 1/2\n",
      "  COX IV/Galectin3/atubulin - Loss: 0.6509, Acc: 0.6353 \n",
      "  FUS/EEA1 - Loss: 0.0000, Acc: 0.0000 [FROZEN]\n"
     ]
    },
    {
     "name": "stdout",
     "output_type": "stream",
     "text": [
      "Cell Epoch 15/100, Overall Loss: 0.6687, Active: 1/2\n",
      "  COX IV/Galectin3/atubulin - Loss: 0.6687, Acc: 0.6155 \n",
      "  FUS/EEA1 - Loss: 0.0000, Acc: 0.0000 [FROZEN]\n"
     ]
    },
    {
     "name": "stdout",
     "output_type": "stream",
     "text": [
      "Cell Epoch 16/100, Overall Loss: 0.6309, Active: 1/2\n",
      "  COX IV/Galectin3/atubulin - Loss: 0.6309, Acc: 0.6448 \n",
      "  FUS/EEA1 - Loss: 0.0000, Acc: 0.0000 [FROZEN]\n"
     ]
    },
    {
     "name": "stdout",
     "output_type": "stream",
     "text": [
      "Cell Epoch 17/100, Overall Loss: 0.6335, Active: 1/2\n",
      "  COX IV/Galectin3/atubulin - Loss: 0.6335, Acc: 0.6445 \n",
      "  FUS/EEA1 - Loss: 0.0000, Acc: 0.0000 [FROZEN]\n"
     ]
    },
    {
     "name": "stdout",
     "output_type": "stream",
     "text": [
      "Cell Epoch 18/100, Overall Loss: 0.6600, Active: 1/2\n",
      "  COX IV/Galectin3/atubulin - Loss: 0.6600, Acc: 0.6103 \n",
      "  FUS/EEA1 - Loss: 0.0000, Acc: 0.0000 [FROZEN]\n"
     ]
    },
    {
     "name": "stdout",
     "output_type": "stream",
     "text": [
      "Cell Epoch 19/100, Overall Loss: 0.6844, Active: 1/2\n",
      "  COX IV/Galectin3/atubulin - Loss: 0.6844, Acc: 0.5983 \n",
      "  FUS/EEA1 - Loss: 0.0000, Acc: 0.0000 [FROZEN]\n"
     ]
    },
    {
     "name": "stdout",
     "output_type": "stream",
     "text": [
      "Cell Epoch 20/100, Overall Loss: 0.6760, Active: 1/2\n",
      "  COX IV/Galectin3/atubulin - Loss: 0.6760, Acc: 0.6023 \n",
      "  FUS/EEA1 - Loss: 0.0000, Acc: 0.0000 [FROZEN]\n"
     ]
    },
    {
     "name": "stdout",
     "output_type": "stream",
     "text": [
      "  Freezing COX IV/Galectin3/atubulin encoder at epoch 21\n",
      "Cell Epoch 21/100, Overall Loss: 0.6596, Active: 0/2\n",
      "  COX IV/Galectin3/atubulin - Loss: 0.6596, Acc: 0.6203 [FROZEN]\n",
      "  FUS/EEA1 - Loss: 0.0000, Acc: 0.0000 [FROZEN]\n",
      "All antibodies frozen - stopping cell training at epoch 21\n",
      "Starting line-level training...\n",
      "Unfreezing all antibody encoders for line training...\n"
     ]
    },
    {
     "name": "stdout",
     "output_type": "stream",
     "text": [
      "Line Epoch 1/100, Loss: 0.6044\n"
     ]
    },
    {
     "name": "stdout",
     "output_type": "stream",
     "text": [
      "Line Epoch 2/100, Loss: 0.6068\n"
     ]
    },
    {
     "name": "stdout",
     "output_type": "stream",
     "text": [
      "Line Epoch 3/100, Loss: 0.5819\n"
     ]
    },
    {
     "name": "stdout",
     "output_type": "stream",
     "text": [
      "Line Epoch 4/100, Loss: 0.6006\n"
     ]
    },
    {
     "name": "stdout",
     "output_type": "stream",
     "text": [
      "Line Epoch 5/100, Loss: 0.6014\n"
     ]
    },
    {
     "name": "stdout",
     "output_type": "stream",
     "text": [
      "Line Epoch 6/100, Loss: 0.4853\n"
     ]
    },
    {
     "name": "stdout",
     "output_type": "stream",
     "text": [
      "Line Epoch 7/100, Loss: 0.6342\n"
     ]
    },
    {
     "name": "stdout",
     "output_type": "stream",
     "text": [
      "Line Epoch 8/100, Loss: 0.5763\n"
     ]
    },
    {
     "name": "stdout",
     "output_type": "stream",
     "text": [
      "Line Epoch 9/100, Loss: 0.5441\n"
     ]
    },
    {
     "name": "stdout",
     "output_type": "stream",
     "text": [
      "Line Epoch 10/100, Loss: 0.5264\n"
     ]
    },
    {
     "name": "stdout",
     "output_type": "stream",
     "text": [
      "Line Epoch 11/100, Loss: 0.4687\n"
     ]
    },
    {
     "name": "stdout",
     "output_type": "stream",
     "text": [
      "Line Epoch 12/100, Loss: 0.5755\n"
     ]
    },
    {
     "name": "stdout",
     "output_type": "stream",
     "text": [
      "Line Epoch 13/100, Loss: 0.5075\n"
     ]
    },
    {
     "name": "stdout",
     "output_type": "stream",
     "text": [
      "Line Epoch 14/100, Loss: 0.5781\n"
     ]
    },
    {
     "name": "stdout",
     "output_type": "stream",
     "text": [
      "Line Epoch 15/100, Loss: 0.4329\n"
     ]
    },
    {
     "name": "stdout",
     "output_type": "stream",
     "text": [
      "Line Epoch 16/100, Loss: 0.6123\n"
     ]
    },
    {
     "name": "stdout",
     "output_type": "stream",
     "text": [
      "Line Epoch 17/100, Loss: 0.4199\n"
     ]
    },
    {
     "name": "stdout",
     "output_type": "stream",
     "text": [
      "Line Epoch 18/100, Loss: 0.5375\n"
     ]
    },
    {
     "name": "stdout",
     "output_type": "stream",
     "text": [
      "Line Epoch 19/100, Loss: 0.3979\n"
     ]
    },
    {
     "name": "stdout",
     "output_type": "stream",
     "text": [
      "Line Epoch 20/100, Loss: 0.4478\n"
     ]
    },
    {
     "name": "stdout",
     "output_type": "stream",
     "text": [
      "Line Epoch 21/100, Loss: 0.4624\n"
     ]
    },
    {
     "name": "stdout",
     "output_type": "stream",
     "text": [
      "Line Epoch 22/100, Loss: 0.4024\n"
     ]
    },
    {
     "name": "stdout",
     "output_type": "stream",
     "text": [
      "Line Epoch 23/100, Loss: 0.4224\n"
     ]
    },
    {
     "name": "stdout",
     "output_type": "stream",
     "text": [
      "Line Epoch 24/100, Loss: 0.3820\n"
     ]
    },
    {
     "name": "stdout",
     "output_type": "stream",
     "text": [
      "Line Epoch 25/100, Loss: 0.3787\n"
     ]
    },
    {
     "name": "stdout",
     "output_type": "stream",
     "text": [
      "Line Epoch 26/100, Loss: 0.3795\n"
     ]
    },
    {
     "name": "stdout",
     "output_type": "stream",
     "text": [
      "Line Epoch 27/100, Loss: 0.3520\n"
     ]
    },
    {
     "name": "stdout",
     "output_type": "stream",
     "text": [
      "Line Epoch 28/100, Loss: 0.4597\n"
     ]
    },
    {
     "name": "stdout",
     "output_type": "stream",
     "text": [
      "Line Epoch 29/100, Loss: 0.4252\n"
     ]
    },
    {
     "name": "stdout",
     "output_type": "stream",
     "text": [
      "Line Epoch 30/100, Loss: 0.4556\n"
     ]
    },
    {
     "name": "stdout",
     "output_type": "stream",
     "text": [
      "Line Epoch 31/100, Loss: 0.5000\n"
     ]
    },
    {
     "name": "stdout",
     "output_type": "stream",
     "text": [
      "Line Epoch 32/100, Loss: 0.4495\n",
      "Early stopping line training at epoch 32\n",
      "Training completed!\n"
     ]
    },
    {
     "name": "stdout",
     "output_type": "stream",
     "text": [
      "Training FUS...\n"
     ]
    },
    {
     "name": "stdout",
     "output_type": "stream",
     "text": [
      "Starting cell-level training...\n"
     ]
    },
    {
     "name": "stdout",
     "output_type": "stream",
     "text": [
      "Cell Epoch 1/100, Overall Loss: 0.8141, Active: 2/2\n",
      "  COX IV/Galectin3/atubulin - Loss: 0.8332, Acc: 0.5003 \n",
      "  FUS/EEA1 - Loss: 0.7950, Acc: 0.4863 \n"
     ]
    },
    {
     "name": "stdout",
     "output_type": "stream",
     "text": [
      "Cell Epoch 2/100, Overall Loss: 0.7495, Active: 2/2\n",
      "  COX IV/Galectin3/atubulin - Loss: 0.7716, Acc: 0.5290 \n",
      "  FUS/EEA1 - Loss: 0.7275, Acc: 0.5425 \n"
     ]
    },
    {
     "name": "stdout",
     "output_type": "stream",
     "text": [
      "Cell Epoch 3/100, Overall Loss: 0.7162, Active: 2/2\n",
      "  COX IV/Galectin3/atubulin - Loss: 0.7330, Acc: 0.5720 \n",
      "  FUS/EEA1 - Loss: 0.6993, Acc: 0.5818 \n"
     ]
    },
    {
     "name": "stdout",
     "output_type": "stream",
     "text": [
      "Cell Epoch 4/100, Overall Loss: 0.6996, Active: 2/2\n",
      "  COX IV/Galectin3/atubulin - Loss: 0.7174, Acc: 0.5743 \n",
      "  FUS/EEA1 - Loss: 0.6818, Acc: 0.6040 \n"
     ]
    },
    {
     "name": "stdout",
     "output_type": "stream",
     "text": [
      "Cell Epoch 5/100, Overall Loss: 0.6931, Active: 2/2\n",
      "  COX IV/Galectin3/atubulin - Loss: 0.7101, Acc: 0.5938 \n",
      "  FUS/EEA1 - Loss: 0.6761, Acc: 0.6200 \n"
     ]
    },
    {
     "name": "stdout",
     "output_type": "stream",
     "text": [
      "Cell Epoch 6/100, Overall Loss: 0.6597, Active: 2/2\n",
      "  COX IV/Galectin3/atubulin - Loss: 0.6953, Acc: 0.5970 \n",
      "  FUS/EEA1 - Loss: 0.6240, Acc: 0.6628 \n"
     ]
    },
    {
     "name": "stdout",
     "output_type": "stream",
     "text": [
      "Cell Epoch 7/100, Overall Loss: 0.6664, Active: 2/2\n",
      "  COX IV/Galectin3/atubulin - Loss: 0.7014, Acc: 0.5943 \n",
      "  FUS/EEA1 - Loss: 0.6314, Acc: 0.6558 \n"
     ]
    },
    {
     "name": "stdout",
     "output_type": "stream",
     "text": [
      "Cell Epoch 8/100, Overall Loss: 0.6436, Active: 2/2\n",
      "  COX IV/Galectin3/atubulin - Loss: 0.6906, Acc: 0.6040 \n",
      "  FUS/EEA1 - Loss: 0.5966, Acc: 0.6815 \n"
     ]
    },
    {
     "name": "stdout",
     "output_type": "stream",
     "text": [
      "Cell Epoch 9/100, Overall Loss: 0.6632, Active: 2/2\n",
      "  COX IV/Galectin3/atubulin - Loss: 0.7047, Acc: 0.5925 \n",
      "  FUS/EEA1 - Loss: 0.6216, Acc: 0.6575 \n"
     ]
    },
    {
     "name": "stdout",
     "output_type": "stream",
     "text": [
      "Cell Epoch 10/100, Overall Loss: 0.6699, Active: 2/2\n",
      "  COX IV/Galectin3/atubulin - Loss: 0.7112, Acc: 0.5830 \n",
      "  FUS/EEA1 - Loss: 0.6286, Acc: 0.6543 \n"
     ]
    },
    {
     "name": "stdout",
     "output_type": "stream",
     "text": [
      "Cell Epoch 11/100, Overall Loss: 0.6852, Active: 2/2\n",
      "  COX IV/Galectin3/atubulin - Loss: 0.7157, Acc: 0.5755 \n",
      "  FUS/EEA1 - Loss: 0.6546, Acc: 0.6328 \n"
     ]
    },
    {
     "name": "stdout",
     "output_type": "stream",
     "text": [
      "Cell Epoch 12/100, Overall Loss: 0.6954, Active: 2/2\n",
      "  COX IV/Galectin3/atubulin - Loss: 0.7174, Acc: 0.5695 \n",
      "  FUS/EEA1 - Loss: 0.6735, Acc: 0.6250 \n"
     ]
    },
    {
     "name": "stdout",
     "output_type": "stream",
     "text": [
      "  Freezing FUS/EEA1 encoder at epoch 13\n",
      "Cell Epoch 13/100, Overall Loss: 0.6411, Active: 1/2\n",
      "  COX IV/Galectin3/atubulin - Loss: 0.6791, Acc: 0.6025 \n",
      "  FUS/EEA1 - Loss: 0.6031, Acc: 0.6725 [FROZEN]\n"
     ]
    },
    {
     "name": "stderr",
     "output_type": "stream",
     "text": [
      "/awlab/projects/2024_ALS/software/miniforge3/envs/maps/lib/python3.11/site-packages/torch/optim/lr_scheduler.py:182: UserWarning: Detected call of `lr_scheduler.step()` before `optimizer.step()`. In PyTorch 1.1.0 and later, you should call them in the opposite order: `optimizer.step()` before `lr_scheduler.step()`.  Failure to do this will result in PyTorch skipping the first value of the learning rate schedule. See more details at https://pytorch.org/docs/stable/optim.html#how-to-adjust-learning-rate\n",
      "  warnings.warn(\n"
     ]
    },
    {
     "name": "stdout",
     "output_type": "stream",
     "text": [
      "Cell Epoch 14/100, Overall Loss: 0.7737, Active: 1/2\n",
      "  COX IV/Galectin3/atubulin - Loss: 0.7737, Acc: 0.5275 \n",
      "  FUS/EEA1 - Loss: 0.0000, Acc: 0.0000 [FROZEN]\n"
     ]
    },
    {
     "name": "stdout",
     "output_type": "stream",
     "text": [
      "Cell Epoch 15/100, Overall Loss: 0.6967, Active: 1/2\n",
      "  COX IV/Galectin3/atubulin - Loss: 0.6967, Acc: 0.5698 \n",
      "  FUS/EEA1 - Loss: 0.0000, Acc: 0.0000 [FROZEN]\n"
     ]
    },
    {
     "name": "stdout",
     "output_type": "stream",
     "text": [
      "Cell Epoch 16/100, Overall Loss: 0.6961, Active: 1/2\n",
      "  COX IV/Galectin3/atubulin - Loss: 0.6961, Acc: 0.5680 \n",
      "  FUS/EEA1 - Loss: 0.0000, Acc: 0.0000 [FROZEN]\n"
     ]
    },
    {
     "name": "stdout",
     "output_type": "stream",
     "text": [
      "Cell Epoch 17/100, Overall Loss: 0.6941, Active: 1/2\n",
      "  COX IV/Galectin3/atubulin - Loss: 0.6941, Acc: 0.5773 \n",
      "  FUS/EEA1 - Loss: 0.0000, Acc: 0.0000 [FROZEN]\n"
     ]
    },
    {
     "name": "stdout",
     "output_type": "stream",
     "text": [
      "Cell Epoch 18/100, Overall Loss: 0.6586, Active: 1/2\n",
      "  COX IV/Galectin3/atubulin - Loss: 0.6586, Acc: 0.6118 \n",
      "  FUS/EEA1 - Loss: 0.0000, Acc: 0.0000 [FROZEN]\n"
     ]
    },
    {
     "name": "stdout",
     "output_type": "stream",
     "text": [
      "Cell Epoch 19/100, Overall Loss: 0.6665, Active: 1/2\n",
      "  COX IV/Galectin3/atubulin - Loss: 0.6665, Acc: 0.5973 \n",
      "  FUS/EEA1 - Loss: 0.0000, Acc: 0.0000 [FROZEN]\n"
     ]
    },
    {
     "name": "stdout",
     "output_type": "stream",
     "text": [
      "Cell Epoch 20/100, Overall Loss: 0.6567, Active: 1/2\n",
      "  COX IV/Galectin3/atubulin - Loss: 0.6567, Acc: 0.6035 \n",
      "  FUS/EEA1 - Loss: 0.0000, Acc: 0.0000 [FROZEN]\n"
     ]
    },
    {
     "name": "stdout",
     "output_type": "stream",
     "text": [
      "Cell Epoch 21/100, Overall Loss: 0.6706, Active: 1/2\n",
      "  COX IV/Galectin3/atubulin - Loss: 0.6706, Acc: 0.5965 \n",
      "  FUS/EEA1 - Loss: 0.0000, Acc: 0.0000 [FROZEN]\n"
     ]
    },
    {
     "name": "stdout",
     "output_type": "stream",
     "text": [
      "Cell Epoch 22/100, Overall Loss: 0.6603, Active: 1/2\n",
      "  COX IV/Galectin3/atubulin - Loss: 0.6603, Acc: 0.6220 \n",
      "  FUS/EEA1 - Loss: 0.0000, Acc: 0.0000 [FROZEN]\n"
     ]
    },
    {
     "name": "stdout",
     "output_type": "stream",
     "text": [
      "Cell Epoch 23/100, Overall Loss: 0.6640, Active: 1/2\n",
      "  COX IV/Galectin3/atubulin - Loss: 0.6640, Acc: 0.6140 \n",
      "  FUS/EEA1 - Loss: 0.0000, Acc: 0.0000 [FROZEN]\n"
     ]
    },
    {
     "name": "stdout",
     "output_type": "stream",
     "text": [
      "Cell Epoch 24/100, Overall Loss: 0.6514, Active: 1/2\n",
      "  COX IV/Galectin3/atubulin - Loss: 0.6514, Acc: 0.6225 \n",
      "  FUS/EEA1 - Loss: 0.0000, Acc: 0.0000 [FROZEN]\n"
     ]
    },
    {
     "name": "stdout",
     "output_type": "stream",
     "text": [
      "Cell Epoch 25/100, Overall Loss: 0.6549, Active: 1/2\n",
      "  COX IV/Galectin3/atubulin - Loss: 0.6549, Acc: 0.6128 \n",
      "  FUS/EEA1 - Loss: 0.0000, Acc: 0.0000 [FROZEN]\n"
     ]
    },
    {
     "name": "stdout",
     "output_type": "stream",
     "text": [
      "Cell Epoch 26/100, Overall Loss: 0.6609, Active: 1/2\n",
      "  COX IV/Galectin3/atubulin - Loss: 0.6609, Acc: 0.6050 \n",
      "  FUS/EEA1 - Loss: 0.0000, Acc: 0.0000 [FROZEN]\n"
     ]
    },
    {
     "name": "stdout",
     "output_type": "stream",
     "text": [
      "Cell Epoch 27/100, Overall Loss: 0.6513, Active: 1/2\n",
      "  COX IV/Galectin3/atubulin - Loss: 0.6513, Acc: 0.6093 \n",
      "  FUS/EEA1 - Loss: 0.0000, Acc: 0.0000 [FROZEN]\n"
     ]
    },
    {
     "name": "stdout",
     "output_type": "stream",
     "text": [
      "Cell Epoch 28/100, Overall Loss: 0.6676, Active: 1/2\n",
      "  COX IV/Galectin3/atubulin - Loss: 0.6676, Acc: 0.6123 \n",
      "  FUS/EEA1 - Loss: 0.0000, Acc: 0.0000 [FROZEN]\n"
     ]
    },
    {
     "name": "stdout",
     "output_type": "stream",
     "text": [
      "Cell Epoch 29/100, Overall Loss: 0.6902, Active: 1/2\n",
      "  COX IV/Galectin3/atubulin - Loss: 0.6902, Acc: 0.6023 \n",
      "  FUS/EEA1 - Loss: 0.0000, Acc: 0.0000 [FROZEN]\n"
     ]
    },
    {
     "name": "stdout",
     "output_type": "stream",
     "text": [
      "Cell Epoch 30/100, Overall Loss: 0.6440, Active: 1/2\n",
      "  COX IV/Galectin3/atubulin - Loss: 0.6440, Acc: 0.6225 \n",
      "  FUS/EEA1 - Loss: 0.0000, Acc: 0.0000 [FROZEN]\n"
     ]
    },
    {
     "name": "stdout",
     "output_type": "stream",
     "text": [
      "Cell Epoch 31/100, Overall Loss: 0.6490, Active: 1/2\n",
      "  COX IV/Galectin3/atubulin - Loss: 0.6490, Acc: 0.6118 \n",
      "  FUS/EEA1 - Loss: 0.0000, Acc: 0.0000 [FROZEN]\n"
     ]
    },
    {
     "name": "stdout",
     "output_type": "stream",
     "text": [
      "Cell Epoch 32/100, Overall Loss: 0.6651, Active: 1/2\n",
      "  COX IV/Galectin3/atubulin - Loss: 0.6651, Acc: 0.5980 \n",
      "  FUS/EEA1 - Loss: 0.0000, Acc: 0.0000 [FROZEN]\n"
     ]
    },
    {
     "name": "stdout",
     "output_type": "stream",
     "text": [
      "Cell Epoch 33/100, Overall Loss: 0.6600, Active: 1/2\n",
      "  COX IV/Galectin3/atubulin - Loss: 0.6600, Acc: 0.6015 \n",
      "  FUS/EEA1 - Loss: 0.0000, Acc: 0.0000 [FROZEN]\n"
     ]
    },
    {
     "name": "stdout",
     "output_type": "stream",
     "text": [
      "Cell Epoch 34/100, Overall Loss: 0.6871, Active: 1/2\n",
      "  COX IV/Galectin3/atubulin - Loss: 0.6871, Acc: 0.5925 \n",
      "  FUS/EEA1 - Loss: 0.0000, Acc: 0.0000 [FROZEN]\n"
     ]
    },
    {
     "name": "stdout",
     "output_type": "stream",
     "text": [
      "  Freezing COX IV/Galectin3/atubulin encoder at epoch 35\n",
      "Cell Epoch 35/100, Overall Loss: 0.6657, Active: 0/2\n",
      "  COX IV/Galectin3/atubulin - Loss: 0.6657, Acc: 0.6113 [FROZEN]\n",
      "  FUS/EEA1 - Loss: 0.0000, Acc: 0.0000 [FROZEN]\n",
      "All antibodies frozen - stopping cell training at epoch 35\n",
      "Starting line-level training...\n",
      "Unfreezing all antibody encoders for line training...\n"
     ]
    },
    {
     "name": "stdout",
     "output_type": "stream",
     "text": [
      "Line Epoch 1/100, Loss: 1.0712\n"
     ]
    },
    {
     "name": "stdout",
     "output_type": "stream",
     "text": [
      "Line Epoch 2/100, Loss: 1.0270\n"
     ]
    },
    {
     "name": "stdout",
     "output_type": "stream",
     "text": [
      "Line Epoch 3/100, Loss: 1.0167\n"
     ]
    },
    {
     "name": "stdout",
     "output_type": "stream",
     "text": [
      "Line Epoch 4/100, Loss: 0.9670\n"
     ]
    },
    {
     "name": "stdout",
     "output_type": "stream",
     "text": [
      "Line Epoch 5/100, Loss: 0.8749\n"
     ]
    },
    {
     "name": "stdout",
     "output_type": "stream",
     "text": [
      "Line Epoch 6/100, Loss: 0.8952\n"
     ]
    },
    {
     "name": "stdout",
     "output_type": "stream",
     "text": [
      "Line Epoch 7/100, Loss: 0.9156\n"
     ]
    },
    {
     "name": "stdout",
     "output_type": "stream",
     "text": [
      "Line Epoch 8/100, Loss: 0.8123\n"
     ]
    },
    {
     "name": "stdout",
     "output_type": "stream",
     "text": [
      "Line Epoch 9/100, Loss: 0.6985\n"
     ]
    },
    {
     "name": "stdout",
     "output_type": "stream",
     "text": [
      "Line Epoch 10/100, Loss: 0.7280\n"
     ]
    },
    {
     "name": "stdout",
     "output_type": "stream",
     "text": [
      "Line Epoch 11/100, Loss: 0.7638\n"
     ]
    },
    {
     "name": "stdout",
     "output_type": "stream",
     "text": [
      "Line Epoch 12/100, Loss: 0.7357\n"
     ]
    },
    {
     "name": "stdout",
     "output_type": "stream",
     "text": [
      "Line Epoch 13/100, Loss: 0.7092\n"
     ]
    },
    {
     "name": "stdout",
     "output_type": "stream",
     "text": [
      "Line Epoch 14/100, Loss: 0.6530\n"
     ]
    },
    {
     "name": "stdout",
     "output_type": "stream",
     "text": [
      "Line Epoch 15/100, Loss: 0.6228\n"
     ]
    },
    {
     "name": "stdout",
     "output_type": "stream",
     "text": [
      "Line Epoch 16/100, Loss: 0.6188\n"
     ]
    },
    {
     "name": "stdout",
     "output_type": "stream",
     "text": [
      "Line Epoch 17/100, Loss: 0.6409\n"
     ]
    },
    {
     "name": "stdout",
     "output_type": "stream",
     "text": [
      "Line Epoch 18/100, Loss: 0.6264\n"
     ]
    },
    {
     "name": "stdout",
     "output_type": "stream",
     "text": [
      "Line Epoch 19/100, Loss: 0.6441\n"
     ]
    },
    {
     "name": "stdout",
     "output_type": "stream",
     "text": [
      "Line Epoch 20/100, Loss: 0.6059\n"
     ]
    },
    {
     "name": "stdout",
     "output_type": "stream",
     "text": [
      "Line Epoch 21/100, Loss: 0.5699\n"
     ]
    },
    {
     "name": "stdout",
     "output_type": "stream",
     "text": [
      "Line Epoch 22/100, Loss: 0.6490\n"
     ]
    },
    {
     "name": "stdout",
     "output_type": "stream",
     "text": [
      "Line Epoch 23/100, Loss: 0.5802\n"
     ]
    },
    {
     "name": "stdout",
     "output_type": "stream",
     "text": [
      "Line Epoch 24/100, Loss: 0.5455\n"
     ]
    },
    {
     "name": "stdout",
     "output_type": "stream",
     "text": [
      "Line Epoch 25/100, Loss: 0.5874\n"
     ]
    },
    {
     "name": "stdout",
     "output_type": "stream",
     "text": [
      "Line Epoch 26/100, Loss: 0.5710\n"
     ]
    },
    {
     "name": "stdout",
     "output_type": "stream",
     "text": [
      "Line Epoch 27/100, Loss: 0.5524\n"
     ]
    },
    {
     "name": "stdout",
     "output_type": "stream",
     "text": [
      "Line Epoch 28/100, Loss: 0.5916\n"
     ]
    },
    {
     "name": "stdout",
     "output_type": "stream",
     "text": [
      "Line Epoch 29/100, Loss: 0.5532\n",
      "Early stopping line training at epoch 29\n",
      "Training completed!\n"
     ]
    },
    {
     "name": "stdout",
     "output_type": "stream",
     "text": [
      "Starting cell-level training...\n"
     ]
    },
    {
     "name": "stdout",
     "output_type": "stream",
     "text": [
      "Cell Epoch 1/100, Overall Loss: 0.7601, Active: 2/2\n",
      "  COX IV/Galectin3/atubulin - Loss: 0.7846, Acc: 0.4848 \n",
      "  FUS/EEA1 - Loss: 0.7355, Acc: 0.5183 \n"
     ]
    },
    {
     "name": "stdout",
     "output_type": "stream",
     "text": [
      "Cell Epoch 2/100, Overall Loss: 0.7287, Active: 2/2\n",
      "  COX IV/Galectin3/atubulin - Loss: 0.7515, Acc: 0.5093 \n",
      "  FUS/EEA1 - Loss: 0.7059, Acc: 0.5470 \n"
     ]
    },
    {
     "name": "stdout",
     "output_type": "stream",
     "text": [
      "Cell Epoch 3/100, Overall Loss: 0.7137, Active: 2/2\n",
      "  COX IV/Galectin3/atubulin - Loss: 0.7328, Acc: 0.5335 \n",
      "  FUS/EEA1 - Loss: 0.6946, Acc: 0.5540 \n"
     ]
    },
    {
     "name": "stdout",
     "output_type": "stream",
     "text": [
      "Cell Epoch 4/100, Overall Loss: 0.6903, Active: 2/2\n",
      "  COX IV/Galectin3/atubulin - Loss: 0.7157, Acc: 0.5570 \n",
      "  FUS/EEA1 - Loss: 0.6650, Acc: 0.5960 \n"
     ]
    },
    {
     "name": "stdout",
     "output_type": "stream",
     "text": [
      "Cell Epoch 5/100, Overall Loss: 0.6904, Active: 2/2\n",
      "  COX IV/Galectin3/atubulin - Loss: 0.7172, Acc: 0.5540 \n",
      "  FUS/EEA1 - Loss: 0.6636, Acc: 0.5950 \n"
     ]
    },
    {
     "name": "stdout",
     "output_type": "stream",
     "text": [
      "Cell Epoch 6/100, Overall Loss: 0.6881, Active: 2/2\n",
      "  COX IV/Galectin3/atubulin - Loss: 0.7031, Acc: 0.5755 \n",
      "  FUS/EEA1 - Loss: 0.6732, Acc: 0.5940 \n"
     ]
    },
    {
     "name": "stdout",
     "output_type": "stream",
     "text": [
      "Cell Epoch 7/100, Overall Loss: 0.6658, Active: 2/2\n",
      "  COX IV/Galectin3/atubulin - Loss: 0.6908, Acc: 0.5773 \n",
      "  FUS/EEA1 - Loss: 0.6408, Acc: 0.6328 \n"
     ]
    },
    {
     "name": "stdout",
     "output_type": "stream",
     "text": [
      "Cell Epoch 8/100, Overall Loss: 0.6668, Active: 2/2\n",
      "  COX IV/Galectin3/atubulin - Loss: 0.6945, Acc: 0.5640 \n",
      "  FUS/EEA1 - Loss: 0.6390, Acc: 0.6325 \n"
     ]
    },
    {
     "name": "stdout",
     "output_type": "stream",
     "text": [
      "Cell Epoch 9/100, Overall Loss: 0.6731, Active: 2/2\n",
      "  COX IV/Galectin3/atubulin - Loss: 0.6860, Acc: 0.5790 \n",
      "  FUS/EEA1 - Loss: 0.6601, Acc: 0.6055 \n"
     ]
    },
    {
     "name": "stdout",
     "output_type": "stream",
     "text": [
      "Cell Epoch 10/100, Overall Loss: 0.6574, Active: 2/2\n",
      "  COX IV/Galectin3/atubulin - Loss: 0.6738, Acc: 0.5828 \n",
      "  FUS/EEA1 - Loss: 0.6410, Acc: 0.6325 \n"
     ]
    },
    {
     "name": "stdout",
     "output_type": "stream",
     "text": [
      "Cell Epoch 11/100, Overall Loss: 0.6613, Active: 2/2\n",
      "  COX IV/Galectin3/atubulin - Loss: 0.6852, Acc: 0.5788 \n",
      "  FUS/EEA1 - Loss: 0.6373, Acc: 0.6328 \n"
     ]
    },
    {
     "name": "stdout",
     "output_type": "stream",
     "text": [
      "Cell Epoch 12/100, Overall Loss: 0.6754, Active: 2/2\n",
      "  COX IV/Galectin3/atubulin - Loss: 0.6933, Acc: 0.5688 \n",
      "  FUS/EEA1 - Loss: 0.6575, Acc: 0.6125 \n"
     ]
    },
    {
     "name": "stdout",
     "output_type": "stream",
     "text": [
      "Cell Epoch 13/100, Overall Loss: 0.6628, Active: 2/2\n",
      "  COX IV/Galectin3/atubulin - Loss: 0.6763, Acc: 0.5850 \n",
      "  FUS/EEA1 - Loss: 0.6493, Acc: 0.6250 \n"
     ]
    },
    {
     "name": "stdout",
     "output_type": "stream",
     "text": [
      "Cell Epoch 14/100, Overall Loss: 0.6676, Active: 2/2\n",
      "  COX IV/Galectin3/atubulin - Loss: 0.6775, Acc: 0.5885 \n",
      "  FUS/EEA1 - Loss: 0.6578, Acc: 0.6113 \n"
     ]
    },
    {
     "name": "stdout",
     "output_type": "stream",
     "text": [
      "  Freezing COX IV/Galectin3/atubulin encoder at epoch 15\n",
      "Cell Epoch 15/100, Overall Loss: 0.6702, Active: 1/2\n",
      "  COX IV/Galectin3/atubulin - Loss: 0.6890, Acc: 0.5665 [FROZEN]\n",
      "  FUS/EEA1 - Loss: 0.6515, Acc: 0.6258 \n"
     ]
    },
    {
     "name": "stderr",
     "output_type": "stream",
     "text": [
      "/awlab/projects/2024_ALS/software/miniforge3/envs/maps/lib/python3.11/site-packages/torch/optim/lr_scheduler.py:182: UserWarning: Detected call of `lr_scheduler.step()` before `optimizer.step()`. In PyTorch 1.1.0 and later, you should call them in the opposite order: `optimizer.step()` before `lr_scheduler.step()`.  Failure to do this will result in PyTorch skipping the first value of the learning rate schedule. See more details at https://pytorch.org/docs/stable/optim.html#how-to-adjust-learning-rate\n",
      "  warnings.warn(\n"
     ]
    },
    {
     "name": "stdout",
     "output_type": "stream",
     "text": [
      "Cell Epoch 16/100, Overall Loss: 0.6355, Active: 1/2\n",
      "  COX IV/Galectin3/atubulin - Loss: 0.0000, Acc: 0.0000 [FROZEN]\n",
      "  FUS/EEA1 - Loss: 0.6355, Acc: 0.6340 \n"
     ]
    },
    {
     "name": "stdout",
     "output_type": "stream",
     "text": [
      "Cell Epoch 17/100, Overall Loss: 0.6380, Active: 1/2\n",
      "  COX IV/Galectin3/atubulin - Loss: 0.0000, Acc: 0.0000 [FROZEN]\n",
      "  FUS/EEA1 - Loss: 0.6380, Acc: 0.6300 \n"
     ]
    },
    {
     "name": "stdout",
     "output_type": "stream",
     "text": [
      "Cell Epoch 18/100, Overall Loss: 0.6365, Active: 1/2\n",
      "  COX IV/Galectin3/atubulin - Loss: 0.0000, Acc: 0.0000 [FROZEN]\n",
      "  FUS/EEA1 - Loss: 0.6365, Acc: 0.6333 \n"
     ]
    },
    {
     "name": "stdout",
     "output_type": "stream",
     "text": [
      "Cell Epoch 19/100, Overall Loss: 0.6376, Active: 1/2\n",
      "  COX IV/Galectin3/atubulin - Loss: 0.0000, Acc: 0.0000 [FROZEN]\n",
      "  FUS/EEA1 - Loss: 0.6376, Acc: 0.6293 \n"
     ]
    },
    {
     "name": "stdout",
     "output_type": "stream",
     "text": [
      "Cell Epoch 20/100, Overall Loss: 0.6293, Active: 1/2\n",
      "  COX IV/Galectin3/atubulin - Loss: 0.0000, Acc: 0.0000 [FROZEN]\n",
      "  FUS/EEA1 - Loss: 0.6293, Acc: 0.6393 \n"
     ]
    },
    {
     "name": "stdout",
     "output_type": "stream",
     "text": [
      "Cell Epoch 21/100, Overall Loss: 0.6312, Active: 1/2\n",
      "  COX IV/Galectin3/atubulin - Loss: 0.0000, Acc: 0.0000 [FROZEN]\n",
      "  FUS/EEA1 - Loss: 0.6312, Acc: 0.6380 \n"
     ]
    },
    {
     "name": "stdout",
     "output_type": "stream",
     "text": [
      "Cell Epoch 22/100, Overall Loss: 0.6212, Active: 1/2\n",
      "  COX IV/Galectin3/atubulin - Loss: 0.0000, Acc: 0.0000 [FROZEN]\n",
      "  FUS/EEA1 - Loss: 0.6212, Acc: 0.6448 \n"
     ]
    },
    {
     "name": "stdout",
     "output_type": "stream",
     "text": [
      "Cell Epoch 23/100, Overall Loss: 0.6275, Active: 1/2\n",
      "  COX IV/Galectin3/atubulin - Loss: 0.0000, Acc: 0.0000 [FROZEN]\n",
      "  FUS/EEA1 - Loss: 0.6275, Acc: 0.6388 \n"
     ]
    },
    {
     "name": "stdout",
     "output_type": "stream",
     "text": [
      "Cell Epoch 24/100, Overall Loss: 0.6812, Active: 1/2\n",
      "  COX IV/Galectin3/atubulin - Loss: 0.0000, Acc: 0.0000 [FROZEN]\n",
      "  FUS/EEA1 - Loss: 0.6812, Acc: 0.5910 \n"
     ]
    },
    {
     "name": "stdout",
     "output_type": "stream",
     "text": [
      "Cell Epoch 25/100, Overall Loss: 0.6697, Active: 1/2\n",
      "  COX IV/Galectin3/atubulin - Loss: 0.0000, Acc: 0.0000 [FROZEN]\n",
      "  FUS/EEA1 - Loss: 0.6697, Acc: 0.6018 \n"
     ]
    },
    {
     "name": "stdout",
     "output_type": "stream",
     "text": [
      "Cell Epoch 26/100, Overall Loss: 0.6122, Active: 1/2\n",
      "  COX IV/Galectin3/atubulin - Loss: 0.0000, Acc: 0.0000 [FROZEN]\n",
      "  FUS/EEA1 - Loss: 0.6122, Acc: 0.6590 \n"
     ]
    },
    {
     "name": "stdout",
     "output_type": "stream",
     "text": [
      "Cell Epoch 27/100, Overall Loss: 0.6369, Active: 1/2\n",
      "  COX IV/Galectin3/atubulin - Loss: 0.0000, Acc: 0.0000 [FROZEN]\n",
      "  FUS/EEA1 - Loss: 0.6369, Acc: 0.6278 \n"
     ]
    },
    {
     "name": "stdout",
     "output_type": "stream",
     "text": [
      "Cell Epoch 28/100, Overall Loss: 0.6151, Active: 1/2\n",
      "  COX IV/Galectin3/atubulin - Loss: 0.0000, Acc: 0.0000 [FROZEN]\n",
      "  FUS/EEA1 - Loss: 0.6151, Acc: 0.6575 \n"
     ]
    },
    {
     "name": "stdout",
     "output_type": "stream",
     "text": [
      "Cell Epoch 29/100, Overall Loss: 0.6191, Active: 1/2\n",
      "  COX IV/Galectin3/atubulin - Loss: 0.0000, Acc: 0.0000 [FROZEN]\n",
      "  FUS/EEA1 - Loss: 0.6191, Acc: 0.6500 \n"
     ]
    },
    {
     "name": "stdout",
     "output_type": "stream",
     "text": [
      "Cell Epoch 30/100, Overall Loss: 0.6102, Active: 1/2\n",
      "  COX IV/Galectin3/atubulin - Loss: 0.0000, Acc: 0.0000 [FROZEN]\n",
      "  FUS/EEA1 - Loss: 0.6102, Acc: 0.6533 \n"
     ]
    },
    {
     "name": "stdout",
     "output_type": "stream",
     "text": [
      "Cell Epoch 31/100, Overall Loss: 0.6524, Active: 1/2\n",
      "  COX IV/Galectin3/atubulin - Loss: 0.0000, Acc: 0.0000 [FROZEN]\n",
      "  FUS/EEA1 - Loss: 0.6524, Acc: 0.6113 \n"
     ]
    },
    {
     "name": "stdout",
     "output_type": "stream",
     "text": [
      "Cell Epoch 32/100, Overall Loss: 0.6036, Active: 1/2\n",
      "  COX IV/Galectin3/atubulin - Loss: 0.0000, Acc: 0.0000 [FROZEN]\n",
      "  FUS/EEA1 - Loss: 0.6036, Acc: 0.6710 \n"
     ]
    },
    {
     "name": "stdout",
     "output_type": "stream",
     "text": [
      "Cell Epoch 33/100, Overall Loss: 0.6138, Active: 1/2\n",
      "  COX IV/Galectin3/atubulin - Loss: 0.0000, Acc: 0.0000 [FROZEN]\n",
      "  FUS/EEA1 - Loss: 0.6138, Acc: 0.6588 \n"
     ]
    },
    {
     "name": "stdout",
     "output_type": "stream",
     "text": [
      "Cell Epoch 34/100, Overall Loss: 0.6108, Active: 1/2\n",
      "  COX IV/Galectin3/atubulin - Loss: 0.0000, Acc: 0.0000 [FROZEN]\n",
      "  FUS/EEA1 - Loss: 0.6108, Acc: 0.6650 \n"
     ]
    },
    {
     "name": "stdout",
     "output_type": "stream",
     "text": [
      "Cell Epoch 35/100, Overall Loss: 0.6341, Active: 1/2\n",
      "  COX IV/Galectin3/atubulin - Loss: 0.0000, Acc: 0.0000 [FROZEN]\n",
      "  FUS/EEA1 - Loss: 0.6341, Acc: 0.6350 \n"
     ]
    },
    {
     "name": "stdout",
     "output_type": "stream",
     "text": [
      "Cell Epoch 36/100, Overall Loss: 0.6028, Active: 1/2\n",
      "  COX IV/Galectin3/atubulin - Loss: 0.0000, Acc: 0.0000 [FROZEN]\n",
      "  FUS/EEA1 - Loss: 0.6028, Acc: 0.6738 \n"
     ]
    },
    {
     "name": "stdout",
     "output_type": "stream",
     "text": [
      "Cell Epoch 37/100, Overall Loss: 0.6035, Active: 1/2\n",
      "  COX IV/Galectin3/atubulin - Loss: 0.0000, Acc: 0.0000 [FROZEN]\n",
      "  FUS/EEA1 - Loss: 0.6035, Acc: 0.6638 \n"
     ]
    },
    {
     "name": "stdout",
     "output_type": "stream",
     "text": [
      "Cell Epoch 38/100, Overall Loss: 0.6073, Active: 1/2\n",
      "  COX IV/Galectin3/atubulin - Loss: 0.0000, Acc: 0.0000 [FROZEN]\n",
      "  FUS/EEA1 - Loss: 0.6073, Acc: 0.6590 \n"
     ]
    },
    {
     "name": "stdout",
     "output_type": "stream",
     "text": [
      "Cell Epoch 39/100, Overall Loss: 0.5991, Active: 1/2\n",
      "  COX IV/Galectin3/atubulin - Loss: 0.0000, Acc: 0.0000 [FROZEN]\n",
      "  FUS/EEA1 - Loss: 0.5991, Acc: 0.6765 \n"
     ]
    },
    {
     "name": "stdout",
     "output_type": "stream",
     "text": [
      "Cell Epoch 40/100, Overall Loss: 0.5931, Active: 1/2\n",
      "  COX IV/Galectin3/atubulin - Loss: 0.0000, Acc: 0.0000 [FROZEN]\n",
      "  FUS/EEA1 - Loss: 0.5931, Acc: 0.6818 \n"
     ]
    },
    {
     "name": "stdout",
     "output_type": "stream",
     "text": [
      "Cell Epoch 41/100, Overall Loss: 0.6350, Active: 1/2\n",
      "  COX IV/Galectin3/atubulin - Loss: 0.0000, Acc: 0.0000 [FROZEN]\n",
      "  FUS/EEA1 - Loss: 0.6350, Acc: 0.6280 \n"
     ]
    },
    {
     "name": "stdout",
     "output_type": "stream",
     "text": [
      "Cell Epoch 42/100, Overall Loss: 0.6147, Active: 1/2\n",
      "  COX IV/Galectin3/atubulin - Loss: 0.0000, Acc: 0.0000 [FROZEN]\n",
      "  FUS/EEA1 - Loss: 0.6147, Acc: 0.6548 \n"
     ]
    },
    {
     "name": "stdout",
     "output_type": "stream",
     "text": [
      "Cell Epoch 43/100, Overall Loss: 0.6017, Active: 1/2\n",
      "  COX IV/Galectin3/atubulin - Loss: 0.0000, Acc: 0.0000 [FROZEN]\n",
      "  FUS/EEA1 - Loss: 0.6017, Acc: 0.6655 \n"
     ]
    },
    {
     "name": "stdout",
     "output_type": "stream",
     "text": [
      "Cell Epoch 44/100, Overall Loss: 0.6404, Active: 1/2\n",
      "  COX IV/Galectin3/atubulin - Loss: 0.0000, Acc: 0.0000 [FROZEN]\n",
      "  FUS/EEA1 - Loss: 0.6404, Acc: 0.6308 \n"
     ]
    },
    {
     "name": "stdout",
     "output_type": "stream",
     "text": [
      "  Freezing FUS/EEA1 encoder at epoch 45\n",
      "Cell Epoch 45/100, Overall Loss: 0.6215, Active: 0/2\n",
      "  COX IV/Galectin3/atubulin - Loss: 0.0000, Acc: 0.0000 [FROZEN]\n",
      "  FUS/EEA1 - Loss: 0.6215, Acc: 0.6445 [FROZEN]\n",
      "All antibodies frozen - stopping cell training at epoch 45\n",
      "Starting line-level training...\n",
      "Unfreezing all antibody encoders for line training...\n"
     ]
    },
    {
     "name": "stdout",
     "output_type": "stream",
     "text": [
      "Line Epoch 1/100, Loss: 0.5229\n"
     ]
    },
    {
     "name": "stdout",
     "output_type": "stream",
     "text": [
      "Line Epoch 2/100, Loss: 0.5283\n"
     ]
    },
    {
     "name": "stdout",
     "output_type": "stream",
     "text": [
      "Line Epoch 3/100, Loss: 0.4599\n"
     ]
    },
    {
     "name": "stdout",
     "output_type": "stream",
     "text": [
      "Line Epoch 4/100, Loss: 0.5584\n"
     ]
    },
    {
     "name": "stdout",
     "output_type": "stream",
     "text": [
      "Line Epoch 5/100, Loss: 0.4566\n"
     ]
    },
    {
     "name": "stdout",
     "output_type": "stream",
     "text": [
      "Line Epoch 6/100, Loss: 0.4272\n"
     ]
    },
    {
     "name": "stdout",
     "output_type": "stream",
     "text": [
      "Line Epoch 7/100, Loss: 0.4560\n"
     ]
    },
    {
     "name": "stdout",
     "output_type": "stream",
     "text": [
      "Line Epoch 8/100, Loss: 0.4531\n"
     ]
    },
    {
     "name": "stdout",
     "output_type": "stream",
     "text": [
      "Line Epoch 9/100, Loss: 0.3859\n"
     ]
    },
    {
     "name": "stdout",
     "output_type": "stream",
     "text": [
      "Line Epoch 10/100, Loss: 0.3758\n"
     ]
    },
    {
     "name": "stdout",
     "output_type": "stream",
     "text": [
      "Line Epoch 11/100, Loss: 0.3952\n"
     ]
    },
    {
     "name": "stdout",
     "output_type": "stream",
     "text": [
      "Line Epoch 12/100, Loss: 0.4438\n"
     ]
    },
    {
     "name": "stdout",
     "output_type": "stream",
     "text": [
      "Line Epoch 13/100, Loss: 0.3532\n"
     ]
    },
    {
     "name": "stdout",
     "output_type": "stream",
     "text": [
      "Line Epoch 14/100, Loss: 0.5074\n"
     ]
    },
    {
     "name": "stdout",
     "output_type": "stream",
     "text": [
      "Line Epoch 15/100, Loss: 0.3506\n"
     ]
    },
    {
     "name": "stdout",
     "output_type": "stream",
     "text": [
      "Line Epoch 16/100, Loss: 0.3773\n"
     ]
    },
    {
     "name": "stdout",
     "output_type": "stream",
     "text": [
      "Line Epoch 17/100, Loss: 0.4072\n"
     ]
    },
    {
     "name": "stdout",
     "output_type": "stream",
     "text": [
      "Line Epoch 18/100, Loss: 0.3442\n"
     ]
    },
    {
     "name": "stdout",
     "output_type": "stream",
     "text": [
      "Line Epoch 19/100, Loss: 0.3510\n"
     ]
    },
    {
     "name": "stdout",
     "output_type": "stream",
     "text": [
      "Line Epoch 20/100, Loss: 0.3431\n"
     ]
    },
    {
     "name": "stdout",
     "output_type": "stream",
     "text": [
      "Line Epoch 21/100, Loss: 0.4292\n"
     ]
    },
    {
     "name": "stdout",
     "output_type": "stream",
     "text": [
      "Line Epoch 22/100, Loss: 0.3142\n"
     ]
    },
    {
     "name": "stdout",
     "output_type": "stream",
     "text": [
      "Line Epoch 23/100, Loss: 0.4529\n"
     ]
    },
    {
     "name": "stdout",
     "output_type": "stream",
     "text": [
      "Line Epoch 24/100, Loss: 0.2939\n"
     ]
    },
    {
     "name": "stdout",
     "output_type": "stream",
     "text": [
      "Line Epoch 25/100, Loss: 0.3506\n"
     ]
    },
    {
     "name": "stdout",
     "output_type": "stream",
     "text": [
      "Line Epoch 26/100, Loss: 0.3222\n"
     ]
    },
    {
     "name": "stdout",
     "output_type": "stream",
     "text": [
      "Line Epoch 27/100, Loss: 0.4249\n"
     ]
    },
    {
     "name": "stdout",
     "output_type": "stream",
     "text": [
      "Line Epoch 28/100, Loss: 0.3069\n"
     ]
    },
    {
     "name": "stdout",
     "output_type": "stream",
     "text": [
      "Line Epoch 29/100, Loss: 0.3516\n",
      "Early stopping line training at epoch 29\n",
      "Training completed!\n"
     ]
    }
   ],
   "source": [
    "from maps.analyses import MAP\n",
    "map_analysis = MAP(screen)\n",
    "map_analysis.fit()"
   ]
  },
  {
   "cell_type": "code",
   "execution_count": 6,
   "id": "30a4e9c6",
   "metadata": {
    "execution": {
     "iopub.execute_input": "2025-10-08T18:21:24.926457Z",
     "iopub.status.busy": "2025-10-08T18:21:24.926049Z",
     "iopub.status.idle": "2025-10-08T18:21:26.618955Z",
     "shell.execute_reply": "2025-10-08T18:21:26.617617Z"
    },
    "papermill": {
     "duration": 1.714711,
     "end_time": "2025-10-08T18:21:26.621283",
     "exception": false,
     "start_time": "2025-10-08T18:21:24.906572",
     "status": "completed"
    },
    "tags": []
   },
   "outputs": [],
   "source": [
    "import pickle\n",
    "\n",
    "output_dir = Path(params.get(\"result_dir\")) / params.get(\"screen\")\n",
    "with open(output_dir / \"binary.pkl\", \"wb\") as f:\n",
    "    pickle.dump({\"analysis\": map_analysis, \"params\": params}, f)"
   ]
  }
 ],
 "metadata": {
  "kernelspec": {
   "display_name": "maps",
   "language": "python",
   "name": "python3"
  },
  "language_info": {
   "codemirror_mode": {
    "name": "ipython",
    "version": 3
   },
   "file_extension": ".py",
   "mimetype": "text/x-python",
   "name": "python",
   "nbconvert_exporter": "python",
   "pygments_lexer": "ipython3",
   "version": "3.11.13"
  },
  "papermill": {
   "default_parameters": {},
   "duration": 4237.661634,
   "end_time": "2025-10-08T18:21:31.270843",
   "environment_variables": {},
   "exception": null,
   "input_path": "binary.ipynb",
   "output_path": "binary_20250626_AWALS45_Full_screen_n_96.ipynb",
   "parameters": {
    "SCREEN": "20250626_AWALS45_Full_screen_n_96"
   },
   "start_time": "2025-10-08T17:10:53.609209",
   "version": "2.6.0"
  }
 },
 "nbformat": 4,
 "nbformat_minor": 5
}