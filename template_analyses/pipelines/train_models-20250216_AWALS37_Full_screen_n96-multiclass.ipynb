{
 "cells": [
  {
   "cell_type": "code",
   "execution_count": 1,
   "id": "09145b76",
   "metadata": {
    "execution": {
     "iopub.execute_input": "2025-10-08T22:23:04.440007Z",
     "iopub.status.busy": "2025-10-08T22:23:04.439561Z",
     "iopub.status.idle": "2025-10-08T22:23:04.448678Z",
     "shell.execute_reply": "2025-10-08T22:23:04.448000Z"
    },
    "papermill": {
     "duration": 0.015615,
     "end_time": "2025-10-08T22:23:04.450366",
     "exception": false,
     "start_time": "2025-10-08T22:23:04.434751",
     "status": "completed"
    },
    "tags": [
     "parameters"
    ]
   },
   "outputs": [],
   "source": [
    "# ---- Parameters ----\n",
    "SCREEN = \"20250216_AWALS37_Full_screen_n96\"\n",
    "ANALYSIS = \"multiclass\""
   ]
  },
  {
   "cell_type": "code",
   "execution_count": 2,
   "id": "9ef92469",
   "metadata": {
    "execution": {
     "iopub.execute_input": "2025-10-08T22:23:04.455839Z",
     "iopub.status.busy": "2025-10-08T22:23:04.455533Z",
     "iopub.status.idle": "2025-10-08T22:23:04.459357Z",
     "shell.execute_reply": "2025-10-08T22:23:04.458523Z"
    },
    "papermill": {
     "duration": 0.007779,
     "end_time": "2025-10-08T22:23:04.460695",
     "exception": false,
     "start_time": "2025-10-08T22:23:04.452916",
     "status": "completed"
    },
    "tags": [
     "injected-parameters"
    ]
   },
   "outputs": [],
   "source": [
    "# Parameters\n",
    "SCREEN = \"20250216_AWALS37_Full_screen_n96\"\n",
    "ANALYSIS = \"multiclass\"\n"
   ]
  },
  {
   "cell_type": "code",
   "execution_count": 3,
   "id": "f2aa07b7",
   "metadata": {
    "execution": {
     "iopub.execute_input": "2025-10-08T22:23:04.465390Z",
     "iopub.status.busy": "2025-10-08T22:23:04.464990Z",
     "iopub.status.idle": "2025-10-08T22:23:05.245807Z",
     "shell.execute_reply": "2025-10-08T22:23:05.245137Z"
    },
    "papermill": {
     "duration": 0.785357,
     "end_time": "2025-10-08T22:23:05.247595",
     "exception": false,
     "start_time": "2025-10-08T22:23:04.462238",
     "status": "completed"
    },
    "tags": []
   },
   "outputs": [],
   "source": [
    "from maps.screens import ImageScreenMultiAntibody\n",
    "import json\n",
    "from pathlib import Path\n",
    "\n",
    "\n",
    "# --- Initialize parameters ---\n",
    "pdir = Path(\"/home/kkumbier/als/scripts/pipelines/params\")\n",
    "with open(pdir / f\"{ANALYSIS}.json\", \"r\") as f:\n",
    "    params = json.load(f)\n",
    "\n",
    "params[\"screen\"] = SCREEN"
   ]
  },
  {
   "cell_type": "code",
   "execution_count": 4,
   "id": "9922e4f1",
   "metadata": {
    "execution": {
     "iopub.execute_input": "2025-10-08T22:23:05.256727Z",
     "iopub.status.busy": "2025-10-08T22:23:05.256288Z",
     "iopub.status.idle": "2025-10-08T22:25:13.785855Z",
     "shell.execute_reply": "2025-10-08T22:25:13.784366Z"
    },
    "papermill": {
     "duration": 128.538189,
     "end_time": "2025-10-08T22:25:13.788650",
     "exception": false,
     "start_time": "2025-10-08T22:23:05.250461",
     "status": "completed"
    },
    "tags": []
   },
   "outputs": [
    {
     "name": "stdout",
     "output_type": "stream",
     "text": [
      "Processing data...\n"
     ]
    },
    {
     "name": "stdout",
     "output_type": "stream",
     "text": [
      "Preprocessing complete\n",
      "Marker set: FUS/EEA1\n",
      "Data: (116717, 315)\n",
      "Marker set: COX IV/Galectin3/atubulin\n",
      "Data: (109731, 312)\n"
     ]
    }
   ],
   "source": [
    "# Load and process screens for train / test\n",
    "screen = ImageScreenMultiAntibody(params)\n",
    "screen.load(antibody=params[\"antibodies\"])\n",
    "\n",
    "print(\"Processing data...\")\n",
    "screen.preprocess()\n",
    "assert screen.data is not None, \"Loading failed\"\n",
    "\n",
    "for ab in params[\"antibodies\"]:\n",
    "    print(f\"Marker set: {ab}\")\n",
    "    print(f\"Data: {screen.data[ab].shape}\")"
   ]
  },
  {
   "cell_type": "code",
   "execution_count": 5,
   "id": "ec4e4972",
   "metadata": {
    "execution": {
     "iopub.execute_input": "2025-10-08T22:25:13.796344Z",
     "iopub.status.busy": "2025-10-08T22:25:13.795859Z",
     "iopub.status.idle": "2025-10-08T23:16:58.923005Z",
     "shell.execute_reply": "2025-10-08T23:16:58.920378Z"
    },
    "papermill": {
     "duration": 3105.133753,
     "end_time": "2025-10-08T23:16:58.926405",
     "exception": false,
     "start_time": "2025-10-08T22:25:13.792652",
     "status": "completed"
    },
    "tags": []
   },
   "outputs": [
    {
     "name": "stdout",
     "output_type": "stream",
     "text": [
      "Starting cell-level training...\n"
     ]
    },
    {
     "name": "stdout",
     "output_type": "stream",
     "text": [
      "Cell Epoch 1/100, Overall Loss: 1.5063, Active: 2/2\n",
      "  COX IV/Galectin3/atubulin - Loss: 1.4780, Acc: 0.2628 \n",
      "  FUS/EEA1 - Loss: 1.5347, Acc: 0.2572 \n"
     ]
    },
    {
     "name": "stdout",
     "output_type": "stream",
     "text": [
      "Cell Epoch 2/100, Overall Loss: 1.4336, Active: 2/2\n",
      "  COX IV/Galectin3/atubulin - Loss: 1.4124, Acc: 0.2973 \n",
      "  FUS/EEA1 - Loss: 1.4549, Acc: 0.2916 \n"
     ]
    },
    {
     "name": "stdout",
     "output_type": "stream",
     "text": [
      "Cell Epoch 3/100, Overall Loss: 1.4177, Active: 2/2\n",
      "  COX IV/Galectin3/atubulin - Loss: 1.4091, Acc: 0.3042 \n",
      "  FUS/EEA1 - Loss: 1.4263, Acc: 0.2953 \n"
     ]
    },
    {
     "name": "stdout",
     "output_type": "stream",
     "text": [
      "Cell Epoch 4/100, Overall Loss: 1.4008, Active: 2/2\n",
      "  COX IV/Galectin3/atubulin - Loss: 1.3985, Acc: 0.3067 \n",
      "  FUS/EEA1 - Loss: 1.4031, Acc: 0.3115 \n"
     ]
    },
    {
     "name": "stdout",
     "output_type": "stream",
     "text": [
      "Cell Epoch 5/100, Overall Loss: 1.3906, Active: 2/2\n",
      "  COX IV/Galectin3/atubulin - Loss: 1.4011, Acc: 0.3018 \n",
      "  FUS/EEA1 - Loss: 1.3800, Acc: 0.3259 \n"
     ]
    },
    {
     "name": "stdout",
     "output_type": "stream",
     "text": [
      "Cell Epoch 6/100, Overall Loss: 1.3758, Active: 2/2\n",
      "  COX IV/Galectin3/atubulin - Loss: 1.3645, Acc: 0.3357 \n",
      "  FUS/EEA1 - Loss: 1.3870, Acc: 0.3302 \n"
     ]
    },
    {
     "name": "stdout",
     "output_type": "stream",
     "text": [
      "Cell Epoch 7/100, Overall Loss: 1.3613, Active: 2/2\n",
      "  COX IV/Galectin3/atubulin - Loss: 1.3617, Acc: 0.3285 \n",
      "  FUS/EEA1 - Loss: 1.3609, Acc: 0.3432 \n"
     ]
    },
    {
     "name": "stdout",
     "output_type": "stream",
     "text": [
      "Cell Epoch 8/100, Overall Loss: 1.3646, Active: 2/2\n",
      "  COX IV/Galectin3/atubulin - Loss: 1.3560, Acc: 0.3334 \n",
      "  FUS/EEA1 - Loss: 1.3731, Acc: 0.3375 \n"
     ]
    },
    {
     "name": "stdout",
     "output_type": "stream",
     "text": [
      "Cell Epoch 9/100, Overall Loss: 1.3658, Active: 2/2\n",
      "  COX IV/Galectin3/atubulin - Loss: 1.3704, Acc: 0.3335 \n",
      "  FUS/EEA1 - Loss: 1.3612, Acc: 0.3471 \n"
     ]
    },
    {
     "name": "stdout",
     "output_type": "stream",
     "text": [
      "Cell Epoch 10/100, Overall Loss: 1.3372, Active: 2/2\n",
      "  COX IV/Galectin3/atubulin - Loss: 1.3331, Acc: 0.3566 \n",
      "  FUS/EEA1 - Loss: 1.3414, Acc: 0.3651 \n"
     ]
    },
    {
     "name": "stdout",
     "output_type": "stream",
     "text": [
      "Cell Epoch 11/100, Overall Loss: 1.3453, Active: 2/2\n",
      "  COX IV/Galectin3/atubulin - Loss: 1.3453, Acc: 0.3472 \n",
      "  FUS/EEA1 - Loss: 1.3454, Acc: 0.3560 \n"
     ]
    },
    {
     "name": "stdout",
     "output_type": "stream",
     "text": [
      "Cell Epoch 12/100, Overall Loss: 1.3427, Active: 2/2\n",
      "  COX IV/Galectin3/atubulin - Loss: 1.3365, Acc: 0.3544 \n",
      "  FUS/EEA1 - Loss: 1.3488, Acc: 0.3494 \n"
     ]
    },
    {
     "name": "stdout",
     "output_type": "stream",
     "text": [
      "Cell Epoch 13/100, Overall Loss: 1.3745, Active: 2/2\n",
      "  COX IV/Galectin3/atubulin - Loss: 1.3800, Acc: 0.3232 \n",
      "  FUS/EEA1 - Loss: 1.3690, Acc: 0.3419 \n"
     ]
    },
    {
     "name": "stdout",
     "output_type": "stream",
     "text": [
      "Cell Epoch 14/100, Overall Loss: 1.3265, Active: 2/2\n",
      "  COX IV/Galectin3/atubulin - Loss: 1.3364, Acc: 0.3596 \n",
      "  FUS/EEA1 - Loss: 1.3167, Acc: 0.3837 \n"
     ]
    },
    {
     "name": "stdout",
     "output_type": "stream",
     "text": [
      "  Freezing COX IV/Galectin3/atubulin encoder at epoch 15\n",
      "Cell Epoch 15/100, Overall Loss: 1.3348, Active: 1/2\n",
      "  COX IV/Galectin3/atubulin - Loss: 1.3604, Acc: 0.3314 [FROZEN]\n",
      "  FUS/EEA1 - Loss: 1.3091, Acc: 0.3948 \n"
     ]
    },
    {
     "name": "stderr",
     "output_type": "stream",
     "text": [
      "/awlab/projects/2024_ALS/software/miniforge3/envs/maps/lib/python3.11/site-packages/torch/optim/lr_scheduler.py:182: UserWarning: Detected call of `lr_scheduler.step()` before `optimizer.step()`. In PyTorch 1.1.0 and later, you should call them in the opposite order: `optimizer.step()` before `lr_scheduler.step()`.  Failure to do this will result in PyTorch skipping the first value of the learning rate schedule. See more details at https://pytorch.org/docs/stable/optim.html#how-to-adjust-learning-rate\n",
      "  warnings.warn(\n"
     ]
    },
    {
     "name": "stdout",
     "output_type": "stream",
     "text": [
      "Cell Epoch 16/100, Overall Loss: 1.3501, Active: 1/2\n",
      "  COX IV/Galectin3/atubulin - Loss: 0.0000, Acc: 0.0000 [FROZEN]\n",
      "  FUS/EEA1 - Loss: 1.3501, Acc: 0.3544 \n"
     ]
    },
    {
     "name": "stdout",
     "output_type": "stream",
     "text": [
      "Cell Epoch 17/100, Overall Loss: 1.3106, Active: 1/2\n",
      "  COX IV/Galectin3/atubulin - Loss: 0.0000, Acc: 0.0000 [FROZEN]\n",
      "  FUS/EEA1 - Loss: 1.3106, Acc: 0.3934 \n"
     ]
    },
    {
     "name": "stdout",
     "output_type": "stream",
     "text": [
      "Cell Epoch 18/100, Overall Loss: 1.3349, Active: 1/2\n",
      "  COX IV/Galectin3/atubulin - Loss: 0.0000, Acc: 0.0000 [FROZEN]\n",
      "  FUS/EEA1 - Loss: 1.3349, Acc: 0.3643 \n"
     ]
    },
    {
     "name": "stdout",
     "output_type": "stream",
     "text": [
      "Cell Epoch 19/100, Overall Loss: 1.2679, Active: 1/2\n",
      "  COX IV/Galectin3/atubulin - Loss: 0.0000, Acc: 0.0000 [FROZEN]\n",
      "  FUS/EEA1 - Loss: 1.2679, Acc: 0.4129 \n"
     ]
    },
    {
     "name": "stdout",
     "output_type": "stream",
     "text": [
      "Cell Epoch 20/100, Overall Loss: 1.3050, Active: 1/2\n",
      "  COX IV/Galectin3/atubulin - Loss: 0.0000, Acc: 0.0000 [FROZEN]\n",
      "  FUS/EEA1 - Loss: 1.3050, Acc: 0.3885 \n"
     ]
    },
    {
     "name": "stdout",
     "output_type": "stream",
     "text": [
      "Cell Epoch 21/100, Overall Loss: 1.3146, Active: 1/2\n",
      "  COX IV/Galectin3/atubulin - Loss: 0.0000, Acc: 0.0000 [FROZEN]\n",
      "  FUS/EEA1 - Loss: 1.3146, Acc: 0.3863 \n"
     ]
    },
    {
     "name": "stdout",
     "output_type": "stream",
     "text": [
      "Cell Epoch 22/100, Overall Loss: 1.3513, Active: 1/2\n",
      "  COX IV/Galectin3/atubulin - Loss: 0.0000, Acc: 0.0000 [FROZEN]\n",
      "  FUS/EEA1 - Loss: 1.3513, Acc: 0.3582 \n"
     ]
    },
    {
     "name": "stdout",
     "output_type": "stream",
     "text": [
      "Cell Epoch 23/100, Overall Loss: 1.2993, Active: 1/2\n",
      "  COX IV/Galectin3/atubulin - Loss: 0.0000, Acc: 0.0000 [FROZEN]\n",
      "  FUS/EEA1 - Loss: 1.2993, Acc: 0.3933 \n"
     ]
    },
    {
     "name": "stdout",
     "output_type": "stream",
     "text": [
      "  Freezing FUS/EEA1 encoder at epoch 24\n",
      "Cell Epoch 24/100, Overall Loss: 1.3245, Active: 0/2\n",
      "  COX IV/Galectin3/atubulin - Loss: 0.0000, Acc: 0.0000 [FROZEN]\n",
      "  FUS/EEA1 - Loss: 1.3245, Acc: 0.3707 [FROZEN]\n",
      "All antibodies frozen - stopping cell training at epoch 24\n",
      "Starting line-level training...\n",
      "Unfreezing all antibody encoders for line training...\n"
     ]
    },
    {
     "name": "stdout",
     "output_type": "stream",
     "text": [
      "Line Epoch 1/100, Loss: 1.4727\n"
     ]
    },
    {
     "name": "stdout",
     "output_type": "stream",
     "text": [
      "Line Epoch 2/100, Loss: 1.4453\n"
     ]
    },
    {
     "name": "stdout",
     "output_type": "stream",
     "text": [
      "Line Epoch 3/100, Loss: 1.5064\n"
     ]
    },
    {
     "name": "stdout",
     "output_type": "stream",
     "text": [
      "Line Epoch 4/100, Loss: 1.4709\n"
     ]
    },
    {
     "name": "stdout",
     "output_type": "stream",
     "text": [
      "Line Epoch 5/100, Loss: 1.3953\n"
     ]
    },
    {
     "name": "stdout",
     "output_type": "stream",
     "text": [
      "Line Epoch 6/100, Loss: 1.2929\n"
     ]
    },
    {
     "name": "stdout",
     "output_type": "stream",
     "text": [
      "Line Epoch 7/100, Loss: 1.4106\n"
     ]
    },
    {
     "name": "stdout",
     "output_type": "stream",
     "text": [
      "Line Epoch 8/100, Loss: 1.2476\n"
     ]
    },
    {
     "name": "stdout",
     "output_type": "stream",
     "text": [
      "Line Epoch 9/100, Loss: 1.3352\n"
     ]
    },
    {
     "name": "stdout",
     "output_type": "stream",
     "text": [
      "Line Epoch 10/100, Loss: 1.2607\n"
     ]
    },
    {
     "name": "stdout",
     "output_type": "stream",
     "text": [
      "Line Epoch 11/100, Loss: 1.2525\n"
     ]
    },
    {
     "name": "stdout",
     "output_type": "stream",
     "text": [
      "Line Epoch 12/100, Loss: 1.1417\n"
     ]
    },
    {
     "name": "stdout",
     "output_type": "stream",
     "text": [
      "Line Epoch 13/100, Loss: 1.1476\n"
     ]
    },
    {
     "name": "stdout",
     "output_type": "stream",
     "text": [
      "Line Epoch 14/100, Loss: 1.2149\n"
     ]
    },
    {
     "name": "stdout",
     "output_type": "stream",
     "text": [
      "Line Epoch 15/100, Loss: 1.1304\n"
     ]
    },
    {
     "name": "stdout",
     "output_type": "stream",
     "text": [
      "Line Epoch 16/100, Loss: 1.2000\n"
     ]
    },
    {
     "name": "stdout",
     "output_type": "stream",
     "text": [
      "Line Epoch 17/100, Loss: 1.1535\n"
     ]
    },
    {
     "name": "stdout",
     "output_type": "stream",
     "text": [
      "Line Epoch 18/100, Loss: 1.1275\n"
     ]
    },
    {
     "name": "stdout",
     "output_type": "stream",
     "text": [
      "Line Epoch 19/100, Loss: 1.1032\n"
     ]
    },
    {
     "name": "stdout",
     "output_type": "stream",
     "text": [
      "Line Epoch 20/100, Loss: 1.1036\n"
     ]
    },
    {
     "name": "stdout",
     "output_type": "stream",
     "text": [
      "Line Epoch 21/100, Loss: 1.0854\n"
     ]
    },
    {
     "name": "stdout",
     "output_type": "stream",
     "text": [
      "Line Epoch 22/100, Loss: 1.0408\n"
     ]
    },
    {
     "name": "stdout",
     "output_type": "stream",
     "text": [
      "Line Epoch 23/100, Loss: 1.0915\n"
     ]
    },
    {
     "name": "stdout",
     "output_type": "stream",
     "text": [
      "Line Epoch 24/100, Loss: 1.0671\n"
     ]
    },
    {
     "name": "stdout",
     "output_type": "stream",
     "text": [
      "Line Epoch 25/100, Loss: 1.0226\n"
     ]
    },
    {
     "name": "stdout",
     "output_type": "stream",
     "text": [
      "Line Epoch 26/100, Loss: 1.0703\n"
     ]
    },
    {
     "name": "stdout",
     "output_type": "stream",
     "text": [
      "Line Epoch 27/100, Loss: 1.0300\n"
     ]
    },
    {
     "name": "stdout",
     "output_type": "stream",
     "text": [
      "Line Epoch 28/100, Loss: 0.9895\n"
     ]
    },
    {
     "name": "stdout",
     "output_type": "stream",
     "text": [
      "Line Epoch 29/100, Loss: 1.0241\n"
     ]
    },
    {
     "name": "stdout",
     "output_type": "stream",
     "text": [
      "Line Epoch 30/100, Loss: 1.1144\n"
     ]
    },
    {
     "name": "stdout",
     "output_type": "stream",
     "text": [
      "Line Epoch 31/100, Loss: 0.8777\n"
     ]
    },
    {
     "name": "stdout",
     "output_type": "stream",
     "text": [
      "Line Epoch 32/100, Loss: 1.0531\n"
     ]
    },
    {
     "name": "stdout",
     "output_type": "stream",
     "text": [
      "Line Epoch 33/100, Loss: 0.9720\n"
     ]
    },
    {
     "name": "stdout",
     "output_type": "stream",
     "text": [
      "Line Epoch 34/100, Loss: 1.0385\n"
     ]
    },
    {
     "name": "stdout",
     "output_type": "stream",
     "text": [
      "Line Epoch 35/100, Loss: 1.0880\n"
     ]
    },
    {
     "name": "stdout",
     "output_type": "stream",
     "text": [
      "Line Epoch 36/100, Loss: 1.0434\n",
      "Early stopping line training at epoch 36\n",
      "Training completed!\n"
     ]
    },
    {
     "name": "stdout",
     "output_type": "stream",
     "text": [
      "Starting cell-level training...\n"
     ]
    },
    {
     "name": "stdout",
     "output_type": "stream",
     "text": [
      "Cell Epoch 1/100, Overall Loss: 1.4978, Active: 2/2\n",
      "  COX IV/Galectin3/atubulin - Loss: 1.5035, Acc: 0.2616 \n",
      "  FUS/EEA1 - Loss: 1.4921, Acc: 0.2547 \n"
     ]
    },
    {
     "name": "stdout",
     "output_type": "stream",
     "text": [
      "Cell Epoch 2/100, Overall Loss: 1.4169, Active: 2/2\n",
      "  COX IV/Galectin3/atubulin - Loss: 1.4378, Acc: 0.2932 \n",
      "  FUS/EEA1 - Loss: 1.3960, Acc: 0.3294 \n"
     ]
    },
    {
     "name": "stdout",
     "output_type": "stream",
     "text": [
      "Cell Epoch 3/100, Overall Loss: 1.3972, Active: 2/2\n",
      "  COX IV/Galectin3/atubulin - Loss: 1.4139, Acc: 0.3145 \n",
      "  FUS/EEA1 - Loss: 1.3805, Acc: 0.3264 \n"
     ]
    },
    {
     "name": "stdout",
     "output_type": "stream",
     "text": [
      "Cell Epoch 4/100, Overall Loss: 1.3911, Active: 2/2\n",
      "  COX IV/Galectin3/atubulin - Loss: 1.3950, Acc: 0.3187 \n",
      "  FUS/EEA1 - Loss: 1.3873, Acc: 0.3180 \n"
     ]
    },
    {
     "name": "stdout",
     "output_type": "stream",
     "text": [
      "Cell Epoch 5/100, Overall Loss: 1.3473, Active: 2/2\n",
      "  COX IV/Galectin3/atubulin - Loss: 1.3766, Acc: 0.3321 \n",
      "  FUS/EEA1 - Loss: 1.3181, Acc: 0.3693 \n"
     ]
    },
    {
     "name": "stdout",
     "output_type": "stream",
     "text": [
      "Cell Epoch 6/100, Overall Loss: 1.3092, Active: 2/2\n",
      "  COX IV/Galectin3/atubulin - Loss: 1.3280, Acc: 0.3684 \n",
      "  FUS/EEA1 - Loss: 1.2904, Acc: 0.3994 \n"
     ]
    },
    {
     "name": "stdout",
     "output_type": "stream",
     "text": [
      "Cell Epoch 7/100, Overall Loss: 1.2972, Active: 2/2\n",
      "  COX IV/Galectin3/atubulin - Loss: 1.3278, Acc: 0.3708 \n",
      "  FUS/EEA1 - Loss: 1.2666, Acc: 0.4192 \n"
     ]
    },
    {
     "name": "stdout",
     "output_type": "stream",
     "text": [
      "Cell Epoch 8/100, Overall Loss: 1.3355, Active: 2/2\n",
      "  COX IV/Galectin3/atubulin - Loss: 1.3573, Acc: 0.3552 \n",
      "  FUS/EEA1 - Loss: 1.3137, Acc: 0.3883 \n"
     ]
    },
    {
     "name": "stdout",
     "output_type": "stream",
     "text": [
      "Cell Epoch 9/100, Overall Loss: 1.3015, Active: 2/2\n",
      "  COX IV/Galectin3/atubulin - Loss: 1.3239, Acc: 0.3767 \n",
      "  FUS/EEA1 - Loss: 1.2790, Acc: 0.4135 \n"
     ]
    },
    {
     "name": "stdout",
     "output_type": "stream",
     "text": [
      "Cell Epoch 10/100, Overall Loss: 1.2779, Active: 2/2\n",
      "  COX IV/Galectin3/atubulin - Loss: 1.2981, Acc: 0.3975 \n",
      "  FUS/EEA1 - Loss: 1.2577, Acc: 0.4335 \n"
     ]
    },
    {
     "name": "stdout",
     "output_type": "stream",
     "text": [
      "Cell Epoch 11/100, Overall Loss: 1.3271, Active: 2/2\n",
      "  COX IV/Galectin3/atubulin - Loss: 1.3403, Acc: 0.3572 \n",
      "  FUS/EEA1 - Loss: 1.3140, Acc: 0.3791 \n"
     ]
    },
    {
     "name": "stdout",
     "output_type": "stream",
     "text": [
      "Cell Epoch 12/100, Overall Loss: 1.3038, Active: 2/2\n",
      "  COX IV/Galectin3/atubulin - Loss: 1.3246, Acc: 0.3768 \n",
      "  FUS/EEA1 - Loss: 1.2830, Acc: 0.4077 \n"
     ]
    },
    {
     "name": "stdout",
     "output_type": "stream",
     "text": [
      "Cell Epoch 13/100, Overall Loss: 1.3201, Active: 2/2\n",
      "  COX IV/Galectin3/atubulin - Loss: 1.3501, Acc: 0.3542 \n",
      "  FUS/EEA1 - Loss: 1.2901, Acc: 0.4075 \n"
     ]
    },
    {
     "name": "stdout",
     "output_type": "stream",
     "text": [
      "Cell Epoch 14/100, Overall Loss: 1.3163, Active: 2/2\n",
      "  COX IV/Galectin3/atubulin - Loss: 1.3470, Acc: 0.3570 \n",
      "  FUS/EEA1 - Loss: 1.2856, Acc: 0.4090 \n"
     ]
    },
    {
     "name": "stdout",
     "output_type": "stream",
     "text": [
      "  Freezing COX IV/Galectin3/atubulin encoder at epoch 15\n",
      "  Freezing FUS/EEA1 encoder at epoch 15\n",
      "Cell Epoch 15/100, Overall Loss: 1.3025, Active: 0/2\n",
      "  COX IV/Galectin3/atubulin - Loss: 1.3355, Acc: 0.3718 [FROZEN]\n",
      "  FUS/EEA1 - Loss: 1.2695, Acc: 0.4211 [FROZEN]\n",
      "All antibodies frozen - stopping cell training at epoch 15\n",
      "Starting line-level training...\n",
      "Unfreezing all antibody encoders for line training...\n"
     ]
    },
    {
     "name": "stdout",
     "output_type": "stream",
     "text": [
      "Line Epoch 1/100, Loss: 1.7773\n"
     ]
    },
    {
     "name": "stdout",
     "output_type": "stream",
     "text": [
      "Line Epoch 2/100, Loss: 1.8479\n"
     ]
    },
    {
     "name": "stdout",
     "output_type": "stream",
     "text": [
      "Line Epoch 3/100, Loss: 1.7902\n"
     ]
    },
    {
     "name": "stdout",
     "output_type": "stream",
     "text": [
      "Line Epoch 4/100, Loss: 1.7026\n"
     ]
    },
    {
     "name": "stdout",
     "output_type": "stream",
     "text": [
      "Line Epoch 5/100, Loss: 1.6303\n"
     ]
    },
    {
     "name": "stdout",
     "output_type": "stream",
     "text": [
      "Line Epoch 6/100, Loss: 1.5139\n"
     ]
    },
    {
     "name": "stdout",
     "output_type": "stream",
     "text": [
      "Line Epoch 7/100, Loss: 1.4830\n"
     ]
    },
    {
     "name": "stdout",
     "output_type": "stream",
     "text": [
      "Line Epoch 8/100, Loss: 1.4694\n"
     ]
    },
    {
     "name": "stdout",
     "output_type": "stream",
     "text": [
      "Line Epoch 9/100, Loss: 1.3784\n"
     ]
    },
    {
     "name": "stdout",
     "output_type": "stream",
     "text": [
      "Line Epoch 10/100, Loss: 1.3295\n"
     ]
    },
    {
     "name": "stdout",
     "output_type": "stream",
     "text": [
      "Line Epoch 11/100, Loss: 1.2920\n"
     ]
    },
    {
     "name": "stdout",
     "output_type": "stream",
     "text": [
      "Line Epoch 12/100, Loss: 1.3026\n"
     ]
    },
    {
     "name": "stdout",
     "output_type": "stream",
     "text": [
      "Line Epoch 13/100, Loss: 1.2623\n"
     ]
    },
    {
     "name": "stdout",
     "output_type": "stream",
     "text": [
      "Line Epoch 14/100, Loss: 1.2740\n"
     ]
    },
    {
     "name": "stdout",
     "output_type": "stream",
     "text": [
      "Line Epoch 15/100, Loss: 1.2608\n"
     ]
    },
    {
     "name": "stdout",
     "output_type": "stream",
     "text": [
      "Line Epoch 16/100, Loss: 1.2148\n"
     ]
    },
    {
     "name": "stdout",
     "output_type": "stream",
     "text": [
      "Line Epoch 17/100, Loss: 1.2117\n"
     ]
    },
    {
     "name": "stdout",
     "output_type": "stream",
     "text": [
      "Line Epoch 18/100, Loss: 1.1670\n"
     ]
    },
    {
     "name": "stdout",
     "output_type": "stream",
     "text": [
      "Line Epoch 19/100, Loss: 1.1662\n"
     ]
    },
    {
     "name": "stdout",
     "output_type": "stream",
     "text": [
      "Line Epoch 20/100, Loss: 1.1760\n"
     ]
    },
    {
     "name": "stdout",
     "output_type": "stream",
     "text": [
      "Line Epoch 21/100, Loss: 1.1536\n"
     ]
    },
    {
     "name": "stdout",
     "output_type": "stream",
     "text": [
      "Line Epoch 22/100, Loss: 1.2819\n"
     ]
    },
    {
     "name": "stdout",
     "output_type": "stream",
     "text": [
      "Line Epoch 23/100, Loss: 1.1535\n"
     ]
    },
    {
     "name": "stdout",
     "output_type": "stream",
     "text": [
      "Line Epoch 24/100, Loss: 1.1194\n"
     ]
    },
    {
     "name": "stdout",
     "output_type": "stream",
     "text": [
      "Line Epoch 25/100, Loss: 1.1955\n"
     ]
    },
    {
     "name": "stdout",
     "output_type": "stream",
     "text": [
      "Line Epoch 26/100, Loss: 1.0976\n"
     ]
    },
    {
     "name": "stdout",
     "output_type": "stream",
     "text": [
      "Line Epoch 27/100, Loss: 1.0173\n"
     ]
    },
    {
     "name": "stdout",
     "output_type": "stream",
     "text": [
      "Line Epoch 28/100, Loss: 1.0612\n"
     ]
    },
    {
     "name": "stdout",
     "output_type": "stream",
     "text": [
      "Line Epoch 29/100, Loss: 1.1177\n"
     ]
    },
    {
     "name": "stdout",
     "output_type": "stream",
     "text": [
      "Line Epoch 30/100, Loss: 1.0554\n"
     ]
    },
    {
     "name": "stdout",
     "output_type": "stream",
     "text": [
      "Line Epoch 31/100, Loss: 1.0240\n"
     ]
    },
    {
     "name": "stdout",
     "output_type": "stream",
     "text": [
      "Line Epoch 32/100, Loss: 1.0790\n",
      "Early stopping line training at epoch 32\n",
      "Training completed!\n"
     ]
    }
   ],
   "source": [
    "from maps.analyses import MAP\n",
    "map_analysis = MAP(screen)\n",
    "map_analysis.fit()"
   ]
  },
  {
   "cell_type": "code",
   "execution_count": 6,
   "id": "30a4e9c6",
   "metadata": {
    "execution": {
     "iopub.execute_input": "2025-10-08T23:16:58.956929Z",
     "iopub.status.busy": "2025-10-08T23:16:58.956166Z",
     "iopub.status.idle": "2025-10-08T23:17:00.584282Z",
     "shell.execute_reply": "2025-10-08T23:17:00.582943Z"
    },
    "papermill": {
     "duration": 1.645393,
     "end_time": "2025-10-08T23:17:00.586029",
     "exception": false,
     "start_time": "2025-10-08T23:16:58.940636",
     "status": "completed"
    },
    "tags": []
   },
   "outputs": [],
   "source": [
    "import pickle\n",
    "\n",
    "output_dir = Path(params.get(\"result_dir\")) / params.get(\"screen\")\n",
    "with open(output_dir / f\"{ANALYSIS}.pkl\", \"wb\") as f:\n",
    "    pickle.dump({\"analysis\": map_analysis, \"params\": params}, f)"
   ]
  }
 ],
 "metadata": {
  "kernelspec": {
   "display_name": "maps",
   "language": "python",
   "name": "python3"
  },
  "language_info": {
   "codemirror_mode": {
    "name": "ipython",
    "version": 3
   },
   "file_extension": ".py",
   "mimetype": "text/x-python",
   "name": "python",
   "nbconvert_exporter": "python",
   "pygments_lexer": "ipython3",
   "version": "3.11.13"
  },
  "papermill": {
   "default_parameters": {},
   "duration": 3241.76815,
   "end_time": "2025-10-08T23:17:04.686543",
   "environment_variables": {},
   "exception": null,
   "input_path": "train_models.ipynb",
   "output_path": "train_models-20250216_AWALS37_Full_screen_n96-multiclass.ipynb",
   "parameters": {
    "ANALYSIS": "multiclass",
    "SCREEN": "20250216_AWALS37_Full_screen_n96"
   },
   "start_time": "2025-10-08T22:23:02.918393",
   "version": "2.6.0"
  }
 },
 "nbformat": 4,
 "nbformat_minor": 5
}