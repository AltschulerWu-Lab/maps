{
 "cells": [
  {
   "cell_type": "code",
   "execution_count": 1,
   "id": "09145b76",
   "metadata": {
    "execution": {
     "iopub.execute_input": "2025-10-08T16:09:46.024267Z",
     "iopub.status.busy": "2025-10-08T16:09:46.023741Z",
     "iopub.status.idle": "2025-10-08T16:09:46.035280Z",
     "shell.execute_reply": "2025-10-08T16:09:46.034152Z"
    },
    "papermill": {
     "duration": 0.019041,
     "end_time": "2025-10-08T16:09:46.037227",
     "exception": false,
     "start_time": "2025-10-08T16:09:46.018186",
     "status": "completed"
    },
    "tags": [
     "parameters"
    ]
   },
   "outputs": [],
   "source": [
    "# ---- Parameters ----\n",
    "SCREEN = \"20250216_AWALS37_Full_screen_n96\""
   ]
  },
  {
   "cell_type": "code",
   "execution_count": 2,
   "id": "fe26c6d7",
   "metadata": {
    "execution": {
     "iopub.execute_input": "2025-10-08T16:09:46.044761Z",
     "iopub.status.busy": "2025-10-08T16:09:46.044380Z",
     "iopub.status.idle": "2025-10-08T16:09:46.049111Z",
     "shell.execute_reply": "2025-10-08T16:09:46.047925Z"
    },
    "papermill": {
     "duration": 0.010382,
     "end_time": "2025-10-08T16:09:46.050898",
     "exception": false,
     "start_time": "2025-10-08T16:09:46.040516",
     "status": "completed"
    },
    "tags": [
     "injected-parameters"
    ]
   },
   "outputs": [],
   "source": [
    "# Parameters\n",
    "SCREEN = \"20250216_AWALS37_Full_screen_n96\"\n"
   ]
  },
  {
   "cell_type": "code",
   "execution_count": 3,
   "id": "f2aa07b7",
   "metadata": {
    "execution": {
     "iopub.execute_input": "2025-10-08T16:09:46.055983Z",
     "iopub.status.busy": "2025-10-08T16:09:46.055604Z",
     "iopub.status.idle": "2025-10-08T16:09:46.972061Z",
     "shell.execute_reply": "2025-10-08T16:09:46.970968Z"
    },
    "papermill": {
     "duration": 0.921518,
     "end_time": "2025-10-08T16:09:46.974263",
     "exception": false,
     "start_time": "2025-10-08T16:09:46.052745",
     "status": "completed"
    },
    "tags": []
   },
   "outputs": [],
   "source": [
    "from maps.screens import ImageScreenMultiAntibody\n",
    "import json\n",
    "from pathlib import Path\n",
    "\n",
    "\n",
    "# --- Initialize parameters ---\n",
    "pdir = Path(\"/home/kkumbier/als/scripts/pipelines/params\")\n",
    "with open(pdir / \"binary.json\", \"r\") as f:\n",
    "    params = json.load(f)\n",
    "\n",
    "params[\"screen\"] = SCREEN"
   ]
  },
  {
   "cell_type": "code",
   "execution_count": 4,
   "id": "9922e4f1",
   "metadata": {
    "execution": {
     "iopub.execute_input": "2025-10-08T16:09:46.982497Z",
     "iopub.status.busy": "2025-10-08T16:09:46.982098Z",
     "iopub.status.idle": "2025-10-08T16:13:18.998556Z",
     "shell.execute_reply": "2025-10-08T16:13:18.997392Z"
    },
    "papermill": {
     "duration": 212.023359,
     "end_time": "2025-10-08T16:13:19.001294",
     "exception": false,
     "start_time": "2025-10-08T16:09:46.977935",
     "status": "completed"
    },
    "tags": []
   },
   "outputs": [
    {
     "name": "stdout",
     "output_type": "stream",
     "text": [
      "Processing data...\n"
     ]
    },
    {
     "name": "stdout",
     "output_type": "stream",
     "text": [
      "Preprocessing complete\n",
      "Marker set: FUS/EEA1\n",
      "Data: (116717, 315)\n",
      "Marker set: COX IV/Galectin3/atubulin\n",
      "Data: (109731, 312)\n"
     ]
    }
   ],
   "source": [
    "# Load and process screens for train / test\n",
    "screen = ImageScreenMultiAntibody(params)\n",
    "screen.load(antibody=params[\"antibodies\"])\n",
    "\n",
    "print(\"Processing data...\")\n",
    "screen.preprocess()\n",
    "assert screen.data is not None, \"Loading failed\"\n",
    "\n",
    "for ab in params[\"antibodies\"]:\n",
    "    print(f\"Marker set: {ab}\")\n",
    "    print(f\"Data: {screen.data[ab].shape}\")"
   ]
  },
  {
   "cell_type": "code",
   "execution_count": 5,
   "id": "ec4e4972",
   "metadata": {
    "execution": {
     "iopub.execute_input": "2025-10-08T16:13:19.010287Z",
     "iopub.status.busy": "2025-10-08T16:13:19.009878Z",
     "iopub.status.idle": "2025-10-08T17:10:46.897031Z",
     "shell.execute_reply": "2025-10-08T17:10:46.894921Z"
    },
    "papermill": {
     "duration": 3447.894129,
     "end_time": "2025-10-08T17:10:46.899727",
     "exception": false,
     "start_time": "2025-10-08T16:13:19.005598",
     "status": "completed"
    },
    "tags": []
   },
   "outputs": [
    {
     "name": "stdout",
     "output_type": "stream",
     "text": [
      "Training FUS...\n"
     ]
    },
    {
     "name": "stdout",
     "output_type": "stream",
     "text": [
      "Starting cell-level training...\n"
     ]
    },
    {
     "name": "stdout",
     "output_type": "stream",
     "text": [
      "Cell Epoch 1/100, Overall Loss: 0.7534, Active: 2/2\n",
      "  COX IV/Galectin3/atubulin - Loss: 0.7729, Acc: 0.5015 \n",
      "  FUS/EEA1 - Loss: 0.7340, Acc: 0.5160 \n"
     ]
    },
    {
     "name": "stdout",
     "output_type": "stream",
     "text": [
      "Cell Epoch 2/100, Overall Loss: 0.7200, Active: 2/2\n",
      "  COX IV/Galectin3/atubulin - Loss: 0.7496, Acc: 0.5208 \n",
      "  FUS/EEA1 - Loss: 0.6904, Acc: 0.5688 \n"
     ]
    },
    {
     "name": "stdout",
     "output_type": "stream",
     "text": [
      "Cell Epoch 3/100, Overall Loss: 0.7057, Active: 2/2\n",
      "  COX IV/Galectin3/atubulin - Loss: 0.7295, Acc: 0.5370 \n",
      "  FUS/EEA1 - Loss: 0.6820, Acc: 0.5758 \n"
     ]
    },
    {
     "name": "stdout",
     "output_type": "stream",
     "text": [
      "Cell Epoch 4/100, Overall Loss: 0.6938, Active: 2/2\n",
      "  COX IV/Galectin3/atubulin - Loss: 0.7157, Acc: 0.5463 \n",
      "  FUS/EEA1 - Loss: 0.6719, Acc: 0.5920 \n"
     ]
    },
    {
     "name": "stdout",
     "output_type": "stream",
     "text": [
      "Cell Epoch 5/100, Overall Loss: 0.6917, Active: 2/2\n",
      "  COX IV/Galectin3/atubulin - Loss: 0.7194, Acc: 0.5430 \n",
      "  FUS/EEA1 - Loss: 0.6640, Acc: 0.5958 \n"
     ]
    },
    {
     "name": "stdout",
     "output_type": "stream",
     "text": [
      "Cell Epoch 6/100, Overall Loss: 0.6902, Active: 2/2\n",
      "  COX IV/Galectin3/atubulin - Loss: 0.7255, Acc: 0.5308 \n",
      "  FUS/EEA1 - Loss: 0.6549, Acc: 0.6163 \n"
     ]
    },
    {
     "name": "stdout",
     "output_type": "stream",
     "text": [
      "Cell Epoch 7/100, Overall Loss: 0.6784, Active: 2/2\n",
      "  COX IV/Galectin3/atubulin - Loss: 0.7142, Acc: 0.5453 \n",
      "  FUS/EEA1 - Loss: 0.6426, Acc: 0.6310 \n"
     ]
    },
    {
     "name": "stdout",
     "output_type": "stream",
     "text": [
      "Cell Epoch 8/100, Overall Loss: 0.6675, Active: 2/2\n",
      "  COX IV/Galectin3/atubulin - Loss: 0.7084, Acc: 0.5345 \n",
      "  FUS/EEA1 - Loss: 0.6266, Acc: 0.6528 \n"
     ]
    },
    {
     "name": "stdout",
     "output_type": "stream",
     "text": [
      "Cell Epoch 9/100, Overall Loss: 0.6922, Active: 2/2\n",
      "  COX IV/Galectin3/atubulin - Loss: 0.7207, Acc: 0.5323 \n",
      "  FUS/EEA1 - Loss: 0.6638, Acc: 0.5928 \n"
     ]
    },
    {
     "name": "stdout",
     "output_type": "stream",
     "text": [
      "Cell Epoch 10/100, Overall Loss: 0.6746, Active: 2/2\n",
      "  COX IV/Galectin3/atubulin - Loss: 0.7160, Acc: 0.5353 \n",
      "  FUS/EEA1 - Loss: 0.6332, Acc: 0.6465 \n"
     ]
    },
    {
     "name": "stdout",
     "output_type": "stream",
     "text": [
      "Cell Epoch 11/100, Overall Loss: 0.6568, Active: 2/2\n",
      "  COX IV/Galectin3/atubulin - Loss: 0.7047, Acc: 0.5493 \n",
      "  FUS/EEA1 - Loss: 0.6090, Acc: 0.6730 \n"
     ]
    },
    {
     "name": "stdout",
     "output_type": "stream",
     "text": [
      "Cell Epoch 12/100, Overall Loss: 0.6599, Active: 2/2\n",
      "  COX IV/Galectin3/atubulin - Loss: 0.6990, Acc: 0.5543 \n",
      "  FUS/EEA1 - Loss: 0.6208, Acc: 0.6518 \n"
     ]
    },
    {
     "name": "stdout",
     "output_type": "stream",
     "text": [
      "Cell Epoch 13/100, Overall Loss: 0.6709, Active: 2/2\n",
      "  COX IV/Galectin3/atubulin - Loss: 0.7021, Acc: 0.5530 \n",
      "  FUS/EEA1 - Loss: 0.6396, Acc: 0.6298 \n"
     ]
    },
    {
     "name": "stdout",
     "output_type": "stream",
     "text": [
      "Cell Epoch 14/100, Overall Loss: 0.6642, Active: 2/2\n",
      "  COX IV/Galectin3/atubulin - Loss: 0.6975, Acc: 0.5603 \n",
      "  FUS/EEA1 - Loss: 0.6310, Acc: 0.6395 \n"
     ]
    },
    {
     "name": "stdout",
     "output_type": "stream",
     "text": [
      "Cell Epoch 15/100, Overall Loss: 0.6631, Active: 2/2\n",
      "  COX IV/Galectin3/atubulin - Loss: 0.7081, Acc: 0.5368 \n",
      "  FUS/EEA1 - Loss: 0.6180, Acc: 0.6565 \n"
     ]
    },
    {
     "name": "stdout",
     "output_type": "stream",
     "text": [
      "  Freezing FUS/EEA1 encoder at epoch 16\n",
      "Cell Epoch 16/100, Overall Loss: 0.6564, Active: 1/2\n",
      "  COX IV/Galectin3/atubulin - Loss: 0.6959, Acc: 0.5548 \n",
      "  FUS/EEA1 - Loss: 0.6170, Acc: 0.6608 [FROZEN]\n"
     ]
    },
    {
     "name": "stderr",
     "output_type": "stream",
     "text": [
      "/awlab/projects/2024_ALS/software/miniforge3/envs/maps/lib/python3.11/site-packages/torch/optim/lr_scheduler.py:182: UserWarning: Detected call of `lr_scheduler.step()` before `optimizer.step()`. In PyTorch 1.1.0 and later, you should call them in the opposite order: `optimizer.step()` before `lr_scheduler.step()`.  Failure to do this will result in PyTorch skipping the first value of the learning rate schedule. See more details at https://pytorch.org/docs/stable/optim.html#how-to-adjust-learning-rate\n",
      "  warnings.warn(\n"
     ]
    },
    {
     "name": "stdout",
     "output_type": "stream",
     "text": [
      "Cell Epoch 17/100, Overall Loss: 0.6980, Active: 1/2\n",
      "  COX IV/Galectin3/atubulin - Loss: 0.6980, Acc: 0.5615 \n",
      "  FUS/EEA1 - Loss: 0.0000, Acc: 0.0000 [FROZEN]\n"
     ]
    },
    {
     "name": "stdout",
     "output_type": "stream",
     "text": [
      "Cell Epoch 18/100, Overall Loss: 0.6992, Active: 1/2\n",
      "  COX IV/Galectin3/atubulin - Loss: 0.6992, Acc: 0.5443 \n",
      "  FUS/EEA1 - Loss: 0.0000, Acc: 0.0000 [FROZEN]\n"
     ]
    },
    {
     "name": "stdout",
     "output_type": "stream",
     "text": [
      "Cell Epoch 19/100, Overall Loss: 0.7002, Active: 1/2\n",
      "  COX IV/Galectin3/atubulin - Loss: 0.7002, Acc: 0.5618 \n",
      "  FUS/EEA1 - Loss: 0.0000, Acc: 0.0000 [FROZEN]\n"
     ]
    },
    {
     "name": "stdout",
     "output_type": "stream",
     "text": [
      "Cell Epoch 20/100, Overall Loss: 0.6989, Active: 1/2\n",
      "  COX IV/Galectin3/atubulin - Loss: 0.6989, Acc: 0.5543 \n",
      "  FUS/EEA1 - Loss: 0.0000, Acc: 0.0000 [FROZEN]\n"
     ]
    },
    {
     "name": "stdout",
     "output_type": "stream",
     "text": [
      "Cell Epoch 21/100, Overall Loss: 0.6875, Active: 1/2\n",
      "  COX IV/Galectin3/atubulin - Loss: 0.6875, Acc: 0.5680 \n",
      "  FUS/EEA1 - Loss: 0.0000, Acc: 0.0000 [FROZEN]\n"
     ]
    },
    {
     "name": "stdout",
     "output_type": "stream",
     "text": [
      "Cell Epoch 22/100, Overall Loss: 0.7236, Active: 1/2\n",
      "  COX IV/Galectin3/atubulin - Loss: 0.7236, Acc: 0.5310 \n",
      "  FUS/EEA1 - Loss: 0.0000, Acc: 0.0000 [FROZEN]\n"
     ]
    },
    {
     "name": "stdout",
     "output_type": "stream",
     "text": [
      "Cell Epoch 23/100, Overall Loss: 0.6778, Active: 1/2\n",
      "  COX IV/Galectin3/atubulin - Loss: 0.6778, Acc: 0.5795 \n",
      "  FUS/EEA1 - Loss: 0.0000, Acc: 0.0000 [FROZEN]\n"
     ]
    },
    {
     "name": "stdout",
     "output_type": "stream",
     "text": [
      "Cell Epoch 24/100, Overall Loss: 0.6830, Active: 1/2\n",
      "  COX IV/Galectin3/atubulin - Loss: 0.6830, Acc: 0.5720 \n",
      "  FUS/EEA1 - Loss: 0.0000, Acc: 0.0000 [FROZEN]\n"
     ]
    },
    {
     "name": "stdout",
     "output_type": "stream",
     "text": [
      "Cell Epoch 25/100, Overall Loss: 0.6821, Active: 1/2\n",
      "  COX IV/Galectin3/atubulin - Loss: 0.6821, Acc: 0.5808 \n",
      "  FUS/EEA1 - Loss: 0.0000, Acc: 0.0000 [FROZEN]\n"
     ]
    },
    {
     "name": "stdout",
     "output_type": "stream",
     "text": [
      "Cell Epoch 26/100, Overall Loss: 0.6785, Active: 1/2\n",
      "  COX IV/Galectin3/atubulin - Loss: 0.6785, Acc: 0.5833 \n",
      "  FUS/EEA1 - Loss: 0.0000, Acc: 0.0000 [FROZEN]\n"
     ]
    },
    {
     "name": "stdout",
     "output_type": "stream",
     "text": [
      "Cell Epoch 27/100, Overall Loss: 0.6877, Active: 1/2\n",
      "  COX IV/Galectin3/atubulin - Loss: 0.6877, Acc: 0.5580 \n",
      "  FUS/EEA1 - Loss: 0.0000, Acc: 0.0000 [FROZEN]\n"
     ]
    },
    {
     "name": "stdout",
     "output_type": "stream",
     "text": [
      "  Freezing COX IV/Galectin3/atubulin encoder at epoch 28\n",
      "Cell Epoch 28/100, Overall Loss: 0.6852, Active: 0/2\n",
      "  COX IV/Galectin3/atubulin - Loss: 0.6852, Acc: 0.5688 [FROZEN]\n",
      "  FUS/EEA1 - Loss: 0.0000, Acc: 0.0000 [FROZEN]\n",
      "All antibodies frozen - stopping cell training at epoch 28\n",
      "Starting line-level training...\n",
      "Unfreezing all antibody encoders for line training...\n"
     ]
    },
    {
     "name": "stdout",
     "output_type": "stream",
     "text": [
      "Line Epoch 1/100, Loss: 0.7498\n"
     ]
    },
    {
     "name": "stdout",
     "output_type": "stream",
     "text": [
      "Line Epoch 2/100, Loss: 0.7034\n"
     ]
    },
    {
     "name": "stdout",
     "output_type": "stream",
     "text": [
      "Line Epoch 3/100, Loss: 0.6657\n"
     ]
    },
    {
     "name": "stdout",
     "output_type": "stream",
     "text": [
      "Line Epoch 4/100, Loss: 0.6756\n"
     ]
    },
    {
     "name": "stdout",
     "output_type": "stream",
     "text": [
      "Line Epoch 5/100, Loss: 0.6713\n"
     ]
    },
    {
     "name": "stdout",
     "output_type": "stream",
     "text": [
      "Line Epoch 6/100, Loss: 0.5684\n"
     ]
    },
    {
     "name": "stdout",
     "output_type": "stream",
     "text": [
      "Line Epoch 7/100, Loss: 0.5447\n"
     ]
    },
    {
     "name": "stdout",
     "output_type": "stream",
     "text": [
      "Line Epoch 8/100, Loss: 0.6183\n"
     ]
    },
    {
     "name": "stdout",
     "output_type": "stream",
     "text": [
      "Line Epoch 9/100, Loss: 0.5655\n"
     ]
    },
    {
     "name": "stdout",
     "output_type": "stream",
     "text": [
      "Line Epoch 10/100, Loss: 0.4771\n"
     ]
    },
    {
     "name": "stdout",
     "output_type": "stream",
     "text": [
      "Line Epoch 11/100, Loss: 0.5099\n"
     ]
    },
    {
     "name": "stdout",
     "output_type": "stream",
     "text": [
      "Line Epoch 12/100, Loss: 0.5024\n"
     ]
    },
    {
     "name": "stdout",
     "output_type": "stream",
     "text": [
      "Line Epoch 13/100, Loss: 0.4481\n"
     ]
    },
    {
     "name": "stdout",
     "output_type": "stream",
     "text": [
      "Line Epoch 14/100, Loss: 0.5738\n"
     ]
    },
    {
     "name": "stdout",
     "output_type": "stream",
     "text": [
      "Line Epoch 15/100, Loss: 0.5758\n"
     ]
    },
    {
     "name": "stdout",
     "output_type": "stream",
     "text": [
      "Line Epoch 16/100, Loss: 0.6066\n"
     ]
    },
    {
     "name": "stdout",
     "output_type": "stream",
     "text": [
      "Line Epoch 17/100, Loss: 0.5060\n"
     ]
    },
    {
     "name": "stdout",
     "output_type": "stream",
     "text": [
      "Line Epoch 18/100, Loss: 0.4931\n",
      "Early stopping line training at epoch 18\n",
      "Training completed!\n"
     ]
    },
    {
     "name": "stdout",
     "output_type": "stream",
     "text": [
      "Starting cell-level training...\n"
     ]
    },
    {
     "name": "stdout",
     "output_type": "stream",
     "text": [
      "Cell Epoch 1/100, Overall Loss: 0.7513, Active: 2/2\n",
      "  COX IV/Galectin3/atubulin - Loss: 0.7887, Acc: 0.5078 \n",
      "  FUS/EEA1 - Loss: 0.7138, Acc: 0.5398 \n"
     ]
    },
    {
     "name": "stdout",
     "output_type": "stream",
     "text": [
      "Cell Epoch 2/100, Overall Loss: 0.7005, Active: 2/2\n",
      "  COX IV/Galectin3/atubulin - Loss: 0.7430, Acc: 0.5473 \n",
      "  FUS/EEA1 - Loss: 0.6579, Acc: 0.6073 \n"
     ]
    },
    {
     "name": "stdout",
     "output_type": "stream",
     "text": [
      "Cell Epoch 3/100, Overall Loss: 0.6655, Active: 2/2\n",
      "  COX IV/Galectin3/atubulin - Loss: 0.7035, Acc: 0.5890 \n",
      "  FUS/EEA1 - Loss: 0.6275, Acc: 0.6548 \n"
     ]
    },
    {
     "name": "stdout",
     "output_type": "stream",
     "text": [
      "Cell Epoch 4/100, Overall Loss: 0.6610, Active: 2/2\n",
      "  COX IV/Galectin3/atubulin - Loss: 0.7081, Acc: 0.5855 \n",
      "  FUS/EEA1 - Loss: 0.6140, Acc: 0.6710 \n"
     ]
    },
    {
     "name": "stdout",
     "output_type": "stream",
     "text": [
      "Cell Epoch 5/100, Overall Loss: 0.6451, Active: 2/2\n",
      "  COX IV/Galectin3/atubulin - Loss: 0.6911, Acc: 0.6055 \n",
      "  FUS/EEA1 - Loss: 0.5992, Acc: 0.6825 \n"
     ]
    },
    {
     "name": "stdout",
     "output_type": "stream",
     "text": [
      "Cell Epoch 6/100, Overall Loss: 0.6275, Active: 2/2\n",
      "  COX IV/Galectin3/atubulin - Loss: 0.6702, Acc: 0.6290 \n",
      "  FUS/EEA1 - Loss: 0.5848, Acc: 0.6923 \n"
     ]
    },
    {
     "name": "stdout",
     "output_type": "stream",
     "text": [
      "Cell Epoch 7/100, Overall Loss: 0.6876, Active: 2/2\n",
      "  COX IV/Galectin3/atubulin - Loss: 0.7346, Acc: 0.5670 \n",
      "  FUS/EEA1 - Loss: 0.6407, Acc: 0.6383 \n"
     ]
    },
    {
     "name": "stdout",
     "output_type": "stream",
     "text": [
      "Cell Epoch 8/100, Overall Loss: 0.6257, Active: 2/2\n",
      "  COX IV/Galectin3/atubulin - Loss: 0.6656, Acc: 0.6205 \n",
      "  FUS/EEA1 - Loss: 0.5858, Acc: 0.6983 \n"
     ]
    },
    {
     "name": "stdout",
     "output_type": "stream",
     "text": [
      "Cell Epoch 9/100, Overall Loss: 0.6010, Active: 2/2\n",
      "  COX IV/Galectin3/atubulin - Loss: 0.6495, Acc: 0.6390 \n",
      "  FUS/EEA1 - Loss: 0.5526, Acc: 0.7255 \n"
     ]
    },
    {
     "name": "stdout",
     "output_type": "stream",
     "text": [
      "Cell Epoch 10/100, Overall Loss: 0.6124, Active: 2/2\n",
      "  COX IV/Galectin3/atubulin - Loss: 0.6764, Acc: 0.6043 \n",
      "  FUS/EEA1 - Loss: 0.5485, Acc: 0.7275 \n"
     ]
    },
    {
     "name": "stdout",
     "output_type": "stream",
     "text": [
      "Cell Epoch 11/100, Overall Loss: 0.6907, Active: 2/2\n",
      "  COX IV/Galectin3/atubulin - Loss: 0.7225, Acc: 0.5658 \n",
      "  FUS/EEA1 - Loss: 0.6590, Acc: 0.6263 \n"
     ]
    },
    {
     "name": "stdout",
     "output_type": "stream",
     "text": [
      "Cell Epoch 12/100, Overall Loss: 0.6005, Active: 2/2\n",
      "  COX IV/Galectin3/atubulin - Loss: 0.6555, Acc: 0.6220 \n",
      "  FUS/EEA1 - Loss: 0.5455, Acc: 0.7290 \n"
     ]
    },
    {
     "name": "stdout",
     "output_type": "stream",
     "text": [
      "Cell Epoch 13/100, Overall Loss: 0.6415, Active: 2/2\n",
      "  COX IV/Galectin3/atubulin - Loss: 0.6768, Acc: 0.6068 \n",
      "  FUS/EEA1 - Loss: 0.6062, Acc: 0.6735 \n"
     ]
    },
    {
     "name": "stdout",
     "output_type": "stream",
     "text": [
      "  Freezing COX IV/Galectin3/atubulin encoder at epoch 14\n",
      "Cell Epoch 14/100, Overall Loss: 0.5958, Active: 1/2\n",
      "  COX IV/Galectin3/atubulin - Loss: 0.6512, Acc: 0.6243 [FROZEN]\n",
      "  FUS/EEA1 - Loss: 0.5404, Acc: 0.7318 \n"
     ]
    },
    {
     "name": "stderr",
     "output_type": "stream",
     "text": [
      "/awlab/projects/2024_ALS/software/miniforge3/envs/maps/lib/python3.11/site-packages/torch/optim/lr_scheduler.py:182: UserWarning: Detected call of `lr_scheduler.step()` before `optimizer.step()`. In PyTorch 1.1.0 and later, you should call them in the opposite order: `optimizer.step()` before `lr_scheduler.step()`.  Failure to do this will result in PyTorch skipping the first value of the learning rate schedule. See more details at https://pytorch.org/docs/stable/optim.html#how-to-adjust-learning-rate\n",
      "  warnings.warn(\n"
     ]
    },
    {
     "name": "stdout",
     "output_type": "stream",
     "text": [
      "Cell Epoch 15/100, Overall Loss: 0.5501, Active: 1/2\n",
      "  COX IV/Galectin3/atubulin - Loss: 0.0000, Acc: 0.0000 [FROZEN]\n",
      "  FUS/EEA1 - Loss: 0.5501, Acc: 0.7205 \n"
     ]
    },
    {
     "name": "stdout",
     "output_type": "stream",
     "text": [
      "Cell Epoch 16/100, Overall Loss: 0.5208, Active: 1/2\n",
      "  COX IV/Galectin3/atubulin - Loss: 0.0000, Acc: 0.0000 [FROZEN]\n",
      "  FUS/EEA1 - Loss: 0.5208, Acc: 0.7515 \n"
     ]
    },
    {
     "name": "stdout",
     "output_type": "stream",
     "text": [
      "Cell Epoch 17/100, Overall Loss: 0.5244, Active: 1/2\n",
      "  COX IV/Galectin3/atubulin - Loss: 0.0000, Acc: 0.0000 [FROZEN]\n",
      "  FUS/EEA1 - Loss: 0.5244, Acc: 0.7430 \n"
     ]
    },
    {
     "name": "stdout",
     "output_type": "stream",
     "text": [
      "Cell Epoch 18/100, Overall Loss: 0.5523, Active: 1/2\n",
      "  COX IV/Galectin3/atubulin - Loss: 0.0000, Acc: 0.0000 [FROZEN]\n",
      "  FUS/EEA1 - Loss: 0.5523, Acc: 0.7268 \n"
     ]
    },
    {
     "name": "stdout",
     "output_type": "stream",
     "text": [
      "Cell Epoch 19/100, Overall Loss: 0.5296, Active: 1/2\n",
      "  COX IV/Galectin3/atubulin - Loss: 0.0000, Acc: 0.0000 [FROZEN]\n",
      "  FUS/EEA1 - Loss: 0.5296, Acc: 0.7378 \n"
     ]
    },
    {
     "name": "stdout",
     "output_type": "stream",
     "text": [
      "Cell Epoch 20/100, Overall Loss: 0.5077, Active: 1/2\n",
      "  COX IV/Galectin3/atubulin - Loss: 0.0000, Acc: 0.0000 [FROZEN]\n",
      "  FUS/EEA1 - Loss: 0.5077, Acc: 0.7575 \n"
     ]
    },
    {
     "name": "stdout",
     "output_type": "stream",
     "text": [
      "Cell Epoch 21/100, Overall Loss: 0.4998, Active: 1/2\n",
      "  COX IV/Galectin3/atubulin - Loss: 0.0000, Acc: 0.0000 [FROZEN]\n",
      "  FUS/EEA1 - Loss: 0.4998, Acc: 0.7660 \n"
     ]
    },
    {
     "name": "stdout",
     "output_type": "stream",
     "text": [
      "Cell Epoch 22/100, Overall Loss: 0.4879, Active: 1/2\n",
      "  COX IV/Galectin3/atubulin - Loss: 0.0000, Acc: 0.0000 [FROZEN]\n",
      "  FUS/EEA1 - Loss: 0.4879, Acc: 0.7805 \n"
     ]
    },
    {
     "name": "stdout",
     "output_type": "stream",
     "text": [
      "Cell Epoch 23/100, Overall Loss: 0.5270, Active: 1/2\n",
      "  COX IV/Galectin3/atubulin - Loss: 0.0000, Acc: 0.0000 [FROZEN]\n",
      "  FUS/EEA1 - Loss: 0.5270, Acc: 0.7315 \n"
     ]
    },
    {
     "name": "stdout",
     "output_type": "stream",
     "text": [
      "Cell Epoch 24/100, Overall Loss: 0.6107, Active: 1/2\n",
      "  COX IV/Galectin3/atubulin - Loss: 0.0000, Acc: 0.0000 [FROZEN]\n",
      "  FUS/EEA1 - Loss: 0.6107, Acc: 0.6733 \n"
     ]
    },
    {
     "name": "stdout",
     "output_type": "stream",
     "text": [
      "Cell Epoch 25/100, Overall Loss: 0.5903, Active: 1/2\n",
      "  COX IV/Galectin3/atubulin - Loss: 0.0000, Acc: 0.0000 [FROZEN]\n",
      "  FUS/EEA1 - Loss: 0.5903, Acc: 0.6948 \n"
     ]
    },
    {
     "name": "stdout",
     "output_type": "stream",
     "text": [
      "Cell Epoch 26/100, Overall Loss: 0.5004, Active: 1/2\n",
      "  COX IV/Galectin3/atubulin - Loss: 0.0000, Acc: 0.0000 [FROZEN]\n",
      "  FUS/EEA1 - Loss: 0.5004, Acc: 0.7565 \n"
     ]
    },
    {
     "name": "stdout",
     "output_type": "stream",
     "text": [
      "Cell Epoch 27/100, Overall Loss: 0.4843, Active: 1/2\n",
      "  COX IV/Galectin3/atubulin - Loss: 0.0000, Acc: 0.0000 [FROZEN]\n",
      "  FUS/EEA1 - Loss: 0.4843, Acc: 0.7765 \n"
     ]
    },
    {
     "name": "stdout",
     "output_type": "stream",
     "text": [
      "Cell Epoch 28/100, Overall Loss: 0.4979, Active: 1/2\n",
      "  COX IV/Galectin3/atubulin - Loss: 0.0000, Acc: 0.0000 [FROZEN]\n",
      "  FUS/EEA1 - Loss: 0.4979, Acc: 0.7653 \n"
     ]
    },
    {
     "name": "stdout",
     "output_type": "stream",
     "text": [
      "Cell Epoch 29/100, Overall Loss: 0.4843, Active: 1/2\n",
      "  COX IV/Galectin3/atubulin - Loss: 0.0000, Acc: 0.0000 [FROZEN]\n",
      "  FUS/EEA1 - Loss: 0.4843, Acc: 0.7783 \n"
     ]
    },
    {
     "name": "stdout",
     "output_type": "stream",
     "text": [
      "Cell Epoch 30/100, Overall Loss: 0.5052, Active: 1/2\n",
      "  COX IV/Galectin3/atubulin - Loss: 0.0000, Acc: 0.0000 [FROZEN]\n",
      "  FUS/EEA1 - Loss: 0.5052, Acc: 0.7635 \n"
     ]
    },
    {
     "name": "stdout",
     "output_type": "stream",
     "text": [
      "Cell Epoch 31/100, Overall Loss: 0.5555, Active: 1/2\n",
      "  COX IV/Galectin3/atubulin - Loss: 0.0000, Acc: 0.0000 [FROZEN]\n",
      "  FUS/EEA1 - Loss: 0.5555, Acc: 0.7163 \n"
     ]
    },
    {
     "name": "stdout",
     "output_type": "stream",
     "text": [
      "Cell Epoch 32/100, Overall Loss: 0.4993, Active: 1/2\n",
      "  COX IV/Galectin3/atubulin - Loss: 0.0000, Acc: 0.0000 [FROZEN]\n",
      "  FUS/EEA1 - Loss: 0.4993, Acc: 0.7658 \n"
     ]
    },
    {
     "name": "stdout",
     "output_type": "stream",
     "text": [
      "Cell Epoch 33/100, Overall Loss: 0.5339, Active: 1/2\n",
      "  COX IV/Galectin3/atubulin - Loss: 0.0000, Acc: 0.0000 [FROZEN]\n",
      "  FUS/EEA1 - Loss: 0.5339, Acc: 0.7355 \n"
     ]
    },
    {
     "name": "stdout",
     "output_type": "stream",
     "text": [
      "  Freezing FUS/EEA1 encoder at epoch 34\n",
      "Cell Epoch 34/100, Overall Loss: 0.5160, Active: 0/2\n",
      "  COX IV/Galectin3/atubulin - Loss: 0.0000, Acc: 0.0000 [FROZEN]\n",
      "  FUS/EEA1 - Loss: 0.5160, Acc: 0.7473 [FROZEN]\n",
      "All antibodies frozen - stopping cell training at epoch 34\n",
      "Starting line-level training...\n",
      "Unfreezing all antibody encoders for line training...\n"
     ]
    },
    {
     "name": "stdout",
     "output_type": "stream",
     "text": [
      "Line Epoch 1/100, Loss: 0.7001\n"
     ]
    },
    {
     "name": "stdout",
     "output_type": "stream",
     "text": [
      "Line Epoch 2/100, Loss: 0.6309\n"
     ]
    },
    {
     "name": "stdout",
     "output_type": "stream",
     "text": [
      "Line Epoch 3/100, Loss: 0.6321\n"
     ]
    },
    {
     "name": "stdout",
     "output_type": "stream",
     "text": [
      "Line Epoch 4/100, Loss: 0.6205\n"
     ]
    },
    {
     "name": "stdout",
     "output_type": "stream",
     "text": [
      "Line Epoch 5/100, Loss: 0.5159\n"
     ]
    },
    {
     "name": "stdout",
     "output_type": "stream",
     "text": [
      "Line Epoch 6/100, Loss: 0.4993\n"
     ]
    },
    {
     "name": "stdout",
     "output_type": "stream",
     "text": [
      "Line Epoch 7/100, Loss: 0.4881\n"
     ]
    },
    {
     "name": "stdout",
     "output_type": "stream",
     "text": [
      "Line Epoch 8/100, Loss: 0.5564\n"
     ]
    },
    {
     "name": "stdout",
     "output_type": "stream",
     "text": [
      "Line Epoch 9/100, Loss: 0.5425\n"
     ]
    },
    {
     "name": "stdout",
     "output_type": "stream",
     "text": [
      "Line Epoch 10/100, Loss: 0.4160\n"
     ]
    },
    {
     "name": "stdout",
     "output_type": "stream",
     "text": [
      "Line Epoch 11/100, Loss: 0.3807\n"
     ]
    },
    {
     "name": "stdout",
     "output_type": "stream",
     "text": [
      "Line Epoch 12/100, Loss: 0.4423\n"
     ]
    },
    {
     "name": "stdout",
     "output_type": "stream",
     "text": [
      "Line Epoch 13/100, Loss: 0.4032\n"
     ]
    },
    {
     "name": "stdout",
     "output_type": "stream",
     "text": [
      "Line Epoch 14/100, Loss: 0.4981\n"
     ]
    },
    {
     "name": "stdout",
     "output_type": "stream",
     "text": [
      "Line Epoch 15/100, Loss: 0.3873\n"
     ]
    },
    {
     "name": "stdout",
     "output_type": "stream",
     "text": [
      "Line Epoch 16/100, Loss: 0.4269\n",
      "Early stopping line training at epoch 16\n",
      "Training completed!\n"
     ]
    },
    {
     "name": "stdout",
     "output_type": "stream",
     "text": [
      "Training C9orf72...\n"
     ]
    },
    {
     "name": "stdout",
     "output_type": "stream",
     "text": [
      "Starting cell-level training...\n"
     ]
    },
    {
     "name": "stdout",
     "output_type": "stream",
     "text": [
      "Cell Epoch 1/100, Overall Loss: 0.7761, Active: 2/2\n",
      "  COX IV/Galectin3/atubulin - Loss: 0.8228, Acc: 0.4928 \n",
      "  FUS/EEA1 - Loss: 0.7294, Acc: 0.5420 \n"
     ]
    },
    {
     "name": "stdout",
     "output_type": "stream",
     "text": [
      "Cell Epoch 2/100, Overall Loss: 0.7531, Active: 2/2\n",
      "  COX IV/Galectin3/atubulin - Loss: 0.7772, Acc: 0.5090 \n",
      "  FUS/EEA1 - Loss: 0.7291, Acc: 0.5380 \n"
     ]
    },
    {
     "name": "stdout",
     "output_type": "stream",
     "text": [
      "Cell Epoch 3/100, Overall Loss: 0.7225, Active: 2/2\n",
      "  COX IV/Galectin3/atubulin - Loss: 0.7351, Acc: 0.5490 \n",
      "  FUS/EEA1 - Loss: 0.7098, Acc: 0.5605 \n"
     ]
    },
    {
     "name": "stdout",
     "output_type": "stream",
     "text": [
      "Cell Epoch 4/100, Overall Loss: 0.7506, Active: 2/2\n",
      "  COX IV/Galectin3/atubulin - Loss: 0.7617, Acc: 0.5348 \n",
      "  FUS/EEA1 - Loss: 0.7395, Acc: 0.5240 \n"
     ]
    },
    {
     "name": "stdout",
     "output_type": "stream",
     "text": [
      "Cell Epoch 5/100, Overall Loss: 0.6976, Active: 2/2\n",
      "  COX IV/Galectin3/atubulin - Loss: 0.7250, Acc: 0.5543 \n",
      "  FUS/EEA1 - Loss: 0.6701, Acc: 0.5973 \n"
     ]
    },
    {
     "name": "stdout",
     "output_type": "stream",
     "text": [
      "Cell Epoch 6/100, Overall Loss: 0.6612, Active: 2/2\n",
      "  COX IV/Galectin3/atubulin - Loss: 0.6666, Acc: 0.6075 \n",
      "  FUS/EEA1 - Loss: 0.6559, Acc: 0.6193 \n"
     ]
    },
    {
     "name": "stdout",
     "output_type": "stream",
     "text": [
      "Cell Epoch 7/100, Overall Loss: 0.6756, Active: 2/2\n",
      "  COX IV/Galectin3/atubulin - Loss: 0.6926, Acc: 0.5913 \n",
      "  FUS/EEA1 - Loss: 0.6585, Acc: 0.6233 \n"
     ]
    },
    {
     "name": "stdout",
     "output_type": "stream",
     "text": [
      "Cell Epoch 8/100, Overall Loss: 0.6962, Active: 2/2\n",
      "  COX IV/Galectin3/atubulin - Loss: 0.7182, Acc: 0.5558 \n",
      "  FUS/EEA1 - Loss: 0.6741, Acc: 0.6030 \n"
     ]
    },
    {
     "name": "stdout",
     "output_type": "stream",
     "text": [
      "Cell Epoch 9/100, Overall Loss: 0.6629, Active: 2/2\n",
      "  COX IV/Galectin3/atubulin - Loss: 0.6777, Acc: 0.5960 \n",
      "  FUS/EEA1 - Loss: 0.6481, Acc: 0.6195 \n"
     ]
    },
    {
     "name": "stdout",
     "output_type": "stream",
     "text": [
      "Cell Epoch 10/100, Overall Loss: 0.6593, Active: 2/2\n",
      "  COX IV/Galectin3/atubulin - Loss: 0.6708, Acc: 0.6098 \n",
      "  FUS/EEA1 - Loss: 0.6477, Acc: 0.6245 \n"
     ]
    },
    {
     "name": "stdout",
     "output_type": "stream",
     "text": [
      "  Freezing COX IV/Galectin3/atubulin encoder at epoch 11\n",
      "Cell Epoch 11/100, Overall Loss: 0.7093, Active: 1/2\n",
      "  COX IV/Galectin3/atubulin - Loss: 0.7341, Acc: 0.5493 [FROZEN]\n",
      "  FUS/EEA1 - Loss: 0.6846, Acc: 0.5838 \n"
     ]
    },
    {
     "name": "stderr",
     "output_type": "stream",
     "text": [
      "/awlab/projects/2024_ALS/software/miniforge3/envs/maps/lib/python3.11/site-packages/torch/optim/lr_scheduler.py:182: UserWarning: Detected call of `lr_scheduler.step()` before `optimizer.step()`. In PyTorch 1.1.0 and later, you should call them in the opposite order: `optimizer.step()` before `lr_scheduler.step()`.  Failure to do this will result in PyTorch skipping the first value of the learning rate schedule. See more details at https://pytorch.org/docs/stable/optim.html#how-to-adjust-learning-rate\n",
      "  warnings.warn(\n"
     ]
    },
    {
     "name": "stdout",
     "output_type": "stream",
     "text": [
      "Cell Epoch 12/100, Overall Loss: 0.6704, Active: 1/2\n",
      "  COX IV/Galectin3/atubulin - Loss: 0.0000, Acc: 0.0000 [FROZEN]\n",
      "  FUS/EEA1 - Loss: 0.6704, Acc: 0.6003 \n"
     ]
    },
    {
     "name": "stdout",
     "output_type": "stream",
     "text": [
      "Cell Epoch 13/100, Overall Loss: 0.6532, Active: 1/2\n",
      "  COX IV/Galectin3/atubulin - Loss: 0.0000, Acc: 0.0000 [FROZEN]\n",
      "  FUS/EEA1 - Loss: 0.6532, Acc: 0.6253 \n"
     ]
    },
    {
     "name": "stdout",
     "output_type": "stream",
     "text": [
      "Cell Epoch 14/100, Overall Loss: 0.7040, Active: 1/2\n",
      "  COX IV/Galectin3/atubulin - Loss: 0.0000, Acc: 0.0000 [FROZEN]\n",
      "  FUS/EEA1 - Loss: 0.7040, Acc: 0.5593 \n"
     ]
    },
    {
     "name": "stdout",
     "output_type": "stream",
     "text": [
      "  Freezing FUS/EEA1 encoder at epoch 15\n",
      "Cell Epoch 15/100, Overall Loss: 0.6633, Active: 0/2\n",
      "  COX IV/Galectin3/atubulin - Loss: 0.0000, Acc: 0.0000 [FROZEN]\n",
      "  FUS/EEA1 - Loss: 0.6633, Acc: 0.6135 [FROZEN]\n",
      "All antibodies frozen - stopping cell training at epoch 15\n",
      "Starting line-level training...\n",
      "Unfreezing all antibody encoders for line training...\n"
     ]
    },
    {
     "name": "stdout",
     "output_type": "stream",
     "text": [
      "Line Epoch 1/100, Loss: 0.6063\n"
     ]
    },
    {
     "name": "stdout",
     "output_type": "stream",
     "text": [
      "Line Epoch 2/100, Loss: 0.6765\n"
     ]
    },
    {
     "name": "stdout",
     "output_type": "stream",
     "text": [
      "Line Epoch 3/100, Loss: 0.5325\n"
     ]
    },
    {
     "name": "stdout",
     "output_type": "stream",
     "text": [
      "Line Epoch 4/100, Loss: 0.7081\n"
     ]
    },
    {
     "name": "stdout",
     "output_type": "stream",
     "text": [
      "Line Epoch 5/100, Loss: 0.5333\n"
     ]
    },
    {
     "name": "stdout",
     "output_type": "stream",
     "text": [
      "Line Epoch 6/100, Loss: 0.5235\n"
     ]
    },
    {
     "name": "stdout",
     "output_type": "stream",
     "text": [
      "Line Epoch 7/100, Loss: 0.6134\n"
     ]
    },
    {
     "name": "stdout",
     "output_type": "stream",
     "text": [
      "Line Epoch 8/100, Loss: 0.6029\n"
     ]
    },
    {
     "name": "stdout",
     "output_type": "stream",
     "text": [
      "Line Epoch 9/100, Loss: 0.5627\n"
     ]
    },
    {
     "name": "stdout",
     "output_type": "stream",
     "text": [
      "Line Epoch 10/100, Loss: 0.5837\n"
     ]
    },
    {
     "name": "stdout",
     "output_type": "stream",
     "text": [
      "Line Epoch 11/100, Loss: 0.5499\n",
      "Early stopping line training at epoch 11\n",
      "Training completed!\n"
     ]
    },
    {
     "name": "stdout",
     "output_type": "stream",
     "text": [
      "Starting cell-level training...\n"
     ]
    },
    {
     "name": "stdout",
     "output_type": "stream",
     "text": [
      "Cell Epoch 1/100, Overall Loss: 0.7730, Active: 2/2\n",
      "  COX IV/Galectin3/atubulin - Loss: 0.8209, Acc: 0.5030 \n",
      "  FUS/EEA1 - Loss: 0.7250, Acc: 0.5373 \n"
     ]
    },
    {
     "name": "stdout",
     "output_type": "stream",
     "text": [
      "Cell Epoch 2/100, Overall Loss: 0.7534, Active: 2/2\n",
      "  COX IV/Galectin3/atubulin - Loss: 0.8108, Acc: 0.5015 \n",
      "  FUS/EEA1 - Loss: 0.6961, Acc: 0.5675 \n"
     ]
    },
    {
     "name": "stdout",
     "output_type": "stream",
     "text": [
      "Cell Epoch 3/100, Overall Loss: 0.6856, Active: 2/2\n",
      "  COX IV/Galectin3/atubulin - Loss: 0.6848, Acc: 0.6130 \n",
      "  FUS/EEA1 - Loss: 0.6865, Acc: 0.5853 \n"
     ]
    },
    {
     "name": "stdout",
     "output_type": "stream",
     "text": [
      "Cell Epoch 4/100, Overall Loss: 0.6780, Active: 2/2\n",
      "  COX IV/Galectin3/atubulin - Loss: 0.6975, Acc: 0.6170 \n",
      "  FUS/EEA1 - Loss: 0.6584, Acc: 0.6150 \n"
     ]
    },
    {
     "name": "stdout",
     "output_type": "stream",
     "text": [
      "Cell Epoch 5/100, Overall Loss: 0.7126, Active: 2/2\n",
      "  COX IV/Galectin3/atubulin - Loss: 0.7332, Acc: 0.5865 \n",
      "  FUS/EEA1 - Loss: 0.6919, Acc: 0.5760 \n"
     ]
    },
    {
     "name": "stdout",
     "output_type": "stream",
     "text": [
      "Cell Epoch 6/100, Overall Loss: 0.6384, Active: 2/2\n",
      "  COX IV/Galectin3/atubulin - Loss: 0.6116, Acc: 0.6738 \n",
      "  FUS/EEA1 - Loss: 0.6652, Acc: 0.6005 \n"
     ]
    },
    {
     "name": "stdout",
     "output_type": "stream",
     "text": [
      "Cell Epoch 7/100, Overall Loss: 0.6539, Active: 2/2\n",
      "  COX IV/Galectin3/atubulin - Loss: 0.6682, Acc: 0.6415 \n",
      "  FUS/EEA1 - Loss: 0.6395, Acc: 0.6435 \n"
     ]
    },
    {
     "name": "stdout",
     "output_type": "stream",
     "text": [
      "Cell Epoch 8/100, Overall Loss: 0.6097, Active: 2/2\n",
      "  COX IV/Galectin3/atubulin - Loss: 0.5749, Acc: 0.7095 \n",
      "  FUS/EEA1 - Loss: 0.6446, Acc: 0.6335 \n"
     ]
    },
    {
     "name": "stdout",
     "output_type": "stream",
     "text": [
      "Cell Epoch 9/100, Overall Loss: 0.6095, Active: 2/2\n",
      "  COX IV/Galectin3/atubulin - Loss: 0.5880, Acc: 0.6905 \n",
      "  FUS/EEA1 - Loss: 0.6309, Acc: 0.6403 \n"
     ]
    },
    {
     "name": "stdout",
     "output_type": "stream",
     "text": [
      "Cell Epoch 10/100, Overall Loss: 0.6354, Active: 2/2\n",
      "  COX IV/Galectin3/atubulin - Loss: 0.6230, Acc: 0.6745 \n",
      "  FUS/EEA1 - Loss: 0.6478, Acc: 0.6313 \n"
     ]
    },
    {
     "name": "stdout",
     "output_type": "stream",
     "text": [
      "Cell Epoch 11/100, Overall Loss: 0.6264, Active: 2/2\n",
      "  COX IV/Galectin3/atubulin - Loss: 0.6208, Acc: 0.6745 \n",
      "  FUS/EEA1 - Loss: 0.6319, Acc: 0.6368 \n"
     ]
    },
    {
     "name": "stdout",
     "output_type": "stream",
     "text": [
      "Cell Epoch 12/100, Overall Loss: 0.6408, Active: 2/2\n",
      "  COX IV/Galectin3/atubulin - Loss: 0.6339, Acc: 0.6685 \n",
      "  FUS/EEA1 - Loss: 0.6478, Acc: 0.6358 \n"
     ]
    },
    {
     "name": "stdout",
     "output_type": "stream",
     "text": [
      "  Freezing COX IV/Galectin3/atubulin encoder at epoch 13\n",
      "Cell Epoch 13/100, Overall Loss: 0.6188, Active: 1/2\n",
      "  COX IV/Galectin3/atubulin - Loss: 0.6055, Acc: 0.6738 [FROZEN]\n",
      "  FUS/EEA1 - Loss: 0.6321, Acc: 0.6438 \n"
     ]
    },
    {
     "name": "stderr",
     "output_type": "stream",
     "text": [
      "/awlab/projects/2024_ALS/software/miniforge3/envs/maps/lib/python3.11/site-packages/torch/optim/lr_scheduler.py:182: UserWarning: Detected call of `lr_scheduler.step()` before `optimizer.step()`. In PyTorch 1.1.0 and later, you should call them in the opposite order: `optimizer.step()` before `lr_scheduler.step()`.  Failure to do this will result in PyTorch skipping the first value of the learning rate schedule. See more details at https://pytorch.org/docs/stable/optim.html#how-to-adjust-learning-rate\n",
      "  warnings.warn(\n"
     ]
    },
    {
     "name": "stdout",
     "output_type": "stream",
     "text": [
      "  Freezing FUS/EEA1 encoder at epoch 14\n",
      "Cell Epoch 14/100, Overall Loss: 0.6569, Active: 0/2\n",
      "  COX IV/Galectin3/atubulin - Loss: 0.0000, Acc: 0.0000 [FROZEN]\n",
      "  FUS/EEA1 - Loss: 0.6569, Acc: 0.6135 [FROZEN]\n",
      "All antibodies frozen - stopping cell training at epoch 14\n",
      "Starting line-level training...\n",
      "Unfreezing all antibody encoders for line training...\n"
     ]
    },
    {
     "name": "stdout",
     "output_type": "stream",
     "text": [
      "Line Epoch 1/100, Loss: 0.5741\n"
     ]
    },
    {
     "name": "stdout",
     "output_type": "stream",
     "text": [
      "Line Epoch 2/100, Loss: 0.5787\n"
     ]
    },
    {
     "name": "stdout",
     "output_type": "stream",
     "text": [
      "Line Epoch 3/100, Loss: 0.4898\n"
     ]
    },
    {
     "name": "stdout",
     "output_type": "stream",
     "text": [
      "Line Epoch 4/100, Loss: 0.5269\n"
     ]
    },
    {
     "name": "stdout",
     "output_type": "stream",
     "text": [
      "Line Epoch 5/100, Loss: 0.5353\n"
     ]
    },
    {
     "name": "stdout",
     "output_type": "stream",
     "text": [
      "Line Epoch 6/100, Loss: 0.4341\n"
     ]
    },
    {
     "name": "stdout",
     "output_type": "stream",
     "text": [
      "Line Epoch 7/100, Loss: 0.4407\n"
     ]
    },
    {
     "name": "stdout",
     "output_type": "stream",
     "text": [
      "Line Epoch 8/100, Loss: 0.3959\n"
     ]
    },
    {
     "name": "stdout",
     "output_type": "stream",
     "text": [
      "Line Epoch 9/100, Loss: 0.3796\n"
     ]
    },
    {
     "name": "stdout",
     "output_type": "stream",
     "text": [
      "Line Epoch 10/100, Loss: 0.4521\n"
     ]
    },
    {
     "name": "stdout",
     "output_type": "stream",
     "text": [
      "Line Epoch 11/100, Loss: 0.4000\n"
     ]
    },
    {
     "name": "stdout",
     "output_type": "stream",
     "text": [
      "Line Epoch 12/100, Loss: 0.3332\n"
     ]
    },
    {
     "name": "stdout",
     "output_type": "stream",
     "text": [
      "Line Epoch 13/100, Loss: 0.4272\n"
     ]
    },
    {
     "name": "stdout",
     "output_type": "stream",
     "text": [
      "Line Epoch 14/100, Loss: 0.4580\n"
     ]
    },
    {
     "name": "stdout",
     "output_type": "stream",
     "text": [
      "Line Epoch 15/100, Loss: 0.4709\n"
     ]
    },
    {
     "name": "stdout",
     "output_type": "stream",
     "text": [
      "Line Epoch 16/100, Loss: 0.3994\n"
     ]
    },
    {
     "name": "stdout",
     "output_type": "stream",
     "text": [
      "Line Epoch 17/100, Loss: 0.3585\n",
      "Early stopping line training at epoch 17\n",
      "Training completed!\n"
     ]
    },
    {
     "name": "stdout",
     "output_type": "stream",
     "text": [
      "Training SOD1...\n"
     ]
    },
    {
     "name": "stdout",
     "output_type": "stream",
     "text": [
      "Starting cell-level training...\n"
     ]
    },
    {
     "name": "stdout",
     "output_type": "stream",
     "text": [
      "Cell Epoch 1/100, Overall Loss: 0.7697, Active: 2/2\n",
      "  COX IV/Galectin3/atubulin - Loss: 0.7522, Acc: 0.4883 \n",
      "  FUS/EEA1 - Loss: 0.7873, Acc: 0.4800 \n"
     ]
    },
    {
     "name": "stdout",
     "output_type": "stream",
     "text": [
      "Cell Epoch 2/100, Overall Loss: 0.7197, Active: 2/2\n",
      "  COX IV/Galectin3/atubulin - Loss: 0.7121, Acc: 0.5458 \n",
      "  FUS/EEA1 - Loss: 0.7273, Acc: 0.5438 \n"
     ]
    },
    {
     "name": "stdout",
     "output_type": "stream",
     "text": [
      "Cell Epoch 3/100, Overall Loss: 0.7224, Active: 2/2\n",
      "  COX IV/Galectin3/atubulin - Loss: 0.6988, Acc: 0.5545 \n",
      "  FUS/EEA1 - Loss: 0.7460, Acc: 0.5298 \n"
     ]
    },
    {
     "name": "stdout",
     "output_type": "stream",
     "text": [
      "Cell Epoch 4/100, Overall Loss: 0.7092, Active: 2/2\n",
      "  COX IV/Galectin3/atubulin - Loss: 0.6922, Acc: 0.5670 \n",
      "  FUS/EEA1 - Loss: 0.7263, Acc: 0.5463 \n"
     ]
    },
    {
     "name": "stdout",
     "output_type": "stream",
     "text": [
      "Cell Epoch 5/100, Overall Loss: 0.6996, Active: 2/2\n",
      "  COX IV/Galectin3/atubulin - Loss: 0.6751, Acc: 0.5925 \n",
      "  FUS/EEA1 - Loss: 0.7242, Acc: 0.5600 \n"
     ]
    },
    {
     "name": "stdout",
     "output_type": "stream",
     "text": [
      "Cell Epoch 6/100, Overall Loss: 0.7049, Active: 2/2\n",
      "  COX IV/Galectin3/atubulin - Loss: 0.6749, Acc: 0.5925 \n",
      "  FUS/EEA1 - Loss: 0.7348, Acc: 0.5458 \n"
     ]
    },
    {
     "name": "stdout",
     "output_type": "stream",
     "text": [
      "Cell Epoch 7/100, Overall Loss: 0.6681, Active: 2/2\n",
      "  COX IV/Galectin3/atubulin - Loss: 0.6540, Acc: 0.6213 \n",
      "  FUS/EEA1 - Loss: 0.6822, Acc: 0.5940 \n"
     ]
    },
    {
     "name": "stdout",
     "output_type": "stream",
     "text": [
      "Cell Epoch 8/100, Overall Loss: 0.7314, Active: 2/2\n",
      "  COX IV/Galectin3/atubulin - Loss: 0.7232, Acc: 0.5318 \n",
      "  FUS/EEA1 - Loss: 0.7397, Acc: 0.5260 \n"
     ]
    },
    {
     "name": "stdout",
     "output_type": "stream",
     "text": [
      "Cell Epoch 9/100, Overall Loss: 0.7137, Active: 2/2\n",
      "  COX IV/Galectin3/atubulin - Loss: 0.6950, Acc: 0.5715 \n",
      "  FUS/EEA1 - Loss: 0.7324, Acc: 0.5425 \n"
     ]
    },
    {
     "name": "stdout",
     "output_type": "stream",
     "text": [
      "Cell Epoch 10/100, Overall Loss: 0.6816, Active: 2/2\n",
      "  COX IV/Galectin3/atubulin - Loss: 0.6513, Acc: 0.6288 \n",
      "  FUS/EEA1 - Loss: 0.7119, Acc: 0.5608 \n"
     ]
    },
    {
     "name": "stdout",
     "output_type": "stream",
     "text": [
      "Cell Epoch 11/100, Overall Loss: 0.6945, Active: 2/2\n",
      "  COX IV/Galectin3/atubulin - Loss: 0.6734, Acc: 0.5885 \n",
      "  FUS/EEA1 - Loss: 0.7157, Acc: 0.5528 \n"
     ]
    },
    {
     "name": "stdout",
     "output_type": "stream",
     "text": [
      "  Freezing FUS/EEA1 encoder at epoch 12\n",
      "Cell Epoch 12/100, Overall Loss: 0.6781, Active: 1/2\n",
      "  COX IV/Galectin3/atubulin - Loss: 0.6485, Acc: 0.6325 \n",
      "  FUS/EEA1 - Loss: 0.7077, Acc: 0.5513 [FROZEN]\n"
     ]
    },
    {
     "name": "stderr",
     "output_type": "stream",
     "text": [
      "/awlab/projects/2024_ALS/software/miniforge3/envs/maps/lib/python3.11/site-packages/torch/optim/lr_scheduler.py:182: UserWarning: Detected call of `lr_scheduler.step()` before `optimizer.step()`. In PyTorch 1.1.0 and later, you should call them in the opposite order: `optimizer.step()` before `lr_scheduler.step()`.  Failure to do this will result in PyTorch skipping the first value of the learning rate schedule. See more details at https://pytorch.org/docs/stable/optim.html#how-to-adjust-learning-rate\n",
      "  warnings.warn(\n"
     ]
    },
    {
     "name": "stdout",
     "output_type": "stream",
     "text": [
      "Cell Epoch 13/100, Overall Loss: 0.6915, Active: 1/2\n",
      "  COX IV/Galectin3/atubulin - Loss: 0.6915, Acc: 0.5680 \n",
      "  FUS/EEA1 - Loss: 0.0000, Acc: 0.0000 [FROZEN]\n"
     ]
    },
    {
     "name": "stdout",
     "output_type": "stream",
     "text": [
      "Cell Epoch 14/100, Overall Loss: 0.6522, Active: 1/2\n",
      "  COX IV/Galectin3/atubulin - Loss: 0.6522, Acc: 0.6138 \n",
      "  FUS/EEA1 - Loss: 0.0000, Acc: 0.0000 [FROZEN]\n"
     ]
    },
    {
     "name": "stdout",
     "output_type": "stream",
     "text": [
      "Cell Epoch 15/100, Overall Loss: 0.6531, Active: 1/2\n",
      "  COX IV/Galectin3/atubulin - Loss: 0.6531, Acc: 0.6203 \n",
      "  FUS/EEA1 - Loss: 0.0000, Acc: 0.0000 [FROZEN]\n"
     ]
    },
    {
     "name": "stdout",
     "output_type": "stream",
     "text": [
      "Cell Epoch 16/100, Overall Loss: 0.6663, Active: 1/2\n",
      "  COX IV/Galectin3/atubulin - Loss: 0.6663, Acc: 0.6003 \n",
      "  FUS/EEA1 - Loss: 0.0000, Acc: 0.0000 [FROZEN]\n"
     ]
    },
    {
     "name": "stdout",
     "output_type": "stream",
     "text": [
      "Cell Epoch 17/100, Overall Loss: 0.6391, Active: 1/2\n",
      "  COX IV/Galectin3/atubulin - Loss: 0.6391, Acc: 0.6258 \n",
      "  FUS/EEA1 - Loss: 0.0000, Acc: 0.0000 [FROZEN]\n"
     ]
    },
    {
     "name": "stdout",
     "output_type": "stream",
     "text": [
      "Cell Epoch 18/100, Overall Loss: 0.6484, Active: 1/2\n",
      "  COX IV/Galectin3/atubulin - Loss: 0.6484, Acc: 0.6260 \n",
      "  FUS/EEA1 - Loss: 0.0000, Acc: 0.0000 [FROZEN]\n"
     ]
    },
    {
     "name": "stdout",
     "output_type": "stream",
     "text": [
      "Cell Epoch 19/100, Overall Loss: 0.6406, Active: 1/2\n",
      "  COX IV/Galectin3/atubulin - Loss: 0.6406, Acc: 0.6275 \n",
      "  FUS/EEA1 - Loss: 0.0000, Acc: 0.0000 [FROZEN]\n"
     ]
    },
    {
     "name": "stdout",
     "output_type": "stream",
     "text": [
      "Cell Epoch 20/100, Overall Loss: 0.6477, Active: 1/2\n",
      "  COX IV/Galectin3/atubulin - Loss: 0.6477, Acc: 0.6220 \n",
      "  FUS/EEA1 - Loss: 0.0000, Acc: 0.0000 [FROZEN]\n"
     ]
    },
    {
     "name": "stdout",
     "output_type": "stream",
     "text": [
      "Cell Epoch 21/100, Overall Loss: 0.6348, Active: 1/2\n",
      "  COX IV/Galectin3/atubulin - Loss: 0.6348, Acc: 0.6410 \n",
      "  FUS/EEA1 - Loss: 0.0000, Acc: 0.0000 [FROZEN]\n"
     ]
    },
    {
     "name": "stdout",
     "output_type": "stream",
     "text": [
      "Cell Epoch 22/100, Overall Loss: 0.6361, Active: 1/2\n",
      "  COX IV/Galectin3/atubulin - Loss: 0.6361, Acc: 0.6403 \n",
      "  FUS/EEA1 - Loss: 0.0000, Acc: 0.0000 [FROZEN]\n"
     ]
    },
    {
     "name": "stdout",
     "output_type": "stream",
     "text": [
      "Cell Epoch 23/100, Overall Loss: 0.6193, Active: 1/2\n",
      "  COX IV/Galectin3/atubulin - Loss: 0.6193, Acc: 0.6590 \n",
      "  FUS/EEA1 - Loss: 0.0000, Acc: 0.0000 [FROZEN]\n"
     ]
    },
    {
     "name": "stdout",
     "output_type": "stream",
     "text": [
      "Cell Epoch 24/100, Overall Loss: 0.6291, Active: 1/2\n",
      "  COX IV/Galectin3/atubulin - Loss: 0.6291, Acc: 0.6450 \n",
      "  FUS/EEA1 - Loss: 0.0000, Acc: 0.0000 [FROZEN]\n"
     ]
    },
    {
     "name": "stdout",
     "output_type": "stream",
     "text": [
      "Cell Epoch 25/100, Overall Loss: 0.6126, Active: 1/2\n",
      "  COX IV/Galectin3/atubulin - Loss: 0.6126, Acc: 0.6538 \n",
      "  FUS/EEA1 - Loss: 0.0000, Acc: 0.0000 [FROZEN]\n"
     ]
    },
    {
     "name": "stdout",
     "output_type": "stream",
     "text": [
      "Cell Epoch 26/100, Overall Loss: 0.6649, Active: 1/2\n",
      "  COX IV/Galectin3/atubulin - Loss: 0.6649, Acc: 0.6005 \n",
      "  FUS/EEA1 - Loss: 0.0000, Acc: 0.0000 [FROZEN]\n"
     ]
    },
    {
     "name": "stdout",
     "output_type": "stream",
     "text": [
      "Cell Epoch 27/100, Overall Loss: 0.6569, Active: 1/2\n",
      "  COX IV/Galectin3/atubulin - Loss: 0.6569, Acc: 0.6153 \n",
      "  FUS/EEA1 - Loss: 0.0000, Acc: 0.0000 [FROZEN]\n"
     ]
    },
    {
     "name": "stdout",
     "output_type": "stream",
     "text": [
      "Cell Epoch 28/100, Overall Loss: 0.6445, Active: 1/2\n",
      "  COX IV/Galectin3/atubulin - Loss: 0.6445, Acc: 0.6230 \n",
      "  FUS/EEA1 - Loss: 0.0000, Acc: 0.0000 [FROZEN]\n"
     ]
    },
    {
     "name": "stdout",
     "output_type": "stream",
     "text": [
      "Cell Epoch 29/100, Overall Loss: 0.6551, Active: 1/2\n",
      "  COX IV/Galectin3/atubulin - Loss: 0.6551, Acc: 0.6163 \n",
      "  FUS/EEA1 - Loss: 0.0000, Acc: 0.0000 [FROZEN]\n"
     ]
    },
    {
     "name": "stdout",
     "output_type": "stream",
     "text": [
      "Cell Epoch 30/100, Overall Loss: 0.6059, Active: 1/2\n",
      "  COX IV/Galectin3/atubulin - Loss: 0.6059, Acc: 0.6720 \n",
      "  FUS/EEA1 - Loss: 0.0000, Acc: 0.0000 [FROZEN]\n"
     ]
    },
    {
     "name": "stdout",
     "output_type": "stream",
     "text": [
      "Cell Epoch 31/100, Overall Loss: 0.6268, Active: 1/2\n",
      "  COX IV/Galectin3/atubulin - Loss: 0.6268, Acc: 0.6458 \n",
      "  FUS/EEA1 - Loss: 0.0000, Acc: 0.0000 [FROZEN]\n"
     ]
    },
    {
     "name": "stdout",
     "output_type": "stream",
     "text": [
      "Cell Epoch 32/100, Overall Loss: 0.6336, Active: 1/2\n",
      "  COX IV/Galectin3/atubulin - Loss: 0.6336, Acc: 0.6390 \n",
      "  FUS/EEA1 - Loss: 0.0000, Acc: 0.0000 [FROZEN]\n"
     ]
    },
    {
     "name": "stdout",
     "output_type": "stream",
     "text": [
      "Cell Epoch 33/100, Overall Loss: 0.6714, Active: 1/2\n",
      "  COX IV/Galectin3/atubulin - Loss: 0.6714, Acc: 0.5925 \n",
      "  FUS/EEA1 - Loss: 0.0000, Acc: 0.0000 [FROZEN]\n"
     ]
    },
    {
     "name": "stdout",
     "output_type": "stream",
     "text": [
      "Cell Epoch 34/100, Overall Loss: 0.6400, Active: 1/2\n",
      "  COX IV/Galectin3/atubulin - Loss: 0.6400, Acc: 0.6328 \n",
      "  FUS/EEA1 - Loss: 0.0000, Acc: 0.0000 [FROZEN]\n"
     ]
    },
    {
     "name": "stdout",
     "output_type": "stream",
     "text": [
      "  Freezing COX IV/Galectin3/atubulin encoder at epoch 35\n",
      "Cell Epoch 35/100, Overall Loss: 0.6287, Active: 0/2\n",
      "  COX IV/Galectin3/atubulin - Loss: 0.6287, Acc: 0.6423 [FROZEN]\n",
      "  FUS/EEA1 - Loss: 0.0000, Acc: 0.0000 [FROZEN]\n",
      "All antibodies frozen - stopping cell training at epoch 35\n",
      "Starting line-level training...\n",
      "Unfreezing all antibody encoders for line training...\n"
     ]
    },
    {
     "name": "stdout",
     "output_type": "stream",
     "text": [
      "Line Epoch 1/100, Loss: 0.6200\n"
     ]
    },
    {
     "name": "stdout",
     "output_type": "stream",
     "text": [
      "Line Epoch 2/100, Loss: 0.6514\n"
     ]
    },
    {
     "name": "stdout",
     "output_type": "stream",
     "text": [
      "Line Epoch 3/100, Loss: 0.5808\n"
     ]
    },
    {
     "name": "stdout",
     "output_type": "stream",
     "text": [
      "Line Epoch 4/100, Loss: 0.5333\n"
     ]
    },
    {
     "name": "stdout",
     "output_type": "stream",
     "text": [
      "Line Epoch 5/100, Loss: 0.6146\n"
     ]
    },
    {
     "name": "stdout",
     "output_type": "stream",
     "text": [
      "Line Epoch 6/100, Loss: 0.5599\n"
     ]
    },
    {
     "name": "stdout",
     "output_type": "stream",
     "text": [
      "Line Epoch 7/100, Loss: 0.4873\n"
     ]
    },
    {
     "name": "stdout",
     "output_type": "stream",
     "text": [
      "Line Epoch 8/100, Loss: 0.5095\n"
     ]
    },
    {
     "name": "stdout",
     "output_type": "stream",
     "text": [
      "Line Epoch 9/100, Loss: 0.6031\n"
     ]
    },
    {
     "name": "stdout",
     "output_type": "stream",
     "text": [
      "Line Epoch 10/100, Loss: 0.3879\n"
     ]
    },
    {
     "name": "stdout",
     "output_type": "stream",
     "text": [
      "Line Epoch 11/100, Loss: 0.4814\n"
     ]
    },
    {
     "name": "stdout",
     "output_type": "stream",
     "text": [
      "Line Epoch 12/100, Loss: 0.3972\n"
     ]
    },
    {
     "name": "stdout",
     "output_type": "stream",
     "text": [
      "Line Epoch 13/100, Loss: 0.4263\n"
     ]
    },
    {
     "name": "stdout",
     "output_type": "stream",
     "text": [
      "Line Epoch 14/100, Loss: 0.5781\n"
     ]
    },
    {
     "name": "stdout",
     "output_type": "stream",
     "text": [
      "Line Epoch 15/100, Loss: 0.5186\n",
      "Early stopping line training at epoch 15\n",
      "Training completed!\n"
     ]
    },
    {
     "name": "stdout",
     "output_type": "stream",
     "text": [
      "Starting cell-level training...\n"
     ]
    },
    {
     "name": "stdout",
     "output_type": "stream",
     "text": [
      "Cell Epoch 1/100, Overall Loss: 0.7886, Active: 2/2\n",
      "  COX IV/Galectin3/atubulin - Loss: 0.8512, Acc: 0.4745 \n",
      "  FUS/EEA1 - Loss: 0.7260, Acc: 0.5345 \n"
     ]
    },
    {
     "name": "stdout",
     "output_type": "stream",
     "text": [
      "Cell Epoch 2/100, Overall Loss: 0.7563, Active: 2/2\n",
      "  COX IV/Galectin3/atubulin - Loss: 0.8322, Acc: 0.4583 \n",
      "  FUS/EEA1 - Loss: 0.6804, Acc: 0.5973 \n"
     ]
    },
    {
     "name": "stdout",
     "output_type": "stream",
     "text": [
      "Cell Epoch 3/100, Overall Loss: 0.7148, Active: 2/2\n",
      "  COX IV/Galectin3/atubulin - Loss: 0.7581, Acc: 0.5308 \n",
      "  FUS/EEA1 - Loss: 0.6715, Acc: 0.6013 \n"
     ]
    },
    {
     "name": "stdout",
     "output_type": "stream",
     "text": [
      "Cell Epoch 4/100, Overall Loss: 0.6821, Active: 2/2\n",
      "  COX IV/Galectin3/atubulin - Loss: 0.7246, Acc: 0.5595 \n",
      "  FUS/EEA1 - Loss: 0.6397, Acc: 0.6348 \n"
     ]
    },
    {
     "name": "stdout",
     "output_type": "stream",
     "text": [
      "Cell Epoch 5/100, Overall Loss: 0.7019, Active: 2/2\n",
      "  COX IV/Galectin3/atubulin - Loss: 0.7202, Acc: 0.5735 \n",
      "  FUS/EEA1 - Loss: 0.6835, Acc: 0.5890 \n"
     ]
    },
    {
     "name": "stdout",
     "output_type": "stream",
     "text": [
      "Cell Epoch 6/100, Overall Loss: 0.7108, Active: 2/2\n",
      "  COX IV/Galectin3/atubulin - Loss: 0.7571, Acc: 0.5493 \n",
      "  FUS/EEA1 - Loss: 0.6645, Acc: 0.6040 \n"
     ]
    },
    {
     "name": "stdout",
     "output_type": "stream",
     "text": [
      "Cell Epoch 7/100, Overall Loss: 0.6477, Active: 2/2\n",
      "  COX IV/Galectin3/atubulin - Loss: 0.6777, Acc: 0.6133 \n",
      "  FUS/EEA1 - Loss: 0.6176, Acc: 0.6555 \n"
     ]
    },
    {
     "name": "stdout",
     "output_type": "stream",
     "text": [
      "Cell Epoch 8/100, Overall Loss: 0.6697, Active: 2/2\n",
      "  COX IV/Galectin3/atubulin - Loss: 0.7070, Acc: 0.5863 \n",
      "  FUS/EEA1 - Loss: 0.6325, Acc: 0.6403 \n"
     ]
    },
    {
     "name": "stdout",
     "output_type": "stream",
     "text": [
      "Cell Epoch 9/100, Overall Loss: 0.6539, Active: 2/2\n",
      "  COX IV/Galectin3/atubulin - Loss: 0.6810, Acc: 0.6113 \n",
      "  FUS/EEA1 - Loss: 0.6268, Acc: 0.6488 \n"
     ]
    },
    {
     "name": "stdout",
     "output_type": "stream",
     "text": [
      "Cell Epoch 10/100, Overall Loss: 0.6499, Active: 2/2\n",
      "  COX IV/Galectin3/atubulin - Loss: 0.6634, Acc: 0.6175 \n",
      "  FUS/EEA1 - Loss: 0.6363, Acc: 0.6473 \n"
     ]
    },
    {
     "name": "stdout",
     "output_type": "stream",
     "text": [
      "Cell Epoch 11/100, Overall Loss: 0.6434, Active: 2/2\n",
      "  COX IV/Galectin3/atubulin - Loss: 0.6844, Acc: 0.5950 \n",
      "  FUS/EEA1 - Loss: 0.6023, Acc: 0.6820 \n"
     ]
    },
    {
     "name": "stdout",
     "output_type": "stream",
     "text": [
      "Cell Epoch 12/100, Overall Loss: 0.6611, Active: 2/2\n",
      "  COX IV/Galectin3/atubulin - Loss: 0.6841, Acc: 0.5955 \n",
      "  FUS/EEA1 - Loss: 0.6381, Acc: 0.6378 \n"
     ]
    },
    {
     "name": "stdout",
     "output_type": "stream",
     "text": [
      "Cell Epoch 13/100, Overall Loss: 0.6419, Active: 2/2\n",
      "  COX IV/Galectin3/atubulin - Loss: 0.6736, Acc: 0.6108 \n",
      "  FUS/EEA1 - Loss: 0.6102, Acc: 0.6653 \n"
     ]
    },
    {
     "name": "stdout",
     "output_type": "stream",
     "text": [
      "Cell Epoch 14/100, Overall Loss: 0.6580, Active: 2/2\n",
      "  COX IV/Galectin3/atubulin - Loss: 0.6598, Acc: 0.6138 \n",
      "  FUS/EEA1 - Loss: 0.6563, Acc: 0.6110 \n"
     ]
    },
    {
     "name": "stdout",
     "output_type": "stream",
     "text": [
      "Cell Epoch 15/100, Overall Loss: 0.6426, Active: 2/2\n",
      "  COX IV/Galectin3/atubulin - Loss: 0.6621, Acc: 0.6173 \n",
      "  FUS/EEA1 - Loss: 0.6232, Acc: 0.6485 \n"
     ]
    },
    {
     "name": "stdout",
     "output_type": "stream",
     "text": [
      "  Freezing FUS/EEA1 encoder at epoch 16\n",
      "Cell Epoch 16/100, Overall Loss: 0.6389, Active: 1/2\n",
      "  COX IV/Galectin3/atubulin - Loss: 0.6700, Acc: 0.6205 \n",
      "  FUS/EEA1 - Loss: 0.6078, Acc: 0.6583 [FROZEN]\n"
     ]
    },
    {
     "name": "stderr",
     "output_type": "stream",
     "text": [
      "/awlab/projects/2024_ALS/software/miniforge3/envs/maps/lib/python3.11/site-packages/torch/optim/lr_scheduler.py:182: UserWarning: Detected call of `lr_scheduler.step()` before `optimizer.step()`. In PyTorch 1.1.0 and later, you should call them in the opposite order: `optimizer.step()` before `lr_scheduler.step()`.  Failure to do this will result in PyTorch skipping the first value of the learning rate schedule. See more details at https://pytorch.org/docs/stable/optim.html#how-to-adjust-learning-rate\n",
      "  warnings.warn(\n"
     ]
    },
    {
     "name": "stdout",
     "output_type": "stream",
     "text": [
      "Cell Epoch 17/100, Overall Loss: 0.6952, Active: 1/2\n",
      "  COX IV/Galectin3/atubulin - Loss: 0.6952, Acc: 0.5810 \n",
      "  FUS/EEA1 - Loss: 0.0000, Acc: 0.0000 [FROZEN]\n"
     ]
    },
    {
     "name": "stdout",
     "output_type": "stream",
     "text": [
      "Cell Epoch 18/100, Overall Loss: 0.6423, Active: 1/2\n",
      "  COX IV/Galectin3/atubulin - Loss: 0.6423, Acc: 0.6330 \n",
      "  FUS/EEA1 - Loss: 0.0000, Acc: 0.0000 [FROZEN]\n"
     ]
    },
    {
     "name": "stdout",
     "output_type": "stream",
     "text": [
      "Cell Epoch 19/100, Overall Loss: 0.6466, Active: 1/2\n",
      "  COX IV/Galectin3/atubulin - Loss: 0.6466, Acc: 0.6303 \n",
      "  FUS/EEA1 - Loss: 0.0000, Acc: 0.0000 [FROZEN]\n"
     ]
    },
    {
     "name": "stdout",
     "output_type": "stream",
     "text": [
      "Cell Epoch 20/100, Overall Loss: 0.6760, Active: 1/2\n",
      "  COX IV/Galectin3/atubulin - Loss: 0.6760, Acc: 0.6070 \n",
      "  FUS/EEA1 - Loss: 0.0000, Acc: 0.0000 [FROZEN]\n"
     ]
    },
    {
     "name": "stdout",
     "output_type": "stream",
     "text": [
      "Cell Epoch 21/100, Overall Loss: 0.6132, Active: 1/2\n",
      "  COX IV/Galectin3/atubulin - Loss: 0.6132, Acc: 0.6653 \n",
      "  FUS/EEA1 - Loss: 0.0000, Acc: 0.0000 [FROZEN]\n"
     ]
    },
    {
     "name": "stdout",
     "output_type": "stream",
     "text": [
      "Cell Epoch 22/100, Overall Loss: 0.6303, Active: 1/2\n",
      "  COX IV/Galectin3/atubulin - Loss: 0.6303, Acc: 0.6583 \n",
      "  FUS/EEA1 - Loss: 0.0000, Acc: 0.0000 [FROZEN]\n"
     ]
    },
    {
     "name": "stdout",
     "output_type": "stream",
     "text": [
      "Cell Epoch 23/100, Overall Loss: 0.6453, Active: 1/2\n",
      "  COX IV/Galectin3/atubulin - Loss: 0.6453, Acc: 0.6353 \n",
      "  FUS/EEA1 - Loss: 0.0000, Acc: 0.0000 [FROZEN]\n"
     ]
    },
    {
     "name": "stdout",
     "output_type": "stream",
     "text": [
      "Cell Epoch 24/100, Overall Loss: 0.6321, Active: 1/2\n",
      "  COX IV/Galectin3/atubulin - Loss: 0.6321, Acc: 0.6468 \n",
      "  FUS/EEA1 - Loss: 0.0000, Acc: 0.0000 [FROZEN]\n"
     ]
    },
    {
     "name": "stdout",
     "output_type": "stream",
     "text": [
      "Cell Epoch 25/100, Overall Loss: 0.6741, Active: 1/2\n",
      "  COX IV/Galectin3/atubulin - Loss: 0.6741, Acc: 0.5998 \n",
      "  FUS/EEA1 - Loss: 0.0000, Acc: 0.0000 [FROZEN]\n"
     ]
    },
    {
     "name": "stdout",
     "output_type": "stream",
     "text": [
      "  Freezing COX IV/Galectin3/atubulin encoder at epoch 26\n",
      "Cell Epoch 26/100, Overall Loss: 0.6504, Active: 0/2\n",
      "  COX IV/Galectin3/atubulin - Loss: 0.6504, Acc: 0.6238 [FROZEN]\n",
      "  FUS/EEA1 - Loss: 0.0000, Acc: 0.0000 [FROZEN]\n",
      "All antibodies frozen - stopping cell training at epoch 26\n",
      "Starting line-level training...\n",
      "Unfreezing all antibody encoders for line training...\n"
     ]
    },
    {
     "name": "stdout",
     "output_type": "stream",
     "text": [
      "Line Epoch 1/100, Loss: 0.8734\n"
     ]
    },
    {
     "name": "stdout",
     "output_type": "stream",
     "text": [
      "Line Epoch 2/100, Loss: 0.7834\n"
     ]
    },
    {
     "name": "stdout",
     "output_type": "stream",
     "text": [
      "Line Epoch 3/100, Loss: 0.8096\n"
     ]
    },
    {
     "name": "stdout",
     "output_type": "stream",
     "text": [
      "Line Epoch 4/100, Loss: 0.7649\n"
     ]
    },
    {
     "name": "stdout",
     "output_type": "stream",
     "text": [
      "Line Epoch 5/100, Loss: 0.7830\n"
     ]
    },
    {
     "name": "stdout",
     "output_type": "stream",
     "text": [
      "Line Epoch 6/100, Loss: 0.7616\n"
     ]
    },
    {
     "name": "stdout",
     "output_type": "stream",
     "text": [
      "Line Epoch 7/100, Loss: 0.6500\n"
     ]
    },
    {
     "name": "stdout",
     "output_type": "stream",
     "text": [
      "Line Epoch 8/100, Loss: 0.7026\n"
     ]
    },
    {
     "name": "stdout",
     "output_type": "stream",
     "text": [
      "Line Epoch 9/100, Loss: 0.5930\n"
     ]
    },
    {
     "name": "stdout",
     "output_type": "stream",
     "text": [
      "Line Epoch 10/100, Loss: 0.5599\n"
     ]
    },
    {
     "name": "stdout",
     "output_type": "stream",
     "text": [
      "Line Epoch 11/100, Loss: 0.6436\n"
     ]
    },
    {
     "name": "stdout",
     "output_type": "stream",
     "text": [
      "Line Epoch 12/100, Loss: 0.5442\n"
     ]
    },
    {
     "name": "stdout",
     "output_type": "stream",
     "text": [
      "Line Epoch 13/100, Loss: 0.5608\n"
     ]
    },
    {
     "name": "stdout",
     "output_type": "stream",
     "text": [
      "Line Epoch 14/100, Loss: 0.6716\n"
     ]
    },
    {
     "name": "stdout",
     "output_type": "stream",
     "text": [
      "Line Epoch 15/100, Loss: 0.4831\n"
     ]
    },
    {
     "name": "stdout",
     "output_type": "stream",
     "text": [
      "Line Epoch 16/100, Loss: 0.5458\n"
     ]
    },
    {
     "name": "stdout",
     "output_type": "stream",
     "text": [
      "Line Epoch 17/100, Loss: 0.5301\n"
     ]
    },
    {
     "name": "stdout",
     "output_type": "stream",
     "text": [
      "Line Epoch 18/100, Loss: 0.5445\n"
     ]
    },
    {
     "name": "stdout",
     "output_type": "stream",
     "text": [
      "Line Epoch 19/100, Loss: 0.4865\n"
     ]
    },
    {
     "name": "stdout",
     "output_type": "stream",
     "text": [
      "Line Epoch 20/100, Loss: 0.4484\n"
     ]
    },
    {
     "name": "stdout",
     "output_type": "stream",
     "text": [
      "Line Epoch 21/100, Loss: 0.5550\n"
     ]
    },
    {
     "name": "stdout",
     "output_type": "stream",
     "text": [
      "Line Epoch 22/100, Loss: 0.5066\n"
     ]
    },
    {
     "name": "stdout",
     "output_type": "stream",
     "text": [
      "Line Epoch 23/100, Loss: 0.4932\n"
     ]
    },
    {
     "name": "stdout",
     "output_type": "stream",
     "text": [
      "Line Epoch 24/100, Loss: 0.4414\n"
     ]
    },
    {
     "name": "stdout",
     "output_type": "stream",
     "text": [
      "Line Epoch 25/100, Loss: 0.4643\n"
     ]
    },
    {
     "name": "stdout",
     "output_type": "stream",
     "text": [
      "Line Epoch 26/100, Loss: 0.5257\n"
     ]
    },
    {
     "name": "stdout",
     "output_type": "stream",
     "text": [
      "Line Epoch 27/100, Loss: 0.4057\n"
     ]
    },
    {
     "name": "stdout",
     "output_type": "stream",
     "text": [
      "Line Epoch 28/100, Loss: 0.4846\n"
     ]
    },
    {
     "name": "stdout",
     "output_type": "stream",
     "text": [
      "Line Epoch 29/100, Loss: 0.4174\n"
     ]
    },
    {
     "name": "stdout",
     "output_type": "stream",
     "text": [
      "Line Epoch 30/100, Loss: 0.4161\n"
     ]
    },
    {
     "name": "stdout",
     "output_type": "stream",
     "text": [
      "Line Epoch 31/100, Loss: 0.3907\n"
     ]
    },
    {
     "name": "stdout",
     "output_type": "stream",
     "text": [
      "Line Epoch 32/100, Loss: 0.3936\n"
     ]
    },
    {
     "name": "stdout",
     "output_type": "stream",
     "text": [
      "Line Epoch 33/100, Loss: 0.4672\n"
     ]
    },
    {
     "name": "stdout",
     "output_type": "stream",
     "text": [
      "Line Epoch 34/100, Loss: 0.4009\n"
     ]
    },
    {
     "name": "stdout",
     "output_type": "stream",
     "text": [
      "Line Epoch 35/100, Loss: 0.4798\n"
     ]
    },
    {
     "name": "stdout",
     "output_type": "stream",
     "text": [
      "Line Epoch 36/100, Loss: 0.3683\n"
     ]
    },
    {
     "name": "stdout",
     "output_type": "stream",
     "text": [
      "Line Epoch 37/100, Loss: 0.4458\n"
     ]
    },
    {
     "name": "stdout",
     "output_type": "stream",
     "text": [
      "Line Epoch 38/100, Loss: 0.4754\n"
     ]
    },
    {
     "name": "stdout",
     "output_type": "stream",
     "text": [
      "Line Epoch 39/100, Loss: 0.3592\n"
     ]
    },
    {
     "name": "stdout",
     "output_type": "stream",
     "text": [
      "Line Epoch 40/100, Loss: 0.5052\n"
     ]
    },
    {
     "name": "stdout",
     "output_type": "stream",
     "text": [
      "Line Epoch 41/100, Loss: 0.4226\n"
     ]
    },
    {
     "name": "stdout",
     "output_type": "stream",
     "text": [
      "Line Epoch 42/100, Loss: 0.4197\n"
     ]
    },
    {
     "name": "stdout",
     "output_type": "stream",
     "text": [
      "Line Epoch 43/100, Loss: 0.3711\n"
     ]
    },
    {
     "name": "stdout",
     "output_type": "stream",
     "text": [
      "Line Epoch 44/100, Loss: 0.4511\n",
      "Early stopping line training at epoch 44\n",
      "Training completed!\n"
     ]
    }
   ],
   "source": [
    "from maps.analyses import MAP\n",
    "map_analysis = MAP(screen)\n",
    "map_analysis.fit()"
   ]
  },
  {
   "cell_type": "code",
   "execution_count": 6,
   "id": "30a4e9c6",
   "metadata": {
    "execution": {
     "iopub.execute_input": "2025-10-08T17:10:46.963287Z",
     "iopub.status.busy": "2025-10-08T17:10:46.962149Z",
     "iopub.status.idle": "2025-10-08T17:10:48.697064Z",
     "shell.execute_reply": "2025-10-08T17:10:48.695777Z"
    },
    "papermill": {
     "duration": 1.769083,
     "end_time": "2025-10-08T17:10:48.699175",
     "exception": false,
     "start_time": "2025-10-08T17:10:46.930092",
     "status": "completed"
    },
    "tags": []
   },
   "outputs": [],
   "source": [
    "import pickle\n",
    "\n",
    "output_dir = Path(params.get(\"result_dir\")) / params.get(\"screen\")\n",
    "with open(output_dir / \"binary.pkl\", \"wb\") as f:\n",
    "    pickle.dump({\"analysis\": map_analysis, \"params\": params}, f)"
   ]
  }
 ],
 "metadata": {
  "kernelspec": {
   "display_name": "maps",
   "language": "python",
   "name": "python3"
  },
  "language_info": {
   "codemirror_mode": {
    "name": "ipython",
    "version": 3
   },
   "file_extension": ".py",
   "mimetype": "text/x-python",
   "name": "python",
   "nbconvert_exporter": "python",
   "pygments_lexer": "ipython3",
   "version": "3.11.13"
  },
  "papermill": {
   "default_parameters": {},
   "duration": 3669.129118,
   "end_time": "2025-10-08T17:10:53.568992",
   "environment_variables": {},
   "exception": null,
   "input_path": "binary.ipynb",
   "output_path": "binary_20250216_AWALS37_Full_screen_n96.ipynb",
   "parameters": {
    "SCREEN": "20250216_AWALS37_Full_screen_n96"
   },
   "start_time": "2025-10-08T16:09:44.439874",
   "version": "2.6.0"
  }
 },
 "nbformat": 4,
 "nbformat_minor": 5
}