{
 "cells": [
  {
   "cell_type": "code",
   "execution_count": 1,
   "id": "f2aa07b7",
   "metadata": {},
   "outputs": [
    {
     "name": "stdout",
     "output_type": "stream",
     "text": [
      "{\n",
      "    \"name\": \"maps_dmso\",\n",
      "    \"screen\": \"20250216_AWALS37_Full_screen_n96\",\n",
      "    \"root\": \"/awlab/projects/2024_ALS/Experiments\",\n",
      "    \"data_file\": \"Objects_Population - Nuclei Selected.txt\",\n",
      "    \"eval_dir\": \"Evaluation1\",\n",
      "    \"preprocess\": {\n",
      "        \"drop_na_features\": {\n",
      "            \"na_prop\": 0.1\n",
      "        },\n",
      "        \"drop_sample_by_feature\": {\n",
      "            \"drop_key\": [\n",
      "                {\n",
      "                    \"CellLines\": [\n",
      "                        \"C9014\",\n",
      "                        \"NS048\"\n",
      "                    ]\n",
      "                }\n",
      "            ]\n",
      "        },\n",
      "        \"select_sample_by_feature\": {\n",
      "            \"select_key\": [\n",
      "                {\n",
      "                    \"Drugs\": [\n",
      "                        \"DMSO\"\n",
      "                    ],\n",
      "                    \"Mutations\": [\n",
      "                        \"FUS\",\n",
      "                        \"WT\"\n",
      "                    ]\n",
      "                }\n",
      "            ]\n",
      "        },\n",
      "        \"drop_cells_by_feature_qt\": {\n",
      "            \"feature_filters\": {\n",
      "                \"Nucleus_Region_Area_[\\u00b5m\\u00b2]\": 0.05,\n",
      "                \"Cell_Region_Area_[\\u00b5m\\u00b2]\": 0.05\n",
      "            }\n",
      "        },\n",
      "        \"select_feature_types\": {\n",
      "            \"feature_str\": \"^.*Intensity.*$|^.*Spot.*$\"\n",
      "        },\n",
      "        \"drop_feature_types\": {\n",
      "            \"feature_str\": \"^.*Sum.*$|^.*HOECHST.*$|^.*546.*$\"\n",
      "        },\n",
      "        \"drop_constant_features\": {},\n",
      "        \"standardize_features\": {}\n",
      "    },\n",
      "    \"analysis\": {\n",
      "        \"MAP\": {\n",
      "            \"model\": {\n",
      "                \"MultiAntibody\": {}\n",
      "            },\n",
      "            \"seed\": 47,\n",
      "            \"response\": \"Mutations\",\n",
      "            \"fitter\": \"leave_one_out\"\n",
      "        }\n",
      "    }\n",
      "}\n"
     ]
    }
   ],
   "source": [
    "import pandas as pd\n",
    "import torch\n",
    "\n",
    "from maps.screens import ImageScreenMultiAntibody\n",
    "from maps.multiantibody.data_loaders import create_multiantibody_dataloader\n",
    "from maps.multiantibody.models import MultiAntibodyClassifier\n",
    "from maps.multiantibody.training import train\n",
    "from maps.multiantibody.config import TrainConfig, ModelConfig, DataLoaderConfig\n",
    "\n",
    "import json\n",
    "import wandb\n",
    "from sklearn.metrics import roc_auc_score\n",
    "\n",
    "# --- Initialize parameters ---\n",
    "pdir = \"/home/kkumbier/als/scripts/maps/template_analyses/params/\"\n",
    "with open(pdir + \"maps_multiantibody.json\", \"r\") as f:\n",
    "    params = json.load(f)\n",
    "    \n",
    "\n",
    "dataloader_config = DataLoaderConfig()\n",
    "train_config = TrainConfig()\n",
    "model_config = ModelConfig()\n",
    "model_config.n_classes = 2\n",
    "\n",
    "print(json.dumps(params, indent=4))\n"
   ]
  },
  {
   "cell_type": "code",
   "execution_count": null,
   "id": "9922e4f1",
   "metadata": {},
   "outputs": [],
   "source": [
    "# Create and load screen\n",
    "screen = ImageScreenMultiAntibody(params)\n",
    "screen.load(antibody=[\"FUS/EEA1\"])\n",
    "screen.preprocess()"
   ]
  },
  {
   "cell_type": "code",
   "execution_count": 3,
   "id": "4c42c307",
   "metadata": {},
   "outputs": [],
   "source": [
    "dataloader = create_multiantibody_dataloader(\n",
    "    screen,\n",
    "    **vars(dataloader_config)\n",
    ")"
   ]
  },
  {
   "cell_type": "code",
   "execution_count": 4,
   "id": "dd67b3f8",
   "metadata": {},
   "outputs": [
    {
     "name": "stdout",
     "output_type": "stream",
     "text": [
      "Epoch 1/10, Loss: 1.00300931930542\n",
      "Epoch 2/10, Loss: 1.1400103569030762\n",
      "Epoch 3/10, Loss: 0.9668740034103394\n",
      "Epoch 4/10, Loss: 1.0532829761505127\n",
      "Epoch 5/10, Loss: 1.078003168106079\n",
      "Epoch 6/10, Loss: 0.9099025726318359\n",
      "Epoch 7/10, Loss: 1.0770238637924194\n",
      "Epoch 8/10, Loss: 1.065738558769226\n",
      "Epoch 9/10, Loss: 0.8835322856903076\n",
      "Epoch 10/10, Loss: 0.9150745272636414\n"
     ]
    }
   ],
   "source": [
    "# Initiaize model and train\n",
    "model_config.antibody_feature_dims = dataloader._get_feature_dims()\n",
    "model = MultiAntibodyClassifier(**vars(model_config))\n",
    "train(model, dataloader, train_config)"
   ]
  },
  {
   "cell_type": "code",
   "execution_count": 5,
   "id": "0c2e8fb3",
   "metadata": {},
   "outputs": [
    {
     "name": "stdout",
     "output_type": "stream",
     "text": [
      "torch.Size([64])\n",
      "Group1: 1.0110417604446411\n",
      "Group2: 0.9889581799507141\n"
     ]
    }
   ],
   "source": [
    "line_head = model.line_head\n",
    "feature_weight = line_head.fc.weight.abs().softmax(dim=-1)\n",
    "feature_weight = feature_weight.sum(dim=0)\n",
    "print(feature_weight.shape)\n",
    "print(f\"Group1: {feature_weight[:32].sum()}\")\n",
    "print(f\"Group2: {feature_weight[32:].sum()}\")"
   ]
  },
  {
   "cell_type": "code",
   "execution_count": 6,
   "id": "e71979c8",
   "metadata": {},
   "outputs": [
    {
     "name": "stdout",
     "output_type": "stream",
     "text": [
      "cuda:0\n"
     ]
    }
   ],
   "source": [
    "model.eval()\n",
    "all_probs = []\n",
    "all_labels = []\n",
    "all_lines = []\n",
    "dataloader.mode = \"eval\"  # Set dataloader to evaluation mode\n",
    "device = next(model.parameters()).device  # Get device from model parameters\n",
    "print(device)\n",
    "\n",
    "with torch.no_grad():\n",
    "    for batch in dataloader:\n",
    "        if batch is None:\n",
    "            continue\n",
    "        \n",
    "        x_dict = {ab: batch[ab][0].to(device) for ab in batch}\n",
    "        y_line = batch[list(batch.keys())[0]][1].to(device)\n",
    "        cl = [batch[list(batch.keys())[0]][-1]]\n",
    "        _, line_logits = model(x_dict)\n",
    "        probs = torch.softmax(line_logits, dim=1)\n",
    "        all_probs.append(probs.cpu())\n",
    "        all_labels.append(y_line.cpu())\n",
    "        all_lines.extend(cl)\n",
    "\n",
    "all_probs = torch.cat(all_probs, dim=0)\n",
    "all_labels = torch.cat(all_labels, dim=0)\n",
    "\n",
    "preds = pd.DataFrame(all_probs.numpy())\n",
    "preds.columns = [f\"Class_{i}\" for i in range(model_config.n_classes)]   \n",
    "preds[\"CellLines\"] = all_lines\n",
    "preds[\"True\"] = all_labels.numpy()"
   ]
  },
  {
   "cell_type": "code",
   "execution_count": 7,
   "id": "7c7e4fb8",
   "metadata": {},
   "outputs": [
    {
     "name": "stdout",
     "output_type": "stream",
     "text": [
      "     Class_0   Class_1 CellLines  True\n",
      "11  0.069124  0.930876     FTD75     0\n",
      "16  0.054935  0.945065   ND29563     1\n",
      "13  0.046083  0.953917    GIH158     0\n",
      "3   0.041696  0.958304     ALS18     0\n",
      "7   0.038726  0.961274  CRL-2201     0\n",
      "27  0.034986  0.965014     NS045     1\n",
      "4   0.033842  0.966158     ALS20     0\n",
      "8   0.032774  0.967226  CRL-2510     0\n",
      "30  0.028189  0.971811    SS2032     1\n",
      "0   0.026562  0.973438        11     0\n",
      "25  0.025578  0.974422     NS036     1\n",
      "1   0.021630  0.978370      ALS1     0\n",
      "26  0.017453  0.982547     NS044     1\n",
      "10  0.016219  0.983781     FTD73     0\n",
      "12  0.015109  0.984891   GIH-130     1\n",
      "5   0.014874  0.985126     ALS24     0\n",
      "28  0.013457  0.986543     NS046     1\n",
      "15  0.012260  0.987740     GIH91     0\n",
      "23  0.011152  0.988848     NS030     1\n",
      "22  0.011111  0.988889     NS020     1\n",
      "14  0.011092  0.988908    GIH166     0\n",
      "20  0.011073  0.988927     NS003     1\n",
      "6   0.009591  0.990409     ALS45     0\n",
      "2   0.009372  0.990628     ALS15     0\n",
      "18  0.008753  0.991247   ND40077     1\n",
      "21  0.008694  0.991306     NS007     1\n",
      "24  0.007604  0.992396     NS034     1\n",
      "9   0.005573  0.994427     FTD37     0\n",
      "17  0.001295  0.998705   ND39027     1\n",
      "19  0.000121  0.999879     NS002     1\n",
      "29  0.000081  0.999919    SS2031     1\n"
     ]
    }
   ],
   "source": [
    "print(preds.sort_values(\"Class_0\", ascending=False))"
   ]
  }
 ],
 "metadata": {
  "kernelspec": {
   "display_name": "maps",
   "language": "python",
   "name": "python3"
  },
  "language_info": {
   "codemirror_mode": {
    "name": "ipython",
    "version": 3
   },
   "file_extension": ".py",
   "mimetype": "text/x-python",
   "name": "python",
   "nbconvert_exporter": "python",
   "pygments_lexer": "ipython3",
   "version": "3.11.13"
  }
 },
 "nbformat": 4,
 "nbformat_minor": 5
}
